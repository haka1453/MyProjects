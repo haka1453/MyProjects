{
 "cells": [
  {
   "cell_type": "markdown",
   "metadata": {},
   "source": [
    "___\n",
    "\n",
    "<p style=\"text-align: center;\"><img src=\"https://docs.google.com/uc?id=1lY0Uj5R04yMY3-ZppPWxqCr5pvBLYPnV\" class=\"img-fluid\" alt=\"CLRSWY\"></p>\n",
    "\n",
    "___"
   ]
  },
  {
   "cell_type": "markdown",
   "metadata": {},
   "source": [
    "#  The Capstone Project of Data Analytics Module\n",
    "\n",
    "# Car Price Prediction EDA"
   ]
  },
  {
   "cell_type": "markdown",
   "metadata": {},
   "source": [
    "## Introduction\n",
    "Welcome to \"***Car Price Prediction EDA Project***\". This is the capstone project of ***Data Analytics*** Module. **Auto Scout** data which using for this project, scraped from the on-line car trading company in 2019, contains many features of 9 different car models. In this project, you will have the opportunity to apply many commonly used algorithms for Data Cleaning and Exploratory Data Analysis by using many Python libraries such as Numpy, Pandas, Matplotlib, Seaborn, Scipy.\n",
    "\n",
    "The project consists of 3 parts:\n",
    "* First part is related with 'data cleaning'. It deals with Incorrect Headers, Incorrect Format, Anomalies, Dropping useless columns.\n",
    "* Second part is related with 'filling data'. It deals with Missing Values. Categorical to numeric transformation is done.\n",
    "* Third part is related with 'handling outliers of data' via Visualisation libraries. Some insights are extracted."
   ]
  },
  {
   "cell_type": "markdown",
   "metadata": {},
   "source": [
    "# PART- 1 `( Data Cleaning )`"
   ]
  },
  {
   "cell_type": "code",
   "execution_count": 239,
   "metadata": {},
   "outputs": [],
   "source": [
    "import numpy as np\n",
    "import pandas as pd\n",
    "import seaborn as sns \n",
    "import matplotlib.pyplot as plt\n",
    "\n",
    "import warnings\n",
    "warnings.filterwarnings(\"ignore\")\n",
    "warnings.warn(\"this will not show\")\n",
    "\n",
    "%matplotlib inline\n",
    "# %matplotlib notebook\n",
    "\n",
    "plt.rcParams[\"figure.figsize\"] = (10,6)\n",
    "# plt.rcParams['figure.dpi'] = 100\n",
    "\n",
    "sns.set_style(\"whitegrid\")\n",
    "pd.set_option('display.float_format', lambda x: '%.3f' % x)\n",
    "\n",
    "pd.options.display.max_rows = 100\n",
    "pd.options.display.max_columns = 100"
   ]
  },
  {
   "cell_type": "code",
   "execution_count": 240,
   "metadata": {},
   "outputs": [],
   "source": [
    "df = pd.read_json(\"scout_car.json\", lines=True)"
   ]
  },
  {
   "cell_type": "code",
   "execution_count": 241,
   "metadata": {},
   "outputs": [
    {
     "data": {
      "text/html": [
       "<div>\n",
       "<style scoped>\n",
       "    .dataframe tbody tr th:only-of-type {\n",
       "        vertical-align: middle;\n",
       "    }\n",
       "\n",
       "    .dataframe tbody tr th {\n",
       "        vertical-align: top;\n",
       "    }\n",
       "\n",
       "    .dataframe thead th {\n",
       "        text-align: right;\n",
       "    }\n",
       "</style>\n",
       "<table border=\"1\" class=\"dataframe\">\n",
       "  <thead>\n",
       "    <tr style=\"text-align: right;\">\n",
       "      <th></th>\n",
       "      <th>0</th>\n",
       "      <th>1</th>\n",
       "      <th>2</th>\n",
       "    </tr>\n",
       "  </thead>\n",
       "  <tbody>\n",
       "    <tr>\n",
       "      <th>url</th>\n",
       "      <td>https://www.autoscout24.com//offers/audi-a1-sp...</td>\n",
       "      <td>https://www.autoscout24.com//offers/audi-a1-1-...</td>\n",
       "      <td>https://www.autoscout24.com//offers/audi-a1-sp...</td>\n",
       "    </tr>\n",
       "    <tr>\n",
       "      <th>make_model</th>\n",
       "      <td>Audi A1</td>\n",
       "      <td>Audi A1</td>\n",
       "      <td>Audi A1</td>\n",
       "    </tr>\n",
       "    <tr>\n",
       "      <th>short_description</th>\n",
       "      <td>Sportback 1.4 TDI S-tronic Xenon Navi Klima</td>\n",
       "      <td>1.8 TFSI sport</td>\n",
       "      <td>Sportback 1.6 TDI S tronic Einparkhilfe plus+m...</td>\n",
       "    </tr>\n",
       "    <tr>\n",
       "      <th>body_type</th>\n",
       "      <td>Sedans</td>\n",
       "      <td>Sedans</td>\n",
       "      <td>Sedans</td>\n",
       "    </tr>\n",
       "    <tr>\n",
       "      <th>price</th>\n",
       "      <td>15770</td>\n",
       "      <td>14500</td>\n",
       "      <td>14640</td>\n",
       "    </tr>\n",
       "    <tr>\n",
       "      <th>vat</th>\n",
       "      <td>VAT deductible</td>\n",
       "      <td>Price negotiable</td>\n",
       "      <td>VAT deductible</td>\n",
       "    </tr>\n",
       "    <tr>\n",
       "      <th>km</th>\n",
       "      <td>56,013 km</td>\n",
       "      <td>80,000 km</td>\n",
       "      <td>83,450 km</td>\n",
       "    </tr>\n",
       "    <tr>\n",
       "      <th>registration</th>\n",
       "      <td>01/2016</td>\n",
       "      <td>03/2017</td>\n",
       "      <td>02/2016</td>\n",
       "    </tr>\n",
       "    <tr>\n",
       "      <th>prev_owner</th>\n",
       "      <td>2 previous owners</td>\n",
       "      <td>None</td>\n",
       "      <td>1 previous owner</td>\n",
       "    </tr>\n",
       "    <tr>\n",
       "      <th>kW</th>\n",
       "      <td>NaN</td>\n",
       "      <td>NaN</td>\n",
       "      <td>NaN</td>\n",
       "    </tr>\n",
       "    <tr>\n",
       "      <th>hp</th>\n",
       "      <td>66 kW</td>\n",
       "      <td>141 kW</td>\n",
       "      <td>85 kW</td>\n",
       "    </tr>\n",
       "    <tr>\n",
       "      <th>Type</th>\n",
       "      <td>[, Used, , Diesel (Particulate Filter)]</td>\n",
       "      <td>[, Used, , Gasoline]</td>\n",
       "      <td>[, Used, , Diesel (Particulate Filter)]</td>\n",
       "    </tr>\n",
       "    <tr>\n",
       "      <th>Previous Owners</th>\n",
       "      <td>\\n2\\n</td>\n",
       "      <td>NaN</td>\n",
       "      <td>\\n1\\n</td>\n",
       "    </tr>\n",
       "    <tr>\n",
       "      <th>Next Inspection</th>\n",
       "      <td>[\\n06/2021\\n, \\n99 g CO2/km (comb)\\n]</td>\n",
       "      <td>NaN</td>\n",
       "      <td>NaN</td>\n",
       "    </tr>\n",
       "    <tr>\n",
       "      <th>Inspection new</th>\n",
       "      <td>[\\nYes\\n, \\nEuro 6\\n]</td>\n",
       "      <td>NaN</td>\n",
       "      <td>NaN</td>\n",
       "    </tr>\n",
       "    <tr>\n",
       "      <th>Warranty</th>\n",
       "      <td>[\\n, \\n, \\n4 (Green)\\n]</td>\n",
       "      <td>NaN</td>\n",
       "      <td>[\\n, \\n, \\n99 g CO2/km (comb)\\n]</td>\n",
       "    </tr>\n",
       "    <tr>\n",
       "      <th>Full Service</th>\n",
       "      <td>[\\n, \\n]</td>\n",
       "      <td>NaN</td>\n",
       "      <td>NaN</td>\n",
       "    </tr>\n",
       "    <tr>\n",
       "      <th>Non-smoking Vehicle</th>\n",
       "      <td>[\\n, \\n]</td>\n",
       "      <td>NaN</td>\n",
       "      <td>NaN</td>\n",
       "    </tr>\n",
       "    <tr>\n",
       "      <th>null</th>\n",
       "      <td>[]</td>\n",
       "      <td>[]</td>\n",
       "      <td>[]</td>\n",
       "    </tr>\n",
       "    <tr>\n",
       "      <th>Make</th>\n",
       "      <td>\\nAudi\\n</td>\n",
       "      <td>\\nAudi\\n</td>\n",
       "      <td>\\nAudi\\n</td>\n",
       "    </tr>\n",
       "    <tr>\n",
       "      <th>Model</th>\n",
       "      <td>[\\n, A1, \\n]</td>\n",
       "      <td>[\\n, A1, \\n]</td>\n",
       "      <td>[\\n, A1, \\n]</td>\n",
       "    </tr>\n",
       "    <tr>\n",
       "      <th>Offer Number</th>\n",
       "      <td>[\\nLR-062483\\n]</td>\n",
       "      <td>NaN</td>\n",
       "      <td>[\\nAM-95365\\n]</td>\n",
       "    </tr>\n",
       "    <tr>\n",
       "      <th>First Registration</th>\n",
       "      <td>[\\n, 2016, \\n]</td>\n",
       "      <td>[\\n, 2017, \\n]</td>\n",
       "      <td>[\\n, 2016, \\n]</td>\n",
       "    </tr>\n",
       "    <tr>\n",
       "      <th>Body Color</th>\n",
       "      <td>[\\n, Black, \\n]</td>\n",
       "      <td>[\\n, Red, \\n]</td>\n",
       "      <td>[\\n, Black, \\n]</td>\n",
       "    </tr>\n",
       "    <tr>\n",
       "      <th>Paint Type</th>\n",
       "      <td>[\\nMetallic\\n]</td>\n",
       "      <td>NaN</td>\n",
       "      <td>[\\nMetallic\\n]</td>\n",
       "    </tr>\n",
       "    <tr>\n",
       "      <th>Body Color Original</th>\n",
       "      <td>[\\nMythosschwarz\\n]</td>\n",
       "      <td>NaN</td>\n",
       "      <td>[\\nmythosschwarz metallic\\n]</td>\n",
       "    </tr>\n",
       "    <tr>\n",
       "      <th>Upholstery</th>\n",
       "      <td>[\\nCloth, Black\\n]</td>\n",
       "      <td>[\\nCloth, Grey\\n]</td>\n",
       "      <td>[\\nCloth, Black\\n]</td>\n",
       "    </tr>\n",
       "    <tr>\n",
       "      <th>Body</th>\n",
       "      <td>[\\n, Sedans, \\n]</td>\n",
       "      <td>[\\n, Sedans, \\n]</td>\n",
       "      <td>[\\n, Sedans, \\n]</td>\n",
       "    </tr>\n",
       "    <tr>\n",
       "      <th>Nr. of Doors</th>\n",
       "      <td>[\\n5\\n]</td>\n",
       "      <td>[\\n3\\n]</td>\n",
       "      <td>[\\n4\\n]</td>\n",
       "    </tr>\n",
       "    <tr>\n",
       "      <th>Nr. of Seats</th>\n",
       "      <td>[\\n5\\n]</td>\n",
       "      <td>[\\n4\\n]</td>\n",
       "      <td>[\\n4\\n]</td>\n",
       "    </tr>\n",
       "    <tr>\n",
       "      <th>Model Code</th>\n",
       "      <td>[\\n0588/BDF\\n]</td>\n",
       "      <td>[\\n0588/BCY\\n]</td>\n",
       "      <td>NaN</td>\n",
       "    </tr>\n",
       "    <tr>\n",
       "      <th>Gearing Type</th>\n",
       "      <td>[\\n, Automatic, \\n]</td>\n",
       "      <td>[\\n, Automatic, \\n]</td>\n",
       "      <td>[\\n, Automatic, \\n]</td>\n",
       "    </tr>\n",
       "    <tr>\n",
       "      <th>Displacement</th>\n",
       "      <td>[\\n1,422 cc\\n]</td>\n",
       "      <td>[\\n1,798 cc\\n]</td>\n",
       "      <td>[\\n1,598 cc\\n]</td>\n",
       "    </tr>\n",
       "    <tr>\n",
       "      <th>Cylinders</th>\n",
       "      <td>[\\n3\\n]</td>\n",
       "      <td>[\\n4\\n]</td>\n",
       "      <td>NaN</td>\n",
       "    </tr>\n",
       "    <tr>\n",
       "      <th>Weight</th>\n",
       "      <td>[\\n1,220 kg\\n]</td>\n",
       "      <td>[\\n1,255 kg\\n]</td>\n",
       "      <td>NaN</td>\n",
       "    </tr>\n",
       "    <tr>\n",
       "      <th>Drive chain</th>\n",
       "      <td>[\\nfront\\n]</td>\n",
       "      <td>[\\nfront\\n]</td>\n",
       "      <td>[\\nfront\\n]</td>\n",
       "    </tr>\n",
       "    <tr>\n",
       "      <th>Fuel</th>\n",
       "      <td>[\\n, Diesel (Particulate Filter), \\n]</td>\n",
       "      <td>[\\n, Gasoline, \\n]</td>\n",
       "      <td>[\\n, Diesel (Particulate Filter), \\n]</td>\n",
       "    </tr>\n",
       "    <tr>\n",
       "      <th>Consumption</th>\n",
       "      <td>[[3.8 l/100 km (comb)], [4.3 l/100 km (city)],...</td>\n",
       "      <td>[[5.6 l/100 km (comb)], [7.1 l/100 km (city)],...</td>\n",
       "      <td>[[3.8 l/100 km (comb)], [4.4 l/100 km (city)],...</td>\n",
       "    </tr>\n",
       "    <tr>\n",
       "      <th>CO2 Emission</th>\n",
       "      <td>[\\n99 g CO2/km (comb)\\n]</td>\n",
       "      <td>[\\n129 g CO2/km (comb)\\n]</td>\n",
       "      <td>[\\n99 g CO2/km (comb)\\n]</td>\n",
       "    </tr>\n",
       "    <tr>\n",
       "      <th>Emission Class</th>\n",
       "      <td>[\\nEuro 6\\n]</td>\n",
       "      <td>[\\nEuro 6\\n]</td>\n",
       "      <td>[\\nEuro 6\\n]</td>\n",
       "    </tr>\n",
       "    <tr>\n",
       "      <th>\\nComfort &amp; Convenience\\n</th>\n",
       "      <td>[Air conditioning, Armrest, Automatic climate ...</td>\n",
       "      <td>[Air conditioning, Automatic climate control, ...</td>\n",
       "      <td>[Air conditioning, Cruise control, Electrical ...</td>\n",
       "    </tr>\n",
       "    <tr>\n",
       "      <th>\\nEntertainment &amp; Media\\n</th>\n",
       "      <td>[Bluetooth, Hands-free equipment, On-board com...</td>\n",
       "      <td>[Bluetooth, Hands-free equipment, On-board com...</td>\n",
       "      <td>[MP3, On-board computer]</td>\n",
       "    </tr>\n",
       "    <tr>\n",
       "      <th>\\nExtras\\n</th>\n",
       "      <td>[Alloy wheels, Catalytic Converter, Voice Cont...</td>\n",
       "      <td>[Alloy wheels, Sport seats, Sport suspension, ...</td>\n",
       "      <td>[Alloy wheels, Voice Control]</td>\n",
       "    </tr>\n",
       "    <tr>\n",
       "      <th>\\nSafety &amp; Security\\n</th>\n",
       "      <td>[ABS, Central door lock, Daytime running light...</td>\n",
       "      <td>[ABS, Central door lock, Central door lock wit...</td>\n",
       "      <td>[ABS, Central door lock, Daytime running light...</td>\n",
       "    </tr>\n",
       "    <tr>\n",
       "      <th>description</th>\n",
       "      <td>[\\n, Sicherheit:,  , Deaktivierung für Beifahr...</td>\n",
       "      <td>[\\nLangstreckenfahrzeug daher die hohe Kilomet...</td>\n",
       "      <td>[\\n, Fahrzeug-Nummer: AM-95365,  , Ehem. UPE 2...</td>\n",
       "    </tr>\n",
       "    <tr>\n",
       "      <th>Emission Label</th>\n",
       "      <td>NaN</td>\n",
       "      <td>[\\n4 (Green)\\n]</td>\n",
       "      <td>[\\n4 (Green)\\n]</td>\n",
       "    </tr>\n",
       "    <tr>\n",
       "      <th>Gears</th>\n",
       "      <td>NaN</td>\n",
       "      <td>[\\n7\\n]</td>\n",
       "      <td>NaN</td>\n",
       "    </tr>\n",
       "    <tr>\n",
       "      <th>Country version</th>\n",
       "      <td>NaN</td>\n",
       "      <td>NaN</td>\n",
       "      <td>NaN</td>\n",
       "    </tr>\n",
       "    <tr>\n",
       "      <th>Electricity consumption</th>\n",
       "      <td>NaN</td>\n",
       "      <td>NaN</td>\n",
       "      <td>NaN</td>\n",
       "    </tr>\n",
       "    <tr>\n",
       "      <th>Last Service Date</th>\n",
       "      <td>NaN</td>\n",
       "      <td>NaN</td>\n",
       "      <td>NaN</td>\n",
       "    </tr>\n",
       "    <tr>\n",
       "      <th>Other Fuel Types</th>\n",
       "      <td>NaN</td>\n",
       "      <td>NaN</td>\n",
       "      <td>NaN</td>\n",
       "    </tr>\n",
       "    <tr>\n",
       "      <th>Availability</th>\n",
       "      <td>NaN</td>\n",
       "      <td>NaN</td>\n",
       "      <td>NaN</td>\n",
       "    </tr>\n",
       "    <tr>\n",
       "      <th>Last Timing Belt Service Date</th>\n",
       "      <td>NaN</td>\n",
       "      <td>NaN</td>\n",
       "      <td>NaN</td>\n",
       "    </tr>\n",
       "    <tr>\n",
       "      <th>Available from</th>\n",
       "      <td>NaN</td>\n",
       "      <td>NaN</td>\n",
       "      <td>NaN</td>\n",
       "    </tr>\n",
       "  </tbody>\n",
       "</table>\n",
       "</div>"
      ],
      "text/plain": [
       "                                                                               0  \\\n",
       "url                            https://www.autoscout24.com//offers/audi-a1-sp...   \n",
       "make_model                                                               Audi A1   \n",
       "short_description                    Sportback 1.4 TDI S-tronic Xenon Navi Klima   \n",
       "body_type                                                                 Sedans   \n",
       "price                                                                      15770   \n",
       "vat                                                               VAT deductible   \n",
       "km                                                                     56,013 km   \n",
       "registration                                                             01/2016   \n",
       "prev_owner                                                     2 previous owners   \n",
       "kW                                                                           NaN   \n",
       "hp                                                                         66 kW   \n",
       "Type                                     [, Used, , Diesel (Particulate Filter)]   \n",
       "Previous Owners                                                            \\n2\\n   \n",
       "Next Inspection                            [\\n06/2021\\n, \\n99 g CO2/km (comb)\\n]   \n",
       "Inspection new                                             [\\nYes\\n, \\nEuro 6\\n]   \n",
       "Warranty                                                 [\\n, \\n, \\n4 (Green)\\n]   \n",
       "Full Service                                                            [\\n, \\n]   \n",
       "Non-smoking Vehicle                                                     [\\n, \\n]   \n",
       "null                                                                          []   \n",
       "Make                                                                    \\nAudi\\n   \n",
       "Model                                                               [\\n, A1, \\n]   \n",
       "Offer Number                                                     [\\nLR-062483\\n]   \n",
       "First Registration                                                [\\n, 2016, \\n]   \n",
       "Body Color                                                       [\\n, Black, \\n]   \n",
       "Paint Type                                                        [\\nMetallic\\n]   \n",
       "Body Color Original                                          [\\nMythosschwarz\\n]   \n",
       "Upholstery                                                    [\\nCloth, Black\\n]   \n",
       "Body                                                            [\\n, Sedans, \\n]   \n",
       "Nr. of Doors                                                             [\\n5\\n]   \n",
       "Nr. of Seats                                                             [\\n5\\n]   \n",
       "Model Code                                                        [\\n0588/BDF\\n]   \n",
       "Gearing Type                                                 [\\n, Automatic, \\n]   \n",
       "Displacement                                                      [\\n1,422 cc\\n]   \n",
       "Cylinders                                                                [\\n3\\n]   \n",
       "Weight                                                            [\\n1,220 kg\\n]   \n",
       "Drive chain                                                          [\\nfront\\n]   \n",
       "Fuel                                       [\\n, Diesel (Particulate Filter), \\n]   \n",
       "Consumption                    [[3.8 l/100 km (comb)], [4.3 l/100 km (city)],...   \n",
       "CO2 Emission                                            [\\n99 g CO2/km (comb)\\n]   \n",
       "Emission Class                                                      [\\nEuro 6\\n]   \n",
       "\\nComfort & Convenience\\n      [Air conditioning, Armrest, Automatic climate ...   \n",
       "\\nEntertainment & Media\\n      [Bluetooth, Hands-free equipment, On-board com...   \n",
       "\\nExtras\\n                     [Alloy wheels, Catalytic Converter, Voice Cont...   \n",
       "\\nSafety & Security\\n          [ABS, Central door lock, Daytime running light...   \n",
       "description                    [\\n, Sicherheit:,  , Deaktivierung für Beifahr...   \n",
       "Emission Label                                                               NaN   \n",
       "Gears                                                                        NaN   \n",
       "Country version                                                              NaN   \n",
       "Electricity consumption                                                      NaN   \n",
       "Last Service Date                                                            NaN   \n",
       "Other Fuel Types                                                             NaN   \n",
       "Availability                                                                 NaN   \n",
       "Last Timing Belt Service Date                                                NaN   \n",
       "Available from                                                               NaN   \n",
       "\n",
       "                                                                               1  \\\n",
       "url                            https://www.autoscout24.com//offers/audi-a1-1-...   \n",
       "make_model                                                               Audi A1   \n",
       "short_description                                                 1.8 TFSI sport   \n",
       "body_type                                                                 Sedans   \n",
       "price                                                                      14500   \n",
       "vat                                                             Price negotiable   \n",
       "km                                                                     80,000 km   \n",
       "registration                                                             03/2017   \n",
       "prev_owner                                                                  None   \n",
       "kW                                                                           NaN   \n",
       "hp                                                                        141 kW   \n",
       "Type                                                        [, Used, , Gasoline]   \n",
       "Previous Owners                                                              NaN   \n",
       "Next Inspection                                                              NaN   \n",
       "Inspection new                                                               NaN   \n",
       "Warranty                                                                     NaN   \n",
       "Full Service                                                                 NaN   \n",
       "Non-smoking Vehicle                                                          NaN   \n",
       "null                                                                          []   \n",
       "Make                                                                    \\nAudi\\n   \n",
       "Model                                                               [\\n, A1, \\n]   \n",
       "Offer Number                                                                 NaN   \n",
       "First Registration                                                [\\n, 2017, \\n]   \n",
       "Body Color                                                         [\\n, Red, \\n]   \n",
       "Paint Type                                                                   NaN   \n",
       "Body Color Original                                                          NaN   \n",
       "Upholstery                                                     [\\nCloth, Grey\\n]   \n",
       "Body                                                            [\\n, Sedans, \\n]   \n",
       "Nr. of Doors                                                             [\\n3\\n]   \n",
       "Nr. of Seats                                                             [\\n4\\n]   \n",
       "Model Code                                                        [\\n0588/BCY\\n]   \n",
       "Gearing Type                                                 [\\n, Automatic, \\n]   \n",
       "Displacement                                                      [\\n1,798 cc\\n]   \n",
       "Cylinders                                                                [\\n4\\n]   \n",
       "Weight                                                            [\\n1,255 kg\\n]   \n",
       "Drive chain                                                          [\\nfront\\n]   \n",
       "Fuel                                                          [\\n, Gasoline, \\n]   \n",
       "Consumption                    [[5.6 l/100 km (comb)], [7.1 l/100 km (city)],...   \n",
       "CO2 Emission                                           [\\n129 g CO2/km (comb)\\n]   \n",
       "Emission Class                                                      [\\nEuro 6\\n]   \n",
       "\\nComfort & Convenience\\n      [Air conditioning, Automatic climate control, ...   \n",
       "\\nEntertainment & Media\\n      [Bluetooth, Hands-free equipment, On-board com...   \n",
       "\\nExtras\\n                     [Alloy wheels, Sport seats, Sport suspension, ...   \n",
       "\\nSafety & Security\\n          [ABS, Central door lock, Central door lock wit...   \n",
       "description                    [\\nLangstreckenfahrzeug daher die hohe Kilomet...   \n",
       "Emission Label                                                   [\\n4 (Green)\\n]   \n",
       "Gears                                                                    [\\n7\\n]   \n",
       "Country version                                                              NaN   \n",
       "Electricity consumption                                                      NaN   \n",
       "Last Service Date                                                            NaN   \n",
       "Other Fuel Types                                                             NaN   \n",
       "Availability                                                                 NaN   \n",
       "Last Timing Belt Service Date                                                NaN   \n",
       "Available from                                                               NaN   \n",
       "\n",
       "                                                                               2  \n",
       "url                            https://www.autoscout24.com//offers/audi-a1-sp...  \n",
       "make_model                                                               Audi A1  \n",
       "short_description              Sportback 1.6 TDI S tronic Einparkhilfe plus+m...  \n",
       "body_type                                                                 Sedans  \n",
       "price                                                                      14640  \n",
       "vat                                                               VAT deductible  \n",
       "km                                                                     83,450 km  \n",
       "registration                                                             02/2016  \n",
       "prev_owner                                                      1 previous owner  \n",
       "kW                                                                           NaN  \n",
       "hp                                                                         85 kW  \n",
       "Type                                     [, Used, , Diesel (Particulate Filter)]  \n",
       "Previous Owners                                                            \\n1\\n  \n",
       "Next Inspection                                                              NaN  \n",
       "Inspection new                                                               NaN  \n",
       "Warranty                                        [\\n, \\n, \\n99 g CO2/km (comb)\\n]  \n",
       "Full Service                                                                 NaN  \n",
       "Non-smoking Vehicle                                                          NaN  \n",
       "null                                                                          []  \n",
       "Make                                                                    \\nAudi\\n  \n",
       "Model                                                               [\\n, A1, \\n]  \n",
       "Offer Number                                                      [\\nAM-95365\\n]  \n",
       "First Registration                                                [\\n, 2016, \\n]  \n",
       "Body Color                                                       [\\n, Black, \\n]  \n",
       "Paint Type                                                        [\\nMetallic\\n]  \n",
       "Body Color Original                                 [\\nmythosschwarz metallic\\n]  \n",
       "Upholstery                                                    [\\nCloth, Black\\n]  \n",
       "Body                                                            [\\n, Sedans, \\n]  \n",
       "Nr. of Doors                                                             [\\n4\\n]  \n",
       "Nr. of Seats                                                             [\\n4\\n]  \n",
       "Model Code                                                                   NaN  \n",
       "Gearing Type                                                 [\\n, Automatic, \\n]  \n",
       "Displacement                                                      [\\n1,598 cc\\n]  \n",
       "Cylinders                                                                    NaN  \n",
       "Weight                                                                       NaN  \n",
       "Drive chain                                                          [\\nfront\\n]  \n",
       "Fuel                                       [\\n, Diesel (Particulate Filter), \\n]  \n",
       "Consumption                    [[3.8 l/100 km (comb)], [4.4 l/100 km (city)],...  \n",
       "CO2 Emission                                            [\\n99 g CO2/km (comb)\\n]  \n",
       "Emission Class                                                      [\\nEuro 6\\n]  \n",
       "\\nComfort & Convenience\\n      [Air conditioning, Cruise control, Electrical ...  \n",
       "\\nEntertainment & Media\\n                               [MP3, On-board computer]  \n",
       "\\nExtras\\n                                         [Alloy wheels, Voice Control]  \n",
       "\\nSafety & Security\\n          [ABS, Central door lock, Daytime running light...  \n",
       "description                    [\\n, Fahrzeug-Nummer: AM-95365,  , Ehem. UPE 2...  \n",
       "Emission Label                                                   [\\n4 (Green)\\n]  \n",
       "Gears                                                                        NaN  \n",
       "Country version                                                              NaN  \n",
       "Electricity consumption                                                      NaN  \n",
       "Last Service Date                                                            NaN  \n",
       "Other Fuel Types                                                             NaN  \n",
       "Availability                                                                 NaN  \n",
       "Last Timing Belt Service Date                                                NaN  \n",
       "Available from                                                               NaN  "
      ]
     },
     "execution_count": 241,
     "metadata": {},
     "output_type": "execute_result"
    }
   ],
   "source": [
    "df.head(3).T"
   ]
  },
  {
   "cell_type": "code",
   "execution_count": 242,
   "metadata": {},
   "outputs": [
    {
     "name": "stdout",
     "output_type": "stream",
     "text": [
      "<class 'pandas.core.frame.DataFrame'>\n",
      "RangeIndex: 15919 entries, 0 to 15918\n",
      "Data columns (total 54 columns):\n",
      " #   Column                         Non-Null Count  Dtype  \n",
      "---  ------                         --------------  -----  \n",
      " 0   url                            15919 non-null  object \n",
      " 1   make_model                     15919 non-null  object \n",
      " 2   short_description              15873 non-null  object \n",
      " 3   body_type                      15859 non-null  object \n",
      " 4   price                          15919 non-null  int64  \n",
      " 5   vat                            11406 non-null  object \n",
      " 6   km                             15919 non-null  object \n",
      " 7   registration                   15919 non-null  object \n",
      " 8   prev_owner                     9091 non-null   object \n",
      " 9   kW                             0 non-null      float64\n",
      " 10  hp                             15919 non-null  object \n",
      " 11  Type                           15917 non-null  object \n",
      " 12  Previous Owners                9279 non-null   object \n",
      " 13  Next Inspection                3535 non-null   object \n",
      " 14  Inspection new                 3932 non-null   object \n",
      " 15  Warranty                       10499 non-null  object \n",
      " 16  Full Service                   8215 non-null   object \n",
      " 17  Non-smoking Vehicle            7177 non-null   object \n",
      " 18  null                           15919 non-null  object \n",
      " 19  Make                           15919 non-null  object \n",
      " 20  Model                          15919 non-null  object \n",
      " 21  Offer Number                   12744 non-null  object \n",
      " 22  First Registration             14322 non-null  object \n",
      " 23  Body Color                     15322 non-null  object \n",
      " 24  Paint Type                     10147 non-null  object \n",
      " 25  Body Color Original            12160 non-null  object \n",
      " 26  Upholstery                     12199 non-null  object \n",
      " 27  Body                           15859 non-null  object \n",
      " 28  Nr. of Doors                   15707 non-null  object \n",
      " 29  Nr. of Seats                   14942 non-null  object \n",
      " 30  Model Code                     4978 non-null   object \n",
      " 31  Gearing Type                   15919 non-null  object \n",
      " 32  Displacement                   15423 non-null  object \n",
      " 33  Cylinders                      10239 non-null  object \n",
      " 34  Weight                         8945 non-null   object \n",
      " 35  Drive chain                    9061 non-null   object \n",
      " 36  Fuel                           15919 non-null  object \n",
      " 37  Consumption                    14013 non-null  object \n",
      " 38  CO2 Emission                   14111 non-null  object \n",
      " 39  Emission Class                 12898 non-null  object \n",
      " 40  \n",
      "Comfort & Convenience\n",
      "        14999 non-null  object \n",
      " 41  \n",
      "Entertainment & Media\n",
      "        14545 non-null  object \n",
      " 42  \n",
      "Extras\n",
      "                       12957 non-null  object \n",
      " 43  \n",
      "Safety & Security\n",
      "            14937 non-null  object \n",
      " 44  description                    15919 non-null  object \n",
      " 45  Emission Label                 3985 non-null   object \n",
      " 46  Gears                          11207 non-null  object \n",
      " 47  Country version                7586 non-null   object \n",
      " 48  Electricity consumption        137 non-null    object \n",
      " 49  Last Service Date              566 non-null    object \n",
      " 50  Other Fuel Types               880 non-null    object \n",
      " 51  Availability                   635 non-null    object \n",
      " 52  Last Timing Belt Service Date  16 non-null     object \n",
      " 53  Available from                 272 non-null    object \n",
      "dtypes: float64(1), int64(1), object(52)\n",
      "memory usage: 6.6+ MB\n"
     ]
    }
   ],
   "source": [
    "df.info()"
   ]
  },
  {
   "cell_type": "code",
   "execution_count": 243,
   "metadata": {},
   "outputs": [
    {
     "data": {
      "text/plain": [
       "Index(['url', 'make_model', 'short_description', 'body_type', 'price', 'vat',\n",
       "       'km', 'registration', 'prev_owner', 'kW', 'hp', 'Type',\n",
       "       'Previous Owners', 'Next Inspection', 'Inspection new', 'Warranty',\n",
       "       'Full Service', 'Non-smoking Vehicle', 'null', 'Make', 'Model',\n",
       "       'Offer Number', 'First Registration', 'Body Color', 'Paint Type',\n",
       "       'Body Color Original', 'Upholstery', 'Body', 'Nr. of Doors',\n",
       "       'Nr. of Seats', 'Model Code', 'Gearing Type', 'Displacement',\n",
       "       'Cylinders', 'Weight', 'Drive chain', 'Fuel', 'Consumption',\n",
       "       'CO2 Emission', 'Emission Class', '\\nComfort & Convenience\\n',\n",
       "       '\\nEntertainment & Media\\n', '\\nExtras\\n', '\\nSafety & Security\\n',\n",
       "       'description', 'Emission Label', 'Gears', 'Country version',\n",
       "       'Electricity consumption', 'Last Service Date', 'Other Fuel Types',\n",
       "       'Availability', 'Last Timing Belt Service Date', 'Available from'],\n",
       "      dtype='object')"
      ]
     },
     "execution_count": 243,
     "metadata": {},
     "output_type": "execute_result"
    }
   ],
   "source": [
    "df.columns"
   ]
  },
  {
   "cell_type": "code",
   "execution_count": 244,
   "metadata": {},
   "outputs": [],
   "source": [
    "df[\"Comfort_Convenience\"] = df[\"\\nComfort & Convenience\\n\"]\n",
    "df[\"Entertainment_Media\"] = df[\"\\nEntertainment & Media\\n\"]\n",
    "df[\"Extras\"] = df[\"\\nExtras\\n\"]\n",
    "df[\"Safety_Security\"] = df[\"\\nSafety & Security\\n\"]"
   ]
  },
  {
   "cell_type": "code",
   "execution_count": 245,
   "metadata": {},
   "outputs": [],
   "source": [
    "drop_columns = [\"\\nComfort & Convenience\\n\",\"\\nEntertainment & Media\\n\",\"\\nExtras\\n\",\"\\nSafety & Security\\n\"]\n",
    "df.drop(drop_columns, axis = 1, inplace = True)"
   ]
  },
  {
   "cell_type": "code",
   "execution_count": 246,
   "metadata": {},
   "outputs": [
    {
     "name": "stdout",
     "output_type": "stream",
     "text": [
      "<class 'pandas.core.frame.DataFrame'>\n",
      "RangeIndex: 15919 entries, 0 to 15918\n",
      "Data columns (total 54 columns):\n",
      " #   Column                         Non-Null Count  Dtype  \n",
      "---  ------                         --------------  -----  \n",
      " 0   url                            15919 non-null  object \n",
      " 1   make_model                     15919 non-null  object \n",
      " 2   short_description              15873 non-null  object \n",
      " 3   body_type                      15859 non-null  object \n",
      " 4   price                          15919 non-null  int64  \n",
      " 5   vat                            11406 non-null  object \n",
      " 6   km                             15919 non-null  object \n",
      " 7   registration                   15919 non-null  object \n",
      " 8   prev_owner                     9091 non-null   object \n",
      " 9   kW                             0 non-null      float64\n",
      " 10  hp                             15919 non-null  object \n",
      " 11  Type                           15917 non-null  object \n",
      " 12  Previous Owners                9279 non-null   object \n",
      " 13  Next Inspection                3535 non-null   object \n",
      " 14  Inspection new                 3932 non-null   object \n",
      " 15  Warranty                       10499 non-null  object \n",
      " 16  Full Service                   8215 non-null   object \n",
      " 17  Non-smoking Vehicle            7177 non-null   object \n",
      " 18  null                           15919 non-null  object \n",
      " 19  Make                           15919 non-null  object \n",
      " 20  Model                          15919 non-null  object \n",
      " 21  Offer Number                   12744 non-null  object \n",
      " 22  First Registration             14322 non-null  object \n",
      " 23  Body Color                     15322 non-null  object \n",
      " 24  Paint Type                     10147 non-null  object \n",
      " 25  Body Color Original            12160 non-null  object \n",
      " 26  Upholstery                     12199 non-null  object \n",
      " 27  Body                           15859 non-null  object \n",
      " 28  Nr. of Doors                   15707 non-null  object \n",
      " 29  Nr. of Seats                   14942 non-null  object \n",
      " 30  Model Code                     4978 non-null   object \n",
      " 31  Gearing Type                   15919 non-null  object \n",
      " 32  Displacement                   15423 non-null  object \n",
      " 33  Cylinders                      10239 non-null  object \n",
      " 34  Weight                         8945 non-null   object \n",
      " 35  Drive chain                    9061 non-null   object \n",
      " 36  Fuel                           15919 non-null  object \n",
      " 37  Consumption                    14013 non-null  object \n",
      " 38  CO2 Emission                   14111 non-null  object \n",
      " 39  Emission Class                 12898 non-null  object \n",
      " 40  description                    15919 non-null  object \n",
      " 41  Emission Label                 3985 non-null   object \n",
      " 42  Gears                          11207 non-null  object \n",
      " 43  Country version                7586 non-null   object \n",
      " 44  Electricity consumption        137 non-null    object \n",
      " 45  Last Service Date              566 non-null    object \n",
      " 46  Other Fuel Types               880 non-null    object \n",
      " 47  Availability                   635 non-null    object \n",
      " 48  Last Timing Belt Service Date  16 non-null     object \n",
      " 49  Available from                 272 non-null    object \n",
      " 50  Comfort_Convenience            14999 non-null  object \n",
      " 51  Entertainment_Media            14545 non-null  object \n",
      " 52  Extras                         12957 non-null  object \n",
      " 53  Safety_Security                14937 non-null  object \n",
      "dtypes: float64(1), int64(1), object(52)\n",
      "memory usage: 6.6+ MB\n"
     ]
    }
   ],
   "source": [
    "df.info()"
   ]
  },
  {
   "cell_type": "code",
   "execution_count": 247,
   "metadata": {},
   "outputs": [
    {
     "data": {
      "text/plain": [
       "(15919, 54)"
      ]
     },
     "execution_count": 247,
     "metadata": {},
     "output_type": "execute_result"
    }
   ],
   "source": [
    "df.shape"
   ]
  },
  {
   "cell_type": "code",
   "execution_count": 248,
   "metadata": {},
   "outputs": [
    {
     "data": {
      "text/plain": [
       "url                               0.000\n",
       "make_model                        0.000\n",
       "short_description                 0.289\n",
       "body_type                         0.377\n",
       "price                             0.000\n",
       "vat                              28.350\n",
       "km                                0.000\n",
       "registration                      0.000\n",
       "prev_owner                       42.892\n",
       "kW                              100.000\n",
       "hp                                0.000\n",
       "Type                              0.013\n",
       "Previous Owners                  41.711\n",
       "Next Inspection                  77.794\n",
       "Inspection new                   75.300\n",
       "Warranty                         34.047\n",
       "Full Service                     48.395\n",
       "Non-smoking Vehicle              54.916\n",
       "null                              0.000\n",
       "Make                              0.000\n",
       "Model                             0.000\n",
       "Offer Number                     19.945\n",
       "First Registration               10.032\n",
       "Body Color                        3.750\n",
       "Paint Type                       36.259\n",
       "Body Color Original              23.613\n",
       "Upholstery                       23.368\n",
       "Body                              0.377\n",
       "Nr. of Doors                      1.332\n",
       "Nr. of Seats                      6.137\n",
       "Model Code                       68.729\n",
       "Gearing Type                      0.000\n",
       "Displacement                      3.116\n",
       "Cylinders                        35.681\n",
       "Weight                           43.809\n",
       "Drive chain                      43.081\n",
       "Fuel                              0.000\n",
       "Consumption                      11.973\n",
       "CO2 Emission                     11.357\n",
       "Emission Class                   18.977\n",
       "description                       0.000\n",
       "Emission Label                   74.967\n",
       "Gears                            29.600\n",
       "Country version                  52.346\n",
       "Electricity consumption          99.139\n",
       "Last Service Date                96.445\n",
       "Other Fuel Types                 94.472\n",
       "Availability                     96.011\n",
       "Last Timing Belt Service Date    99.899\n",
       "Available from                   98.291\n",
       "Comfort_Convenience               5.779\n",
       "Entertainment_Media               8.631\n",
       "Extras                           18.607\n",
       "Safety_Security                   6.169\n",
       "dtype: float64"
      ]
     },
     "execution_count": 248,
     "metadata": {},
     "output_type": "execute_result"
    }
   ],
   "source": [
    "df.isnull().sum()*100/df.shape[0]"
   ]
  },
  {
   "cell_type": "markdown",
   "metadata": {},
   "source": [
    "**Droping columns that have %90 percent and higher of missing values.**"
   ]
  },
  {
   "cell_type": "code",
   "execution_count": 249,
   "metadata": {},
   "outputs": [],
   "source": [
    "def show_nans(df, limit):\n",
    "    missing = df.isnull().sum()*100/df.shape[0]\n",
    "    return missing.loc[lambda x : x >= limit]\n",
    "\n",
    "def perc_nans(serial):\n",
    "    # display percentage of nans in a Series\n",
    "    return serial.isnull().sum()/serial.shape[0]*100"
   ]
  },
  {
   "cell_type": "code",
   "execution_count": 250,
   "metadata": {},
   "outputs": [
    {
     "data": {
      "text/plain": [
       "kW                              100.000\n",
       "Electricity consumption          99.139\n",
       "Last Service Date                96.445\n",
       "Other Fuel Types                 94.472\n",
       "Availability                     96.011\n",
       "Last Timing Belt Service Date    99.899\n",
       "Available from                   98.291\n",
       "dtype: float64"
      ]
     },
     "execution_count": 250,
     "metadata": {},
     "output_type": "execute_result"
    }
   ],
   "source": [
    "show_nans(df,90)"
   ]
  },
  {
   "cell_type": "code",
   "execution_count": 251,
   "metadata": {},
   "outputs": [
    {
     "data": {
      "text/plain": [
       "Index(['kW', 'Electricity consumption', 'Last Service Date',\n",
       "       'Other Fuel Types', 'Availability', 'Last Timing Belt Service Date',\n",
       "       'Available from'],\n",
       "      dtype='object')"
      ]
     },
     "execution_count": 251,
     "metadata": {},
     "output_type": "execute_result"
    }
   ],
   "source": [
    "drop_columns = show_nans(df,90).index\n",
    "drop_columns"
   ]
  },
  {
   "cell_type": "code",
   "execution_count": 252,
   "metadata": {},
   "outputs": [],
   "source": [
    "df.drop(drop_columns, axis = 1, inplace = True)"
   ]
  },
  {
   "cell_type": "code",
   "execution_count": 253,
   "metadata": {},
   "outputs": [
    {
     "name": "stdout",
     "output_type": "stream",
     "text": [
      "<class 'pandas.core.frame.DataFrame'>\n",
      "RangeIndex: 15919 entries, 0 to 15918\n",
      "Data columns (total 47 columns):\n",
      " #   Column               Non-Null Count  Dtype \n",
      "---  ------               --------------  ----- \n",
      " 0   url                  15919 non-null  object\n",
      " 1   make_model           15919 non-null  object\n",
      " 2   short_description    15873 non-null  object\n",
      " 3   body_type            15859 non-null  object\n",
      " 4   price                15919 non-null  int64 \n",
      " 5   vat                  11406 non-null  object\n",
      " 6   km                   15919 non-null  object\n",
      " 7   registration         15919 non-null  object\n",
      " 8   prev_owner           9091 non-null   object\n",
      " 9   hp                   15919 non-null  object\n",
      " 10  Type                 15917 non-null  object\n",
      " 11  Previous Owners      9279 non-null   object\n",
      " 12  Next Inspection      3535 non-null   object\n",
      " 13  Inspection new       3932 non-null   object\n",
      " 14  Warranty             10499 non-null  object\n",
      " 15  Full Service         8215 non-null   object\n",
      " 16  Non-smoking Vehicle  7177 non-null   object\n",
      " 17  null                 15919 non-null  object\n",
      " 18  Make                 15919 non-null  object\n",
      " 19  Model                15919 non-null  object\n",
      " 20  Offer Number         12744 non-null  object\n",
      " 21  First Registration   14322 non-null  object\n",
      " 22  Body Color           15322 non-null  object\n",
      " 23  Paint Type           10147 non-null  object\n",
      " 24  Body Color Original  12160 non-null  object\n",
      " 25  Upholstery           12199 non-null  object\n",
      " 26  Body                 15859 non-null  object\n",
      " 27  Nr. of Doors         15707 non-null  object\n",
      " 28  Nr. of Seats         14942 non-null  object\n",
      " 29  Model Code           4978 non-null   object\n",
      " 30  Gearing Type         15919 non-null  object\n",
      " 31  Displacement         15423 non-null  object\n",
      " 32  Cylinders            10239 non-null  object\n",
      " 33  Weight               8945 non-null   object\n",
      " 34  Drive chain          9061 non-null   object\n",
      " 35  Fuel                 15919 non-null  object\n",
      " 36  Consumption          14013 non-null  object\n",
      " 37  CO2 Emission         14111 non-null  object\n",
      " 38  Emission Class       12898 non-null  object\n",
      " 39  description          15919 non-null  object\n",
      " 40  Emission Label       3985 non-null   object\n",
      " 41  Gears                11207 non-null  object\n",
      " 42  Country version      7586 non-null   object\n",
      " 43  Comfort_Convenience  14999 non-null  object\n",
      " 44  Entertainment_Media  14545 non-null  object\n",
      " 45  Extras               12957 non-null  object\n",
      " 46  Safety_Security      14937 non-null  object\n",
      "dtypes: int64(1), object(46)\n",
      "memory usage: 5.7+ MB\n"
     ]
    }
   ],
   "source": [
    "df.info()"
   ]
  },
  {
   "cell_type": "markdown",
   "metadata": {},
   "source": [
    "## Let's examine and clean all the columns/features one by one"
   ]
  },
  {
   "cell_type": "markdown",
   "metadata": {},
   "source": [
    "## url"
   ]
  },
  {
   "cell_type": "code",
   "execution_count": 254,
   "metadata": {},
   "outputs": [
    {
     "data": {
      "text/plain": [
       "https://www.autoscout24.com//offers/audi-a1-sportback-1-4-tdi-s-tronic-xenon-navi-klima-diesel-black-bdab349a-caa5-41b0-98eb-c1345b84445e                  1\n",
       "https://www.autoscout24.com//offers/opel-insignia-bus-inno-2-0-cdti-aut-navi-bi-xe-led-e6-diesel-black-8710b253-dd98-4ed0-9d46-cbad2d79532b                1\n",
       "https://www.autoscout24.com//offers/opel-insignia-sport-tourer-opel-sport-tourer-1-6-cdti-136-ch-a-c-diesel-silver-10b7463b-9f56-4348-af35-df3432b2b585    1\n",
       "https://www.autoscout24.com//offers/opel-insignia-2-0cdti-st-business-innovation-navi-bt-diesel-black-ba5a3368-dedc-4e51-9127-3976b26e93c2                 1\n",
       "https://www.autoscout24.com//offers/opel-insignia-sport-tourer-opel-sport-tourer-1-6-cdti-136-ch-a-c-diesel-silver-7b52f054-78d3-4d5e-9370-8a7d081d7edd    1\n",
       "                                                                                                                                                          ..\n",
       "https://www.autoscout24.com//offers/audi-a3-sb-30-1-6-tdi-business-116cv-s-tronic-diesel-black-cf50f7b1-4d7b-466f-93a2-4e11ec0b4107                        1\n",
       "https://www.autoscout24.com//offers/audi-a3-sb-30-1-6-tdi-business-116cv-s-tronic-diesel-grey-3f47eb34-15c4-4763-860d-78fcbbd2c9ff                         1\n",
       "https://www.autoscout24.com//offers/audi-a3-sb-30-1-6-tdi-business-116cv-s-tronic-diesel-silver-f7a4bc95-b2ef-4bac-9497-6bcbcd05db0b                       1\n",
       "https://www.autoscout24.com//offers/audi-a3-sb-30-1-6-tdi-business-116cv-s-tronic-diesel-silver-1c94c7a2-67b5-49ca-ae42-42a6800fb3f5                       1\n",
       "https://www.autoscout24.com//offers/renault-espace-initiale-paris-tce-225-edc-gpf-navi-shz-aux-gasoline-grey-0bd690d9-7e93-4cab-bc5a-9d5b63402481          1\n",
       "Name: url, Length: 15919, dtype: int64"
      ]
     },
     "execution_count": 254,
     "metadata": {},
     "output_type": "execute_result"
    }
   ],
   "source": [
    "df.url.value_counts(dropna=False)"
   ]
  },
  {
   "cell_type": "code",
   "execution_count": 255,
   "metadata": {},
   "outputs": [],
   "source": [
    "df.drop(\"url\", axis = 1, inplace = True)"
   ]
  },
  {
   "cell_type": "markdown",
   "metadata": {},
   "source": [
    "## make_model"
   ]
  },
  {
   "cell_type": "code",
   "execution_count": 256,
   "metadata": {},
   "outputs": [
    {
     "data": {
      "text/plain": [
       "Audi A3           3097\n",
       "Audi A1           2614\n",
       "Opel Insignia     2598\n",
       "Opel Astra        2526\n",
       "Opel Corsa        2219\n",
       "Renault Clio      1839\n",
       "Renault Espace     991\n",
       "Renault Duster      34\n",
       "Audi A2              1\n",
       "Name: make_model, dtype: int64"
      ]
     },
     "execution_count": 256,
     "metadata": {},
     "output_type": "execute_result"
    }
   ],
   "source": [
    "df.make_model.value_counts(dropna=False)"
   ]
  },
  {
   "cell_type": "markdown",
   "metadata": {},
   "source": [
    "## Make"
   ]
  },
  {
   "cell_type": "code",
   "execution_count": 257,
   "metadata": {},
   "outputs": [
    {
     "data": {
      "text/plain": [
       "\\nOpel\\n       7343\n",
       "\\nAudi\\n       5712\n",
       "\\nRenault\\n    2864\n",
       "Name: Make, dtype: int64"
      ]
     },
     "execution_count": 257,
     "metadata": {},
     "output_type": "execute_result"
    }
   ],
   "source": [
    "df.Make.value_counts(dropna=False)"
   ]
  },
  {
   "cell_type": "code",
   "execution_count": 258,
   "metadata": {},
   "outputs": [],
   "source": [
    "df[\"Make\"] = df.Make.str.strip('\\n')"
   ]
  },
  {
   "cell_type": "code",
   "execution_count": 259,
   "metadata": {},
   "outputs": [
    {
     "data": {
      "text/plain": [
       "Opel       7343\n",
       "Audi       5712\n",
       "Renault    2864\n",
       "Name: Make, dtype: int64"
      ]
     },
     "execution_count": 259,
     "metadata": {},
     "output_type": "execute_result"
    }
   ],
   "source": [
    "df.Make.value_counts(dropna=False)"
   ]
  },
  {
   "cell_type": "code",
   "execution_count": 260,
   "metadata": {},
   "outputs": [],
   "source": [
    "df.drop(\"Make\", axis=1, inplace=True)"
   ]
  },
  {
   "cell_type": "markdown",
   "metadata": {},
   "source": [
    "## Model"
   ]
  },
  {
   "cell_type": "code",
   "execution_count": 261,
   "metadata": {},
   "outputs": [
    {
     "ename": "TypeError",
     "evalue": "unhashable type: 'list'",
     "output_type": "error",
     "traceback": [
      "\u001b[1;31m---------------------------------------------------------------------------\u001b[0m",
      "\u001b[1;31mTypeError\u001b[0m                                 Traceback (most recent call last)",
      "\u001b[1;32mpandas\\_libs\\hashtable_class_helper.pxi\u001b[0m in \u001b[0;36mpandas._libs.hashtable.PyObjectHashTable.map_locations\u001b[1;34m()\u001b[0m\n",
      "\u001b[1;31mTypeError\u001b[0m: unhashable type: 'list'"
     ]
    },
    {
     "name": "stderr",
     "output_type": "stream",
     "text": [
      "Exception ignored in: 'pandas._libs.index.IndexEngine._call_map_locations'\n",
      "Traceback (most recent call last):\n",
      "  File \"pandas\\_libs\\hashtable_class_helper.pxi\", line 5231, in pandas._libs.hashtable.PyObjectHashTable.map_locations\n",
      "TypeError: unhashable type: 'list'\n"
     ]
    },
    {
     "data": {
      "text/plain": [
       "[\\n, A3, \\n]          3097\n",
       "[\\n, A1, \\n]          2614\n",
       "[\\n, Insignia, \\n]    2598\n",
       "[\\n, Astra, \\n]       2526\n",
       "[\\n, Corsa, \\n]       2219\n",
       "[\\n, Clio, \\n]        1839\n",
       "[\\n, Espace, \\n]       991\n",
       "[\\n, Duster, \\n]        34\n",
       "[\\n, A2, \\n]             1\n",
       "Name: Model, dtype: int64"
      ]
     },
     "execution_count": 261,
     "metadata": {},
     "output_type": "execute_result"
    }
   ],
   "source": [
    "df.Model.value_counts(dropna=False)"
   ]
  },
  {
   "cell_type": "code",
   "execution_count": 262,
   "metadata": {},
   "outputs": [],
   "source": [
    "df[\"Model\"] = df.Model.str[1]"
   ]
  },
  {
   "cell_type": "code",
   "execution_count": 263,
   "metadata": {},
   "outputs": [
    {
     "data": {
      "text/plain": [
       "A3          3097\n",
       "A1          2614\n",
       "Insignia    2598\n",
       "Astra       2526\n",
       "Corsa       2219\n",
       "Clio        1839\n",
       "Espace       991\n",
       "Duster        34\n",
       "A2             1\n",
       "Name: Model, dtype: int64"
      ]
     },
     "execution_count": 263,
     "metadata": {},
     "output_type": "execute_result"
    }
   ],
   "source": [
    "df.Model.value_counts(dropna=False)"
   ]
  },
  {
   "cell_type": "code",
   "execution_count": 264,
   "metadata": {},
   "outputs": [],
   "source": [
    "df.drop(\"Model\", axis=1, inplace=True)"
   ]
  },
  {
   "cell_type": "markdown",
   "metadata": {},
   "source": [
    "## short_description"
   ]
  },
  {
   "cell_type": "code",
   "execution_count": 265,
   "metadata": {},
   "outputs": [
    {
     "data": {
      "text/plain": [
       "SPB 1.6 TDI 116 CV S tronic Sport                 64\n",
       "NaN                                               46\n",
       "1.4 66kW (90CV) Selective                         40\n",
       "MOVE KLIMA CD USB ALLWETTER BLUETOOTH             38\n",
       "SPB 30 TDI S tronic Business                      35\n",
       "                                                  ..\n",
       "K Sports Tourer Business **Navi*Voll**             1\n",
       "1.0 Turbo ecoFLEX Automatic Elective Park Navi     1\n",
       "1.6 CDTI Business *Navi*Automatik*Spurh.*          1\n",
       "1.6 136 CV Automatica Navi E 6 Garanzia Full       1\n",
       "TCe 225 EDC GPF LIM Deluxe Pano,RFK                1\n",
       "Name: short_description, Length: 10002, dtype: int64"
      ]
     },
     "execution_count": 265,
     "metadata": {},
     "output_type": "execute_result"
    }
   ],
   "source": [
    "df.short_description.value_counts(dropna=False)"
   ]
  },
  {
   "cell_type": "code",
   "execution_count": 266,
   "metadata": {},
   "outputs": [],
   "source": [
    "df.drop(\"short_description\", axis = 1, inplace = True)"
   ]
  },
  {
   "cell_type": "markdown",
   "metadata": {},
   "source": [
    "## description"
   ]
  },
  {
   "cell_type": "code",
   "execution_count": 267,
   "metadata": {},
   "outputs": [
    {
     "ename": "TypeError",
     "evalue": "unhashable type: 'list'",
     "output_type": "error",
     "traceback": [
      "\u001b[1;31m---------------------------------------------------------------------------\u001b[0m",
      "\u001b[1;31mTypeError\u001b[0m                                 Traceback (most recent call last)",
      "\u001b[1;32mpandas\\_libs\\hashtable_class_helper.pxi\u001b[0m in \u001b[0;36mpandas._libs.hashtable.PyObjectHashTable.map_locations\u001b[1;34m()\u001b[0m\n",
      "\u001b[1;31mTypeError\u001b[0m: unhashable type: 'list'"
     ]
    },
    {
     "name": "stderr",
     "output_type": "stream",
     "text": [
      "Exception ignored in: 'pandas._libs.index.IndexEngine._call_map_locations'\n",
      "Traceback (most recent call last):\n",
      "  File \"pandas\\_libs\\hashtable_class_helper.pxi\", line 5231, in pandas._libs.hashtable.PyObjectHashTable.map_locations\n",
      "TypeError: unhashable type: 'list'\n"
     ]
    },
    {
     "data": {
      "text/plain": [
       "[]                                                                                                                                                                                                                                                                                                                                                                                                                                                                                                                                                                                                                                                                                                                                                                                                                                                                                                                                                                                                                                                                                                                                                                                                                                                                                                                                                                                                                                                                                                                                                                                                                                                                                                                                                                                                                                                                                                                                                                                                                                                                                                                                                                                                                                                                                                                                                                                                                                                                                                                                                                                                                                                                                        636\n",
       "[\\n, \\n]                                                                                                                                                                                                                                                                                                                                                                                                                                                                                                                                                                                                                                                                                                                                                                                                                                                                                                                                                                                                                                                                                                                                                                                                                                                                                                                                                                                                                                                                                                                                                                                                                                                                                                                                                                                                                                                                                                                                                                                                                                                                                                                                                                                                                                                                                                                                                                                                                                                                                                                                                                                                                                                                                   30\n",
       "[\\n, Fahrzeugbeschreibung,  Sichern Sie sich diesen Renault Clio 1.6 TCE Energy Sport Trophy zum Top-Preis inklusive dem , AUTOHERO-RUNDUM-SORGLOS-PAKET,  , Infos:,  1.Hand, deutsche Auslieferung, Unfallfrei, scheckheftgepflegt,  , Highlights,  , Audio-Navigationssystem R-Link Evolution mit Touchscreen und Carminat TomTom,  , Sportsitze ,  , Sportfahrwerk,  , Scheinwerfer Full-LED , Komfort,  , Geschwindigkeits-Regelanlage (Tempomat) ,  , Klimaanlage,  , Einparkhilfe hinten,  , Multifunktionslenkrad (Sport/Leder) mit Schaltwippen/-tasten ,  , Fensterheber elektr. mit Impulsgeber links/rechts vorn,  , Zentralverriegelung / Startanlage Handsfree Entry & Drive ,  , Berganfahr-Assistent (HSA) , Multimedia,  , Audiosystem: Radio R & GO (Bluetooth, DAB-Tuner),  , Bordcomputer,  , Freisprecheinrichtung Bluetooth ,  , USB-Anschluss inkl. AUX-IN-Anschluss (Plug & Music) , Licht und Sicht,  , Außenspiegel elektr. verstell- und heizbar ,  , Licht- und Regensensor ,  , Tagfahrlicht LED ,  , Nebelscheinwerfer LED ,  , Coming-Home-Lichtfunktion ,  , Heckleuchten LED , Sicherheit,  , Isofix-Aufnahmen für Kindersitz ,  , Seitenairbag vorn,  , Wegfahrsperre,  , Differentialsperre,  , Bremsassistent ,  , Elektron. Stabilitäts-Programm (ESP),  , Anti-Blockier-System (ABS),  , Anti-Submarining-Airbag im Fond,  , Airbag Fahrer-/Beifahrerseite ,  , Differentialsperre ,  , Reifendruck-Kontrollsystem ,  , Untersteuerungskontrolle (USC) ,  , Antischlupfregelung (ASR) , Weiteres,  , Start/Stop-Anlage ,  , Servolenkung geschwindigkeitsabhängig,  , R.S. Drive (Fahrmodusschalter) ,  , Gepäckraumabdeckung / Rollo ,  , Heckdiffusor ,  , LM-Felgen ,  , Heckspoiler (Renault Sport) ,  , Pedale Aluminium ,  , Energierückgewinnung (Energy Smart Management) , ...]                                                                                                                                                                                                                                                                                                                                                                                                                                                                                                                                                                                                                                                                                                                                                                                                                                                              27\n",
       "[\\nPosibilidad de prueba del vehículo hasta 5 días. Consultar condiciones. PVP para particulares. Varias unidades y colores disponibles. Precios publicados para vehículos industriales (furgonetas) válidos para compradores autónomos o empresas, consultar condiciones para particulares. Las imágenes y kilómetros pueden no corresponder con el modelo anunciado. Para confirmar póngase en contacto con nuestro departamento comercial. Consulta las excepcionales condiciones de financiación que tenemos disponibles. Precio de venta final IVA y gastos de transferencia incluidos. Horario de atención al cliente: Lunes a Viernes de 09:00 a 18:00.\\n]                                                                                                                                                                                                                                                                                                                                                                                                                                                                                                                                                                                                                                                                                                                                                                                                                                                                                                                                                                                                                                                                                                                                                                                                                                                                                                                                                                                                                                                                                                                                                                                                                                                                                                                                                                                                                                                                                                                                                                                                                          27\n",
       "[\\nSichern Sie sich diesen RENAULT CLIO 1.2 LIMITED zum Top-Preis inklusive dem, AUTOHERO-RUNDUM-SORGLOS-PAKET,  , Infos:,  2.Hand, mindestens 12 Monate gültige HU und AU, deutsche Ausführung, unfallfrei ,  , Highlights,  , Audio-Navigationssystem mit Touchscreen-Farbdisplay, Komfort,  , Klimaanlage ,  , Multifunktionslenkrad in Leder ,  , Berganfahr-Assistent (HSA),  , Fensterheber elektrisch vorn ,  , Geschwindigkeits-Regelanlage (Tempomat) ,  , Heckscheibe heizbar ,  , Sitz vorn links höhenverstellbar,  , Sitz vorn rechts umklappbar ,  , Stau-/Ablagefach im Laderaumboden ,  , Zentralverriegelung mit Fernbedienung , Multimedia,  , Radio R&GO,  , Bluetooth Freisprechanlage ,  , USB-/AUX-Schnittstelle ,  , Bordcomputer,  , Licht und Sicht,  , Tagfahrlicht LED ,  , Außenspiegel elektrisch verstell- und heizbar, Sicherheit,  , Airbag für Fahrer und Beifahrer,  , Beifahrerairbag deaktivierbar ,  , Seitenairbags vorn ,  , Kopfairbagsystem,  , Anti-Blockier-System (ABS),  , Elektronische Bremskraftverteilung ,  , Elektronische Stabilitäts-Programm (ESP) ,  , Reifen-Reparaturkit ,  , Reifendruck-Kontrollsystem ,  , Untersteuerungskontrolle (USC) ,  , ISOFIX Kindersitzverankerung , Weiteres,  , Dachreling silber ,  , Look-Paket Chrom (außen) ,  , Look-Paket Grau (innen) ,  , R&GO-Paket ,  , Style-Paket ,  Ihr , AUTOHERO-RUNDUM-SORGLOS-PAKET,  beinhaltet:, Kostenlose Lieferung in Ihre Nähe, Optische & technische Aufbereitung, Mindestens 12 Monate gültige HU und AU, 1-Jahr-Premium-Garantie, Zulassung inklusive , 14-Tage-Rückgaberecht, Markenunabhängige Inzahlungnahme , Individuelle Finanzierungen zu fairen Konditionen,  , HIER GEHT ES ZUR 360° - ANSICHT DES FAHRZEUGES:, :, https://www.autohero.com/de/renault-clio-1-2-limited/id/30f99516-8785-47e7-a4a3-6cdac4d8e633/,  , Haftungsausschluss, :, Für Angaben vom Verkäufer, des Herstellers oder von Datenbankabfragen übernimmt Autohero keine Haftung. Änderungen, Zwischenverkauf und Irrtümer sind vorbehalten.\\n]                                                                                                                                                                                                                                                                                                                                                                                                                                                                                                                                                                                                                                27\n",
       "                                                                                                                                                                                                                                                                                                                                                                                                                                                                                                                                                                                                                                                                                                                                                                                                                                                                                                                                                                                                                                                                                                                                                                                                                                                                                                                                                                                                                                                                                                                                                                                                                                                                                                                                                                                                                                                                                                                                                                                                                                                                                                                                                                                                                                                                                                                                                                                                                                                                                                                                                                                                                                                                                         ... \n",
       "[\\nPratica 67374, Airbag fullsize per conducente e passeggero, Alzacristalli elettrici ant. e post. con funzione attivaz. a pressione, Assetto dinamico, Audi drive select, Inserti in micrometallic argento, Kit riparazione pneumatici, Pacchetto di navigazione, Piano di copertura del vano bagagli estraibile, Presa AUX-IN, Proiettori allo Xenon Plus con reg. aut. prof. fari, Lavafari, Rivestimenti dei sedili in tessuto, Serbatoio AdBlue, Sistema controllo pressione pneumatici, Sistema di ancoraggio ISOFIX e 3° punto di ancoraggio Top Tether sui sedili post. laterali, Sistema di informazioni per il conducente con display monocromatico, Tappetini anteriori e posteriori, Versione Business, Volante sportivo multifunzionale in pelle 3 razze, ABS, EBV (Ripartitore elettronico della forza frenante), Airbag laterali anteriori integrati negli schienali dei sedili, Airbag per la testa, Airbag per le ginocchia (lato conducente), Appoggiatesta anteriori (2) e posteriori (3) regolabili, Radio MMI plus, Interfaccia Bluetooth, Appoggiabraccia centrale anteriore, Cambio manuale, Cerchi in lega 7 J x 16\" a 5 razze a stella, Chiusura centralizzata con telecomando, Regolatore di velocità, ESC - Sistema elettronico di controllo della stabilizzazione con bloccaggio trasversale elettronico, ASR - Dispositivo di controllo della trazione, EDS (Dispositivo antislittamento in partenza), Filtro anti particolato, Cinture di sicurezza con pretensionatore, Specchietti retrovisivi esterni riscaldabili e ripiegabili elettricamente, Schienale del sedile posteriore ribaltabile (divisibile in rapporto 40:60 o ribaltabile completam.), Sistema di ausilio al parcheggio posteriore, Servosterzo elettromeccanico, Tergilunotto\\n]                                                                                                                                                                                                                                                                                                                                                                                                                                                                                                                                                                                                                                                                                                                                                                                                                                                                                                          1\n",
       "[\\n, Getriebe:,  Schaltgetriebe, Technik:,  Bordcomputer, Start-Stop-Automatik, Assistenten:,  Regensensor, Lichtsensor, Berganfahrassistent, Komfort:,  Servolenkung, Zentralverriegelung, Elektrischer Fensterheber, Sitzheizung, Elektrische Aussenspiegel, Teilbare Ruecksitzlehne, Tempomat, Park Distance Control, Multifunktionslenkrad, Innenspiegel autom. abblendbar, Mittelarmlehne, Innenraumfilter, Lenksaeule einstellbar, Sportsitze, Klimaautomatik-2-Zonen, Sicht:,  Xenon Scheinwerfer, Colorverglasung, Scheinwerferreinigung, Aussenspiegel beheizbar, Privacyverglasung, Sicherheit:,  ABS, Airbag, Beifahrer-Airbag, Wegfahrsperre, Seitenairbags, ESP, Antriebsschlupfregelung, Reifendruckkontrolle, Traktionskontrolle, Kopfairbag, Knieairbag, Kindersitzbefestigung, Pannenkit, Entertainment:,  CD, Radio, AUX-In, USB-Anschluss, MP3, Bluetooth, Freisprecheinrichtung, Umwelt:,  Grüne Umweltplakette, , Energieeffizienzklasse B, Qualität:,  Garantie, Scheckheftgepflegt, HUAU neu, Nichtraucherfahrzeug, Sonstiges:,  Metallic, Alufelgen, Dachreling, Gepaeckraumabdeckung, Stossfaenger in Wagenfarbe, Sportfahrwerk, Weiteres:,  Connectivity-Paket inkl. Bluetooth-Schnittstelle, Klimaautomatik 2-Zonen, Optik-Paket schwarz Audi exclusive, Einparkhilfe (APS), Verglasung hinten abgedunkelt, Sitzheizung vorn, Dachreling (Aluminium), Soundsystem DSP / Audi Sound-System, Ablage- und Gepäckraum-Paket, Audi music interface, Scheibenwaschdüsen heizbar, Vorbereitung Navigationssystem, Adaptives Bremslicht, Anfahr-Assistent (hold assist), Antriebsart: Frontantrieb, Audi Drive Select, Außenspiegel Wagenfarbe, Blinkleuchten LED in Außenspiegel integriert, Bremsanlage mit Rekuperation - Bremsenergierückgewinnung, Bremsassistent, Dachspoiler, Dekoreinlagen Aluminium Mistral, Einstiegsleisten Aluminium, Elektron. Differentialsperre (EDS), Elektron. Stabilitätskontrolle (ESC), Elektron. Stabilitäts-Programm, Euro 6, Fahrer-Informations-System (FIS), Fensterheber elektrisch vorn und hinten, Frontscheibe Akustikglas, Fußmatten Velours, Getriebe 6-Gang, Heckscheibe heizbar, Interieur Aluminium-Optik, Isofix-Aufnahmen für Kindersitz, Kopfstützen hinten, Multi-Media-Interface MMI, Parkbremse elektro-mechanisch, Polster: Stoff Rallye, Servolenkung elektro-mechanisch, Sitze vorn mit ausziehbarer Oberschenkelauflage, Sitzhöhenverstellung, Sport/Lederlenkrad, Sport-Fahrwerk, Start/Stop-Anlage, Telefon-Vorbereitung mit Bluetooth-Schnittstelle, Wagenheber, Wärmeschutzverglasung, Xenon Plus, ZV mit Fernbedienung, ... Änderungen, Zwischenverkauf und Irrtümer vorbehalten.,  by CG360.de\\n]      1\n",
       "[\\n, Getriebe, 6-Gang, Licht und Sicht, Xenon-Scheinwerfer Plus (Abblend- und Fernlicht), Technik und Sicherheit, Fahrerairbag, Airbag Fahrer-/Beifahrerseite, Seitenairbag vorn, Kopfairbags, Anti-Blockier-System (ABS), Elektron. Stabilitätskontrolle (ESC), Elektron. Differentialsperre (EDS), Zentralverriegelung mit Fernbedienung, Schließ-/Startsystem Advanced Key (Komfortschlüssel), Servolenkung elektro-mechanisch, Geschwindigkeits-Regelanlage (Tempomat), Elektronische Wegfahrsperre, Bordcomputer, Reifendruck-Kontrollsystem, Assistenzsysteme, Fahrassistenz-System: Anfahr-Assistent (hold assist), Multimedia, Multi-Media-Interface MMI Basic Plus / MMI Radio Plus, Audi Smartphone Interface, Komfort, Komfort-Klimaautomatik 2-Zonen, Einparkhilfe hinten (APS), Fensterheber elektrisch, Licht- und Regensensor, Außenspiegel elektr. verstellbar beide, Scheibenwaschdüsen und Außenspiegel beheizt, Wärmeschutzverglasung grün getönt, Innenausstattung, Sitzheizung vorn, Lenkrad (Sport/Leder - 3-Speichen) mit Multifunktion, Mittelarmlehne vorn, Rücksitzlehne geteilt/klappbar, Aussenausstattung, LM-Felgen, Pakete, Komfort-Paket, Sonstiges, Rußpartikelfilter, Scheckheftgepflegt, Nichtraucherfahrzeug, Weitere Informationen, Schadstoffklasse: EURO 6D-TEMP, Connectivity-Paket, Glanz-Paket, LM-Felgen 7.5x17 (5-Speichen Y-Design), Progressivlenkung, Antriebs-Schlupfregelung (ASR), Elektron. Stabilitäts-Programm (ESP), Getriebe 6-Gang, Lenkrad (Sport - 3-Speichen), Parkbremse elektro-mechanisch, Sitze vorn höhenverstellbar, Vorrüstung Mobiltelefon/Handy mit Bluetooth-Schnittstelle, Audi music interface, Außenspiegel elektr. verstell- und heizbar beide, Vorbereitung Navigationssystem, Irrtümer und Änderungen vorbehalten., Die im Internet angebotene Ausstattung ist kein Vertragsbestandteil., Die Ausstattung muss vor Ort geprüft werden., Das angebotene Fahrzeug kann von einer Rückrufaktion betroffen sein. Co2 Angaben können abweichen., \\n]                                                                                                                                                                                                                                                                                                                                                                                                                                                                                                                                                                                                                                                                  1\n",
       "[\\n, Aluminium-Gussräder im 5-Speichen-Stern-Design Größe 7 J x 16 mit Reifen 205/55 R 16, Dachreling eloxiert, Einparkhilfe hinten, Fahrerinformationssystem mit Farbdisplay, Lederlenkrad im 3-Speichen-Design mit Multifunktion plus, Ablage-/Gepäckraumpaket mit erweitertem USB-Buchsen-Angebot, Lichtpaket, Reifen 16', Anlaufvariante RdW, Vorbereitung für Anhängevorrichtung, Audi sound system, Reifen 205/55 R16 91W, Xenon plus, Allwetterlicht, Kopfstützen hinten (3 Stück), MMI Radio plus, Zentralverriegelung mit Funkschlüssel, Bluetooth-Schnittstelle, Innenspiegel abblendbar, elektronische Stabilisierungskontrolle (ESC), Airbags, 6-Gang-Schaltgetriebe, Seitenairbags vorn und Kopfairbagsystem, elektromechanische Servolenkung, Leuchtweitenregulierung automatisch-statisch, Scheibenwaschdüsen beheizbar vorn, Reifendruck-Kontrollanzeige, Tagfahrlicht, Start-Stop-System, AUX-IN-Anschluss, Kindersitzverankerung ISOFIX und Top Tether für die äußeren Fondsitze, Sitzbezüge in Stoff Index, Wärmeschutzverglasung, Akustikfrontscheibe, Außenspiegel links asphärisch, Außen-Sound Standard, Außenspiegel rechts (großes Sichtfeld) konvex, elektromechanische Parkbremse, Dachhimmel in Stoff felsgrau, Kraftstoffsystem Otto-Einspritzer, Linkslenker, Reifenreparaturset, Heckleuchten, Scheibenwaschanlage, Entriegelung Hintersitz Standard, Waschwasserstandsanzeige, Abgaskonzept EU6 AG/H/I, Frontantrieb, A3, Außenspiegelgehäuse in Wagenfarbe, Ohne erweitertem Sicherheitssystem, Geschwindigkeitsbegrenzungsanlage, Dachkantenspoiler, Heckscheibenwischer, Sportback, Kindersicherung manuell, Ohne Kamerasysteme/Umfeldsensorik, 4-Zyl. Ottomotor 1 5 L/110KW TSI Grundmotor ist: TJ7/N09/T9F, Nebelschlussleuchten, Nichtraucherausführung, Radstand, Doppeltonfanfare, Serienfahrwerk, 4 Türen, Modellbezeichnung gemäß neuer Leistungskennzeichnung, Warnleuchten, Zierleisten schwarz, Nichtraucherfahrzeug, Irrtümer Änderungen und Zwischenverkauf vorbehalten, sehr guter Zustand, Komfortklima, Aussenspiegel heizbar, elektrische Aussenspiegel, geteilte Rückbank, Scheckheft gepflegt, Fahrersitz höhenverstellbar, Beifahrersitz höhenverstellbar, \\n]                                                                                                                                                                                                                                                                                                                                                                                                                                                                        1\n",
       "[\\nDEK:[2691331], Renault Espace Blue dCi 200CV EDC Business, Nuova da Immatricolare, COLORE: Grigio Titanio, INTERNO: Pelle+Tessuto, TRASMISSIONE: Cambio Automatico EDC, ---, ACCESSORI: , 7 Posti, , , Cerchi in Lega 17, Navigatore con Display 8.7, Clima Automatico, Sensori di Parcheggio Anteriori e Posteriori con Retrocamera, Fari Full LED Pure Vision, Cruise Control, Renault Multisense, ---, Listino Nuovo 44.300 Euro, Prezzo Gruppo Carmeli: 39.700 Euro (Esclusa IPT e Messa in Strada), IVA Esposta, In caso di Adesione alla PROMO GRUPPO CARMELI puoi Averla a 36.000 Euro, Contattaci per scoprire tutti i vantaggi della PROMO GRUPPO CARMELI, ____________________________________, Gruppo Carmeli S.p.A. è Concessionaria e Service ufficiale dei Marchi Renault, Dacia, Nissan, Mercedes e Smart per la provincia di Brescia e Bergamo ed opera nel mercato dell’auto da più di 40 anni., Nelle sedi di Brescia (Nissan e Renault-Dacia Autospazio), di Coccaglio (Renault-Dacia e Nissan) e di Bergamo (Nissan) oltre a tutta la gamma di veicoli dei Marchi rappresentati, propone anche 2.000 auto a Km Zero e Aziendali di tutte le marche., Offriamo Servizi:, -VALUTAZIONE e PERMUTA del tuo USATO, -ACQUISTO con pagamento immediato del tuo USATO, -FINANZIAMENTI e LEASING agevolati, -NOLEGGIO A LUNGO TERMINE di veicoli di tutte le marche, -PACCHETTI ASSICURATIVI su misura con possibilità di garanzia del valore a Nuovo, ____________________________________, Sebbene sia stato fatto ogni ragionevole sforzo per assicurare l'esattezza delle informazioni riportate, vi potrebbero essere involontarie incongruenze riguardanti le immagini e la descrizione degli accessori, che pertanto non rappresentano vincolo contrattuale. Per ulteriori informazioni sulle condizioni economiche ti invitiamo a contattarci., \\n]                                                                                                                                                                                                                                                                                                                                                                                                                                                                                                                                                                                                                                                                                                                                                                                                                   1\n",
       "Name: description, Length: 12874, dtype: int64"
      ]
     },
     "execution_count": 267,
     "metadata": {},
     "output_type": "execute_result"
    }
   ],
   "source": [
    "df.description.value_counts(dropna=False)"
   ]
  },
  {
   "cell_type": "code",
   "execution_count": 268,
   "metadata": {},
   "outputs": [],
   "source": [
    "df.drop(\"description\", axis = 1, inplace = True)"
   ]
  },
  {
   "cell_type": "markdown",
   "metadata": {},
   "source": [
    "## body_type"
   ]
  },
  {
   "cell_type": "code",
   "execution_count": 269,
   "metadata": {},
   "outputs": [
    {
     "data": {
      "text/plain": [
       "Sedans           7903\n",
       "Station wagon    3553\n",
       "Compact          3153\n",
       "Van               783\n",
       "Other             290\n",
       "Transporter        88\n",
       "NaN                60\n",
       "Off-Road           56\n",
       "Coupe              25\n",
       "Convertible         8\n",
       "Name: body_type, dtype: int64"
      ]
     },
     "execution_count": 269,
     "metadata": {},
     "output_type": "execute_result"
    }
   ],
   "source": [
    "df.body_type.value_counts(dropna=False)"
   ]
  },
  {
   "cell_type": "markdown",
   "metadata": {},
   "source": [
    "## Body"
   ]
  },
  {
   "cell_type": "code",
   "execution_count": 270,
   "metadata": {},
   "outputs": [
    {
     "ename": "TypeError",
     "evalue": "unhashable type: 'list'",
     "output_type": "error",
     "traceback": [
      "\u001b[1;31m---------------------------------------------------------------------------\u001b[0m",
      "\u001b[1;31mTypeError\u001b[0m                                 Traceback (most recent call last)",
      "\u001b[1;32mpandas\\_libs\\hashtable_class_helper.pxi\u001b[0m in \u001b[0;36mpandas._libs.hashtable.PyObjectHashTable.map_locations\u001b[1;34m()\u001b[0m\n",
      "\u001b[1;31mTypeError\u001b[0m: unhashable type: 'list'"
     ]
    },
    {
     "name": "stderr",
     "output_type": "stream",
     "text": [
      "Exception ignored in: 'pandas._libs.index.IndexEngine._call_map_locations'\n",
      "Traceback (most recent call last):\n",
      "  File \"pandas\\_libs\\hashtable_class_helper.pxi\", line 5231, in pandas._libs.hashtable.PyObjectHashTable.map_locations\n",
      "TypeError: unhashable type: 'list'\n"
     ]
    },
    {
     "data": {
      "text/plain": [
       "[\\n, Sedans, \\n]           7903\n",
       "[\\n, Station wagon, \\n]    3553\n",
       "[\\n, Compact, \\n]          3153\n",
       "[\\n, Van, \\n]               783\n",
       "[\\n, Other, \\n]             290\n",
       "[\\n, Transporter, \\n]        88\n",
       "NaN                          60\n",
       "[\\n, Off-Road, \\n]           56\n",
       "[\\n, Coupe, \\n]              25\n",
       "[\\n, Convertible, \\n]         8\n",
       "Name: Body, dtype: int64"
      ]
     },
     "execution_count": 270,
     "metadata": {},
     "output_type": "execute_result"
    }
   ],
   "source": [
    "df.Body.value_counts(dropna=False)"
   ]
  },
  {
   "cell_type": "code",
   "execution_count": 271,
   "metadata": {},
   "outputs": [
    {
     "data": {
      "text/plain": [
       "0        Sedans\n",
       "1        Sedans\n",
       "2        Sedans\n",
       "3        Sedans\n",
       "4        Sedans\n",
       "          ...  \n",
       "15914       Van\n",
       "15915       Van\n",
       "15916       Van\n",
       "15917       Van\n",
       "15918       Van\n",
       "Name: Body, Length: 15919, dtype: object"
      ]
     },
     "execution_count": 271,
     "metadata": {},
     "output_type": "execute_result"
    }
   ],
   "source": [
    "df['Body']=df.Body.str[1]\n",
    "df['Body']"
   ]
  },
  {
   "cell_type": "code",
   "execution_count": 272,
   "metadata": {},
   "outputs": [],
   "source": [
    "df.drop(\"Body\", axis = 1, inplace = True)"
   ]
  },
  {
   "cell_type": "markdown",
   "metadata": {},
   "source": [
    "## price (target column)"
   ]
  },
  {
   "cell_type": "code",
   "execution_count": 273,
   "metadata": {},
   "outputs": [
    {
     "data": {
      "text/plain": [
       "0"
      ]
     },
     "execution_count": 273,
     "metadata": {},
     "output_type": "execute_result"
    }
   ],
   "source": [
    "df.price.isnull().sum()"
   ]
  },
  {
   "cell_type": "code",
   "execution_count": 274,
   "metadata": {},
   "outputs": [
    {
     "data": {
      "image/png": "[encoded data removed]",
      "text/plain": [
       "<Figure size 720x432 with 1 Axes>"
      ]
     },
     "metadata": {},
     "output_type": "display_data"
    }
   ],
   "source": [
    "sns.boxplot(df.price);"
   ]
  },
  {
   "cell_type": "code",
   "execution_count": 275,
   "metadata": {},
   "outputs": [
    {
     "data": {
      "image/png": "[encoded data removed]",
      "text/plain": [
       "<Figure size 720x432 with 1 Axes>"
      ]
     },
     "metadata": {},
     "output_type": "display_data"
    }
   ],
   "source": [
    "sns.distplot(df.price);"
   ]
  },
  {
   "cell_type": "markdown",
   "metadata": {},
   "source": [
    "## vat\n",
    "The Value Added Tax, or VAT, in the European Union is a general, broadly based consumption tax assessed on the value added to goods and services."
   ]
  },
  {
   "cell_type": "code",
   "execution_count": 276,
   "metadata": {},
   "outputs": [
    {
     "data": {
      "text/plain": [
       "VAT deductible      10980\n",
       "NaN                  4513\n",
       "Price negotiable      426\n",
       "Name: vat, dtype: int64"
      ]
     },
     "execution_count": 276,
     "metadata": {},
     "output_type": "execute_result"
    }
   ],
   "source": [
    "df.vat.value_counts(dropna=False)"
   ]
  },
  {
   "cell_type": "markdown",
   "metadata": {},
   "source": [
    "## km"
   ]
  },
  {
   "cell_type": "code",
   "execution_count": 277,
   "metadata": {},
   "outputs": [
    {
     "data": {
      "text/plain": [
       "10 km        1045\n",
       "- km         1024\n",
       "1 km          367\n",
       "5 km          170\n",
       "50 km         148\n",
       "             ... \n",
       "67,469 km       1\n",
       "43,197 km       1\n",
       "10,027 km       1\n",
       "35,882 km       1\n",
       "57 km           1\n",
       "Name: km, Length: 6690, dtype: int64"
      ]
     },
     "execution_count": 277,
     "metadata": {},
     "output_type": "execute_result"
    }
   ],
   "source": [
    "df.km.value_counts(dropna=False)"
   ]
  },
  {
   "cell_type": "code",
   "execution_count": 278,
   "metadata": {},
   "outputs": [
    {
     "data": {
      "text/html": [
       "<div>\n",
       "<style scoped>\n",
       "    .dataframe tbody tr th:only-of-type {\n",
       "        vertical-align: middle;\n",
       "    }\n",
       "\n",
       "    .dataframe tbody tr th {\n",
       "        vertical-align: top;\n",
       "    }\n",
       "\n",
       "    .dataframe thead th {\n",
       "        text-align: right;\n",
       "    }\n",
       "</style>\n",
       "<table border=\"1\" class=\"dataframe\">\n",
       "  <thead>\n",
       "    <tr style=\"text-align: right;\">\n",
       "      <th></th>\n",
       "      <th>0</th>\n",
       "    </tr>\n",
       "  </thead>\n",
       "  <tbody>\n",
       "    <tr>\n",
       "      <th>0</th>\n",
       "      <td>56013</td>\n",
       "    </tr>\n",
       "    <tr>\n",
       "      <th>1</th>\n",
       "      <td>80000</td>\n",
       "    </tr>\n",
       "    <tr>\n",
       "      <th>2</th>\n",
       "      <td>83450</td>\n",
       "    </tr>\n",
       "    <tr>\n",
       "      <th>3</th>\n",
       "      <td>73000</td>\n",
       "    </tr>\n",
       "    <tr>\n",
       "      <th>4</th>\n",
       "      <td>16200</td>\n",
       "    </tr>\n",
       "    <tr>\n",
       "      <th>...</th>\n",
       "      <td>...</td>\n",
       "    </tr>\n",
       "    <tr>\n",
       "      <th>15914</th>\n",
       "      <td>NaN</td>\n",
       "    </tr>\n",
       "    <tr>\n",
       "      <th>15915</th>\n",
       "      <td>9900</td>\n",
       "    </tr>\n",
       "    <tr>\n",
       "      <th>15916</th>\n",
       "      <td>15</td>\n",
       "    </tr>\n",
       "    <tr>\n",
       "      <th>15917</th>\n",
       "      <td>10</td>\n",
       "    </tr>\n",
       "    <tr>\n",
       "      <th>15918</th>\n",
       "      <td>NaN</td>\n",
       "    </tr>\n",
       "  </tbody>\n",
       "</table>\n",
       "<p>15919 rows × 1 columns</p>\n",
       "</div>"
      ],
      "text/plain": [
       "           0\n",
       "0      56013\n",
       "1      80000\n",
       "2      83450\n",
       "3      73000\n",
       "4      16200\n",
       "...      ...\n",
       "15914    NaN\n",
       "15915   9900\n",
       "15916     15\n",
       "15917     10\n",
       "15918    NaN\n",
       "\n",
       "[15919 rows x 1 columns]"
      ]
     },
     "execution_count": 278,
     "metadata": {},
     "output_type": "execute_result"
    }
   ],
   "source": [
    "df.km.str.replace(',','').str.extract('(\\d{1,8})')"
   ]
  },
  {
   "cell_type": "code",
   "execution_count": 279,
   "metadata": {},
   "outputs": [],
   "source": [
    "df[\"km\"] = df.km.str.replace(',','').str.extract('(\\d{1,8})')[0].astype('float')\n",
    "#Function of extract returns a dataframe, that's why we have to use slicing method before changing the type of column"
   ]
  },
  {
   "cell_type": "code",
   "execution_count": 280,
   "metadata": {},
   "outputs": [
    {
     "data": {
      "text/plain": [
       "10.000       1045\n",
       "NaN          1024\n",
       "1.000         367\n",
       "5.000         170\n",
       "50.000        148\n",
       "             ... \n",
       "67469.000       1\n",
       "43197.000       1\n",
       "10027.000       1\n",
       "35882.000       1\n",
       "57.000          1\n",
       "Name: km, Length: 6690, dtype: int64"
      ]
     },
     "execution_count": 280,
     "metadata": {},
     "output_type": "execute_result"
    }
   ],
   "source": [
    "df.km.value_counts(dropna=False)"
   ]
  },
  {
   "cell_type": "markdown",
   "metadata": {},
   "source": [
    "## registration & First Registration"
   ]
  },
  {
   "cell_type": "code",
   "execution_count": 281,
   "metadata": {},
   "outputs": [
    {
     "data": {
      "text/plain": [
       "-/-        1597\n",
       "03/2018     695\n",
       "02/2019     585\n",
       "05/2018     572\n",
       "03/2019     543\n",
       "01/2019     541\n",
       "04/2018     541\n",
       "02/2018     539\n",
       "03/2016     536\n",
       "04/2016     532\n",
       "06/2018     532\n",
       "01/2018     511\n",
       "04/2019     506\n",
       "02/2016     472\n",
       "03/2017     471\n",
       "05/2016     459\n",
       "06/2016     452\n",
       "05/2019     440\n",
       "06/2017     409\n",
       "05/2017     404\n",
       "07/2018     396\n",
       "04/2017     380\n",
       "01/2016     376\n",
       "02/2017     368\n",
       "01/2017     306\n",
       "08/2018     285\n",
       "06/2019     224\n",
       "07/2017     215\n",
       "11/2017     180\n",
       "07/2016     176\n",
       "10/2016     160\n",
       "10/2017     154\n",
       "09/2017     149\n",
       "11/2016     142\n",
       "09/2018     141\n",
       "09/2016     141\n",
       "12/2016     134\n",
       "12/2017     123\n",
       "08/2017     114\n",
       "11/2018     110\n",
       "12/2018     103\n",
       "10/2018      97\n",
       "08/2016      94\n",
       "07/2019       6\n",
       "09/2019       5\n",
       "08/2019       1\n",
       "11/2019       1\n",
       "12/2019       1\n",
       "Name: registration, dtype: int64"
      ]
     },
     "execution_count": 281,
     "metadata": {},
     "output_type": "execute_result"
    }
   ],
   "source": [
    "df.registration.value_counts(dropna=False)"
   ]
  },
  {
   "cell_type": "code",
   "execution_count": 282,
   "metadata": {},
   "outputs": [
    {
     "ename": "TypeError",
     "evalue": "unhashable type: 'list'",
     "output_type": "error",
     "traceback": [
      "\u001b[1;31m---------------------------------------------------------------------------\u001b[0m",
      "\u001b[1;31mTypeError\u001b[0m                                 Traceback (most recent call last)",
      "\u001b[1;32mpandas\\_libs\\hashtable_class_helper.pxi\u001b[0m in \u001b[0;36mpandas._libs.hashtable.PyObjectHashTable.map_locations\u001b[1;34m()\u001b[0m\n",
      "\u001b[1;31mTypeError\u001b[0m: unhashable type: 'list'"
     ]
    },
    {
     "name": "stderr",
     "output_type": "stream",
     "text": [
      "Exception ignored in: 'pandas._libs.index.IndexEngine._call_map_locations'\n",
      "Traceback (most recent call last):\n",
      "  File \"pandas\\_libs\\hashtable_class_helper.pxi\", line 5231, in pandas._libs.hashtable.PyObjectHashTable.map_locations\n",
      "TypeError: unhashable type: 'list'\n"
     ]
    },
    {
     "data": {
      "text/plain": [
       "[\\n, 2018, \\n]    4522\n",
       "[\\n, 2016, \\n]    3674\n",
       "[\\n, 2017, \\n]    3273\n",
       "[\\n, 2019, \\n]    2853\n",
       "NaN               1597\n",
       "Name: First Registration, dtype: int64"
      ]
     },
     "execution_count": 282,
     "metadata": {},
     "output_type": "execute_result"
    }
   ],
   "source": [
    "df[\"First Registration\"].value_counts(dropna=False)"
   ]
  },
  {
   "cell_type": "markdown",
   "metadata": {},
   "source": [
    "I prefer \"First Registration\" column because I don't need month values"
   ]
  },
  {
   "cell_type": "code",
   "execution_count": 283,
   "metadata": {},
   "outputs": [],
   "source": [
    "df['First Registration'] = df['First Registration'].str[1].astype('float')"
   ]
  },
  {
   "cell_type": "code",
   "execution_count": 284,
   "metadata": {},
   "outputs": [
    {
     "data": {
      "text/plain": [
       "2018.000    4522\n",
       "2016.000    3674\n",
       "2017.000    3273\n",
       "2019.000    2853\n",
       "NaN         1597\n",
       "Name: First Registration, dtype: int64"
      ]
     },
     "execution_count": 284,
     "metadata": {},
     "output_type": "execute_result"
    }
   ],
   "source": [
    "df[\"First Registration\"].value_counts(dropna=False)"
   ]
  },
  {
   "cell_type": "code",
   "execution_count": 285,
   "metadata": {},
   "outputs": [],
   "source": [
    "df['age'] = 2019 - df['First Registration']"
   ]
  },
  {
   "cell_type": "code",
   "execution_count": 286,
   "metadata": {},
   "outputs": [
    {
     "data": {
      "text/plain": [
       "1.000    4522\n",
       "3.000    3674\n",
       "2.000    3273\n",
       "0.000    2853\n",
       "NaN      1597\n",
       "Name: age, dtype: int64"
      ]
     },
     "execution_count": 286,
     "metadata": {},
     "output_type": "execute_result"
    }
   ],
   "source": [
    "df.age.value_counts(dropna=False)"
   ]
  },
  {
   "cell_type": "code",
   "execution_count": 287,
   "metadata": {},
   "outputs": [],
   "source": [
    "df.drop([\"registration\", \"First Registration\"], axis=1, inplace=True)"
   ]
  },
  {
   "cell_type": "markdown",
   "metadata": {},
   "source": [
    "## prev_owner & Previous Owners"
   ]
  },
  {
   "cell_type": "code",
   "execution_count": 288,
   "metadata": {},
   "outputs": [
    {
     "data": {
      "text/plain": [
       "1 previous owner     8294\n",
       "NaN                  6828\n",
       "2 previous owners     778\n",
       "3 previous owners      17\n",
       "4 previous owners       2\n",
       "Name: prev_owner, dtype: int64"
      ]
     },
     "execution_count": 288,
     "metadata": {},
     "output_type": "execute_result"
    }
   ],
   "source": [
    "df.prev_owner.value_counts(dropna=False)"
   ]
  },
  {
   "cell_type": "code",
   "execution_count": 289,
   "metadata": {},
   "outputs": [
    {
     "ename": "TypeError",
     "evalue": "unhashable type: 'list'",
     "output_type": "error",
     "traceback": [
      "\u001b[1;31m---------------------------------------------------------------------------\u001b[0m",
      "\u001b[1;31mTypeError\u001b[0m                                 Traceback (most recent call last)",
      "\u001b[1;32mpandas\\_libs\\hashtable_class_helper.pxi\u001b[0m in \u001b[0;36mpandas._libs.hashtable.PyObjectHashTable.map_locations\u001b[1;34m()\u001b[0m\n",
      "\u001b[1;31mTypeError\u001b[0m: unhashable type: 'list'"
     ]
    },
    {
     "name": "stderr",
     "output_type": "stream",
     "text": [
      "Exception ignored in: 'pandas._libs.index.IndexEngine._call_map_locations'\n",
      "Traceback (most recent call last):\n",
      "  File \"pandas\\_libs\\hashtable_class_helper.pxi\", line 5231, in pandas._libs.hashtable.PyObjectHashTable.map_locations\n",
      "TypeError: unhashable type: 'list'\n"
     ]
    },
    {
     "data": {
      "text/plain": [
       "\\n1\\n                                                                                        8101\n",
       "NaN                                                                                          6640\n",
       "\\n2\\n                                                                                         766\n",
       "\\n0\\n                                                                                         163\n",
       "\\n3\\n                                                                                          17\n",
       "                                                                                             ... \n",
       "[\\n1\\n, \\n111 g CO2/km (comb)\\n]                                                                1\n",
       "[\\n1\\n, \\nEuro 6\\n]                                                                             1\n",
       "[\\n2\\n, \\n119 g CO2/km (comb)\\n]                                                                1\n",
       "[\\n1\\n, \\n, 6.6 l/100 km (comb), \\n, 8.1 l/100 km (city), \\n, 5.7 l/100 km (country), \\n]       1\n",
       "[\\n2\\n, \\n137 g CO2/km (comb)\\n]                                                                1\n",
       "Name: Previous Owners, Length: 103, dtype: int64"
      ]
     },
     "execution_count": 289,
     "metadata": {},
     "output_type": "execute_result"
    }
   ],
   "source": [
    "df[\"Previous Owners\"].value_counts(dropna=False)"
   ]
  },
  {
   "cell_type": "markdown",
   "metadata": {},
   "source": [
    "I prefer \"Previous Owners\" column because it has less NaN values"
   ]
  },
  {
   "cell_type": "code",
   "execution_count": 290,
   "metadata": {},
   "outputs": [
    {
     "data": {
      "text/plain": [
       "['\\n2\\n',\n",
       " nan,\n",
       " '\\n1\\n',\n",
       " '\\n1\\n',\n",
       " '\\n1\\n',\n",
       " '\\n1\\n',\n",
       " '\\n1\\n',\n",
       " '\\n1\\n',\n",
       " '\\n1\\n',\n",
       " nan,\n",
       " nan,\n",
       " '\\n1\\n',\n",
       " '\\n1\\n',\n",
       " nan,\n",
       " '\\n1\\n',\n",
       " '\\n1\\n',\n",
       " nan,\n",
       " '\\n1\\n',\n",
       " nan,\n",
       " nan,\n",
       " '\\n1\\n',\n",
       " '\\n1\\n',\n",
       " '\\n1\\n',\n",
       " nan,\n",
       " '\\n1\\n',\n",
       " nan,\n",
       " '\\n1\\n',\n",
       " '\\n1\\n',\n",
       " nan,\n",
       " nan,\n",
       " nan,\n",
       " '\\n1\\n',\n",
       " '\\n1\\n',\n",
       " '\\n1\\n',\n",
       " nan,\n",
       " '\\n1\\n',\n",
       " '\\n1\\n',\n",
       " '\\n1\\n',\n",
       " '\\n2\\n',\n",
       " '\\n1\\n',\n",
       " '\\n1\\n',\n",
       " '\\n1\\n',\n",
       " '\\n1\\n',\n",
       " '\\n1\\n',\n",
       " '\\n1\\n',\n",
       " '\\n1\\n',\n",
       " '\\n1\\n',\n",
       " '\\n0\\n',\n",
       " '\\n2\\n',\n",
       " '\\n1\\n',\n",
       " '\\n1\\n',\n",
       " '\\n1\\n',\n",
       " nan,\n",
       " nan,\n",
       " '\\n1\\n',\n",
       " '\\n1\\n',\n",
       " '\\n1\\n',\n",
       " '\\n1\\n',\n",
       " '\\n2\\n',\n",
       " nan,\n",
       " '\\n1\\n',\n",
       " '\\n1\\n',\n",
       " '\\n1\\n',\n",
       " '\\n1\\n',\n",
       " '\\n1\\n',\n",
       " nan,\n",
       " nan,\n",
       " nan,\n",
       " '\\n1\\n',\n",
       " '\\n1\\n',\n",
       " nan,\n",
       " '\\n1\\n',\n",
       " '\\n1\\n',\n",
       " '\\n1\\n',\n",
       " '\\n1\\n',\n",
       " '\\n1\\n',\n",
       " '\\n1\\n',\n",
       " '\\n1\\n',\n",
       " '\\n1\\n',\n",
       " '\\n1\\n',\n",
       " '\\n1\\n',\n",
       " nan,\n",
       " '\\n1\\n',\n",
       " '\\n1\\n',\n",
       " '\\n2\\n',\n",
       " nan,\n",
       " nan,\n",
       " '\\n1\\n',\n",
       " '\\n1\\n',\n",
       " '\\n1\\n',\n",
       " '\\n1\\n',\n",
       " '\\n1\\n',\n",
       " '\\n2\\n',\n",
       " '\\n1\\n',\n",
       " nan,\n",
       " nan,\n",
       " nan,\n",
       " nan,\n",
       " '\\n1\\n',\n",
       " '\\n1\\n',\n",
       " nan,\n",
       " nan,\n",
       " '\\n1\\n',\n",
       " nan,\n",
       " nan,\n",
       " nan,\n",
       " nan,\n",
       " nan,\n",
       " nan,\n",
       " nan,\n",
       " nan,\n",
       " nan,\n",
       " nan,\n",
       " nan,\n",
       " '\\n1\\n',\n",
       " nan,\n",
       " nan,\n",
       " '\\n1\\n',\n",
       " nan,\n",
       " '\\n1\\n',\n",
       " '\\n1\\n',\n",
       " '\\n1\\n',\n",
       " nan,\n",
       " '\\n1\\n',\n",
       " '\\n1\\n',\n",
       " '\\n1\\n',\n",
       " '\\n1\\n',\n",
       " '\\n1\\n',\n",
       " '\\n1\\n',\n",
       " '\\n1\\n',\n",
       " nan,\n",
       " nan,\n",
       " nan,\n",
       " '\\n1\\n',\n",
       " nan,\n",
       " '\\n1\\n',\n",
       " '\\n1\\n',\n",
       " '\\n1\\n',\n",
       " '\\n1\\n',\n",
       " '\\n2\\n',\n",
       " nan,\n",
       " nan,\n",
       " '\\n1\\n',\n",
       " '\\n1\\n',\n",
       " '\\n2\\n',\n",
       " '\\n1\\n',\n",
       " '\\n2\\n',\n",
       " '\\n2\\n',\n",
       " '\\n1\\n',\n",
       " '\\n1\\n',\n",
       " nan,\n",
       " '\\n1\\n',\n",
       " '\\n1\\n',\n",
       " '\\n1\\n',\n",
       " '\\n1\\n',\n",
       " '\\n2\\n',\n",
       " '\\n1\\n',\n",
       " '\\n1\\n',\n",
       " '\\n1\\n',\n",
       " nan,\n",
       " '\\n1\\n',\n",
       " '\\n1\\n',\n",
       " '\\n2\\n',\n",
       " '\\n1\\n',\n",
       " '\\n1\\n',\n",
       " '\\n2\\n',\n",
       " '\\n2\\n',\n",
       " '\\n1\\n',\n",
       " nan,\n",
       " '\\n1\\n',\n",
       " nan,\n",
       " nan,\n",
       " '\\n1\\n',\n",
       " nan,\n",
       " '\\n2\\n',\n",
       " '\\n1\\n',\n",
       " nan,\n",
       " '\\n2\\n',\n",
       " '\\n1\\n',\n",
       " '\\n2\\n',\n",
       " '\\n1\\n',\n",
       " '\\n2\\n',\n",
       " '\\n1\\n',\n",
       " '\\n1\\n',\n",
       " '\\n1\\n',\n",
       " '\\n1\\n',\n",
       " '\\n1\\n',\n",
       " '\\n1\\n',\n",
       " '\\n1\\n',\n",
       " '\\n1\\n',\n",
       " nan,\n",
       " nan,\n",
       " '\\n1\\n',\n",
       " '\\n1\\n',\n",
       " '\\n1\\n',\n",
       " nan,\n",
       " '\\n1\\n',\n",
       " nan,\n",
       " '\\n1\\n',\n",
       " '\\n1\\n',\n",
       " '\\n2\\n',\n",
       " nan,\n",
       " '\\n1\\n',\n",
       " '\\n1\\n',\n",
       " '\\n1\\n',\n",
       " nan,\n",
       " '\\n2\\n',\n",
       " '\\n2\\n',\n",
       " nan,\n",
       " '\\n1\\n',\n",
       " nan,\n",
       " '\\n1\\n',\n",
       " '\\n1\\n',\n",
       " '\\n1\\n',\n",
       " '\\n1\\n',\n",
       " '\\n1\\n',\n",
       " '\\n1\\n',\n",
       " '\\n1\\n',\n",
       " '\\n1\\n',\n",
       " nan,\n",
       " '\\n2\\n',\n",
       " '\\n1\\n',\n",
       " '\\n1\\n',\n",
       " '\\n1\\n',\n",
       " '\\n1\\n',\n",
       " '\\n1\\n',\n",
       " '\\n1\\n',\n",
       " nan,\n",
       " nan,\n",
       " nan,\n",
       " '\\n1\\n',\n",
       " nan,\n",
       " nan,\n",
       " nan,\n",
       " '\\n1\\n',\n",
       " '\\n1\\n',\n",
       " '\\n1\\n',\n",
       " '\\n1\\n',\n",
       " '\\n1\\n',\n",
       " '\\n1\\n',\n",
       " '\\n1\\n',\n",
       " '\\n2\\n',\n",
       " '\\n2\\n',\n",
       " '\\n1\\n',\n",
       " nan,\n",
       " '\\n1\\n',\n",
       " '\\n1\\n',\n",
       " nan,\n",
       " '\\n1\\n',\n",
       " '\\n1\\n',\n",
       " nan,\n",
       " '\\n2\\n',\n",
       " nan,\n",
       " nan,\n",
       " '\\n1\\n',\n",
       " '\\n1\\n',\n",
       " '\\n2\\n',\n",
       " '\\n1\\n',\n",
       " '\\n1\\n',\n",
       " '\\n2\\n',\n",
       " nan,\n",
       " nan,\n",
       " nan,\n",
       " '\\n1\\n',\n",
       " '\\n1\\n',\n",
       " '\\n1\\n',\n",
       " '\\n1\\n',\n",
       " '\\n2\\n',\n",
       " '\\n1\\n',\n",
       " '\\n1\\n',\n",
       " nan,\n",
       " '\\n1\\n',\n",
       " '\\n1\\n',\n",
       " '\\n1\\n',\n",
       " nan,\n",
       " nan,\n",
       " nan,\n",
       " '\\n1\\n',\n",
       " nan,\n",
       " '\\n2\\n',\n",
       " '\\n1\\n',\n",
       " '\\n1\\n',\n",
       " '\\n2\\n',\n",
       " '\\n1\\n',\n",
       " '\\n1\\n',\n",
       " '\\n1\\n',\n",
       " '\\n1\\n',\n",
       " '\\n1\\n',\n",
       " '\\n1\\n',\n",
       " '\\n1\\n',\n",
       " '\\n1\\n',\n",
       " '\\n1\\n',\n",
       " '\\n1\\n',\n",
       " '\\n1\\n',\n",
       " '\\n1\\n',\n",
       " '\\n1\\n',\n",
       " '\\n1\\n',\n",
       " '\\n1\\n',\n",
       " '\\n1\\n',\n",
       " '\\n1\\n',\n",
       " '\\n1\\n',\n",
       " '\\n1\\n',\n",
       " '\\n1\\n',\n",
       " '\\n2\\n',\n",
       " '\\n1\\n',\n",
       " '\\n1\\n',\n",
       " '\\n1\\n',\n",
       " '\\n1\\n',\n",
       " '\\n1\\n',\n",
       " nan,\n",
       " nan,\n",
       " '\\n1\\n',\n",
       " '\\n1\\n',\n",
       " '\\n1\\n',\n",
       " '\\n1\\n',\n",
       " '\\n1\\n',\n",
       " '\\n1\\n',\n",
       " '\\n1\\n',\n",
       " '\\n1\\n',\n",
       " '\\n1\\n',\n",
       " '\\n1\\n',\n",
       " '\\n1\\n',\n",
       " '\\n1\\n',\n",
       " '\\n1\\n',\n",
       " '\\n1\\n',\n",
       " '\\n1\\n',\n",
       " '\\n1\\n',\n",
       " nan,\n",
       " '\\n1\\n',\n",
       " '\\n1\\n',\n",
       " '\\n1\\n',\n",
       " nan,\n",
       " '\\n1\\n',\n",
       " '\\n1\\n',\n",
       " nan,\n",
       " '\\n2\\n',\n",
       " '\\n2\\n',\n",
       " '\\n2\\n',\n",
       " '\\n1\\n',\n",
       " '\\n2\\n',\n",
       " '\\n2\\n',\n",
       " '\\n2\\n',\n",
       " '\\n2\\n',\n",
       " '\\n2\\n',\n",
       " '\\n2\\n',\n",
       " '\\n2\\n',\n",
       " '\\n2\\n',\n",
       " '\\n1\\n',\n",
       " '\\n1\\n',\n",
       " '\\n2\\n',\n",
       " '\\n1\\n',\n",
       " '\\n2\\n',\n",
       " '\\n2\\n',\n",
       " '\\n1\\n',\n",
       " '\\n2\\n',\n",
       " nan,\n",
       " '\\n2\\n',\n",
       " '\\n2\\n',\n",
       " '\\n2\\n',\n",
       " '\\n2\\n',\n",
       " '\\n2\\n',\n",
       " nan,\n",
       " '\\n2\\n',\n",
       " '\\n2\\n',\n",
       " '\\n2\\n',\n",
       " '\\n1\\n',\n",
       " '\\n2\\n',\n",
       " nan,\n",
       " '\\n1\\n',\n",
       " '\\n2\\n',\n",
       " nan,\n",
       " '\\n1\\n',\n",
       " nan,\n",
       " '\\n1\\n',\n",
       " nan,\n",
       " '\\n2\\n',\n",
       " '\\n2\\n',\n",
       " '\\n2\\n',\n",
       " '\\n2\\n',\n",
       " '\\n2\\n',\n",
       " '\\n1\\n',\n",
       " nan,\n",
       " '\\n1\\n',\n",
       " '\\n2\\n',\n",
       " '\\n2\\n',\n",
       " '\\n2\\n',\n",
       " '\\n2\\n',\n",
       " nan,\n",
       " nan,\n",
       " '\\n1\\n',\n",
       " '\\n1\\n',\n",
       " '\\n1\\n',\n",
       " '\\n1\\n',\n",
       " '\\n1\\n',\n",
       " '\\n1\\n',\n",
       " '\\n1\\n',\n",
       " '\\n1\\n',\n",
       " nan,\n",
       " '\\n2\\n',\n",
       " '\\n1\\n',\n",
       " '\\n1\\n',\n",
       " '\\n1\\n',\n",
       " '\\n1\\n',\n",
       " '\\n1\\n',\n",
       " nan,\n",
       " nan,\n",
       " nan,\n",
       " nan,\n",
       " nan,\n",
       " '\\n1\\n',\n",
       " '\\n1\\n',\n",
       " '\\n1\\n',\n",
       " '\\n1\\n',\n",
       " '\\n1\\n',\n",
       " '\\n1\\n',\n",
       " '\\n1\\n',\n",
       " '\\n1\\n',\n",
       " '\\n1\\n',\n",
       " '\\n0\\n',\n",
       " nan,\n",
       " '\\n1\\n',\n",
       " '\\n1\\n',\n",
       " '\\n2\\n',\n",
       " '\\n2\\n',\n",
       " '\\n1\\n',\n",
       " '\\n1\\n',\n",
       " '\\n2\\n',\n",
       " nan,\n",
       " '\\n1\\n',\n",
       " '\\n1\\n',\n",
       " '\\n1\\n',\n",
       " '\\n1\\n',\n",
       " '\\n1\\n',\n",
       " '\\n2\\n',\n",
       " '\\n1\\n',\n",
       " nan,\n",
       " '\\n1\\n',\n",
       " '\\n1\\n',\n",
       " '\\n1\\n',\n",
       " '\\n1\\n',\n",
       " '\\n1\\n',\n",
       " '\\n1\\n',\n",
       " '\\n1\\n',\n",
       " '\\n2\\n',\n",
       " nan,\n",
       " '\\n1\\n',\n",
       " nan,\n",
       " nan,\n",
       " nan,\n",
       " '\\n1\\n',\n",
       " '\\n1\\n',\n",
       " '\\n1\\n',\n",
       " '\\n1\\n',\n",
       " '\\n1\\n',\n",
       " '\\n1\\n',\n",
       " '\\n1\\n',\n",
       " '\\n1\\n',\n",
       " nan,\n",
       " '\\n1\\n',\n",
       " nan,\n",
       " nan,\n",
       " nan,\n",
       " '\\n1\\n',\n",
       " '\\n1\\n',\n",
       " '\\n1\\n',\n",
       " '\\n1\\n',\n",
       " nan,\n",
       " '\\n1\\n',\n",
       " nan,\n",
       " nan,\n",
       " nan,\n",
       " '\\n2\\n',\n",
       " '\\n1\\n',\n",
       " '\\n1\\n',\n",
       " '\\n1\\n',\n",
       " '\\n1\\n',\n",
       " nan,\n",
       " '\\n1\\n',\n",
       " '\\n1\\n',\n",
       " nan,\n",
       " nan,\n",
       " '\\n1\\n',\n",
       " '\\n1\\n',\n",
       " nan,\n",
       " nan,\n",
       " nan,\n",
       " nan,\n",
       " nan,\n",
       " '\\n1\\n',\n",
       " nan,\n",
       " '\\n1\\n',\n",
       " '\\n1\\n',\n",
       " '\\n1\\n',\n",
       " '\\n1\\n',\n",
       " '\\n1\\n',\n",
       " '\\n1\\n',\n",
       " '\\n1\\n',\n",
       " nan,\n",
       " '\\n1\\n',\n",
       " '\\n1\\n',\n",
       " '\\n1\\n',\n",
       " nan,\n",
       " '\\n1\\n',\n",
       " '\\n2\\n',\n",
       " '\\n2\\n',\n",
       " nan,\n",
       " '\\n1\\n',\n",
       " '\\n1\\n',\n",
       " '\\n1\\n',\n",
       " '\\n1\\n',\n",
       " nan,\n",
       " '\\n1\\n',\n",
       " '\\n1\\n',\n",
       " '\\n2\\n',\n",
       " '\\n1\\n',\n",
       " nan,\n",
       " '\\n2\\n',\n",
       " nan,\n",
       " nan,\n",
       " '\\n1\\n',\n",
       " '\\n1\\n',\n",
       " '\\n1\\n',\n",
       " '\\n2\\n',\n",
       " '\\n1\\n',\n",
       " nan,\n",
       " '\\n1\\n',\n",
       " '\\n1\\n',\n",
       " '\\n1\\n',\n",
       " '\\n1\\n',\n",
       " '\\n1\\n',\n",
       " nan,\n",
       " '\\n1\\n',\n",
       " nan,\n",
       " '\\n1\\n',\n",
       " '\\n1\\n',\n",
       " '\\n1\\n',\n",
       " '\\n1\\n',\n",
       " '\\n1\\n',\n",
       " '\\n1\\n',\n",
       " '\\n1\\n',\n",
       " '\\n1\\n',\n",
       " '\\n1\\n',\n",
       " '\\n1\\n',\n",
       " '\\n1\\n',\n",
       " '\\n1\\n',\n",
       " '\\n1\\n',\n",
       " nan,\n",
       " nan,\n",
       " '\\n1\\n',\n",
       " '\\n1\\n',\n",
       " '\\n1\\n',\n",
       " '\\n1\\n',\n",
       " '\\n1\\n',\n",
       " '\\n1\\n',\n",
       " '\\n1\\n',\n",
       " '\\n1\\n',\n",
       " '\\n1\\n',\n",
       " '\\n1\\n',\n",
       " '\\n1\\n',\n",
       " '\\n1\\n',\n",
       " '\\n1\\n',\n",
       " '\\n1\\n',\n",
       " nan,\n",
       " nan,\n",
       " nan,\n",
       " nan,\n",
       " nan,\n",
       " '\\n2\\n',\n",
       " '\\n1\\n',\n",
       " nan,\n",
       " nan,\n",
       " '\\n1\\n',\n",
       " '\\n1\\n',\n",
       " '\\n1\\n',\n",
       " '\\n1\\n',\n",
       " '\\n1\\n',\n",
       " '\\n1\\n',\n",
       " nan,\n",
       " nan,\n",
       " '\\n1\\n',\n",
       " '\\n1\\n',\n",
       " nan,\n",
       " '\\n1\\n',\n",
       " '\\n1\\n',\n",
       " nan,\n",
       " '\\n2\\n',\n",
       " '\\n0\\n',\n",
       " '\\n1\\n',\n",
       " '\\n2\\n',\n",
       " nan,\n",
       " '\\n1\\n',\n",
       " '\\n1\\n',\n",
       " '\\n1\\n',\n",
       " '\\n1\\n',\n",
       " '\\n2\\n',\n",
       " nan,\n",
       " '\\n1\\n',\n",
       " '\\n1\\n',\n",
       " nan,\n",
       " '\\n1\\n',\n",
       " '\\n1\\n',\n",
       " nan,\n",
       " '\\n1\\n',\n",
       " '\\n1\\n',\n",
       " '\\n2\\n',\n",
       " nan,\n",
       " '\\n1\\n',\n",
       " '\\n1\\n',\n",
       " nan,\n",
       " '\\n1\\n',\n",
       " '\\n1\\n',\n",
       " '\\n1\\n',\n",
       " '\\n2\\n',\n",
       " '\\n1\\n',\n",
       " '\\n2\\n',\n",
       " '\\n1\\n',\n",
       " '\\n1\\n',\n",
       " nan,\n",
       " '\\n1\\n',\n",
       " '\\n1\\n',\n",
       " '\\n1\\n',\n",
       " '\\n1\\n',\n",
       " '\\n1\\n',\n",
       " nan,\n",
       " '\\n1\\n',\n",
       " '\\n1\\n',\n",
       " '\\n1\\n',\n",
       " '\\n2\\n',\n",
       " '\\n1\\n',\n",
       " '\\n1\\n',\n",
       " '\\n1\\n',\n",
       " '\\n1\\n',\n",
       " '\\n1\\n',\n",
       " '\\n1\\n',\n",
       " nan,\n",
       " '\\n1\\n',\n",
       " '\\n1\\n',\n",
       " nan,\n",
       " '\\n1\\n',\n",
       " '\\n2\\n',\n",
       " '\\n2\\n',\n",
       " nan,\n",
       " '\\n1\\n',\n",
       " nan,\n",
       " nan,\n",
       " '\\n1\\n',\n",
       " '\\n1\\n',\n",
       " nan,\n",
       " '\\n0\\n',\n",
       " '\\n1\\n',\n",
       " '\\n1\\n',\n",
       " '\\n2\\n',\n",
       " '\\n1\\n',\n",
       " '\\n2\\n',\n",
       " '\\n1\\n',\n",
       " nan,\n",
       " nan,\n",
       " '\\n1\\n',\n",
       " '\\n1\\n',\n",
       " '\\n1\\n',\n",
       " '\\n1\\n',\n",
       " nan,\n",
       " nan,\n",
       " '\\n2\\n',\n",
       " '\\n1\\n',\n",
       " nan,\n",
       " '\\n1\\n',\n",
       " '\\n1\\n',\n",
       " '\\n1\\n',\n",
       " '\\n1\\n',\n",
       " '\\n1\\n',\n",
       " nan,\n",
       " nan,\n",
       " '\\n1\\n',\n",
       " nan,\n",
       " '\\n1\\n',\n",
       " '\\n1\\n',\n",
       " '\\n1\\n',\n",
       " nan,\n",
       " '\\n3\\n',\n",
       " '\\n1\\n',\n",
       " nan,\n",
       " '\\n1\\n',\n",
       " '\\n1\\n',\n",
       " '\\n1\\n',\n",
       " '\\n1\\n',\n",
       " '\\n1\\n',\n",
       " '\\n1\\n',\n",
       " nan,\n",
       " nan,\n",
       " '\\n1\\n',\n",
       " '\\n1\\n',\n",
       " '\\n1\\n',\n",
       " '\\n1\\n',\n",
       " '\\n1\\n',\n",
       " nan,\n",
       " '\\n1\\n',\n",
       " '\\n1\\n',\n",
       " '\\n1\\n',\n",
       " '\\n1\\n',\n",
       " '\\n1\\n',\n",
       " '\\n1\\n',\n",
       " '\\n2\\n',\n",
       " '\\n1\\n',\n",
       " '\\n1\\n',\n",
       " '\\n1\\n',\n",
       " nan,\n",
       " '\\n1\\n',\n",
       " nan,\n",
       " '\\n1\\n',\n",
       " nan,\n",
       " '\\n1\\n',\n",
       " '\\n1\\n',\n",
       " nan,\n",
       " '\\n1\\n',\n",
       " '\\n1\\n',\n",
       " '\\n1\\n',\n",
       " '\\n1\\n',\n",
       " '\\n1\\n',\n",
       " '\\n1\\n',\n",
       " nan,\n",
       " '\\n1\\n',\n",
       " '\\n1\\n',\n",
       " nan,\n",
       " '\\n1\\n',\n",
       " '\\n2\\n',\n",
       " '\\n1\\n',\n",
       " '\\n2\\n',\n",
       " '\\n1\\n',\n",
       " '\\n1\\n',\n",
       " '\\n1\\n',\n",
       " '\\n1\\n',\n",
       " '\\n1\\n',\n",
       " nan,\n",
       " '\\n0\\n',\n",
       " nan,\n",
       " '\\n1\\n',\n",
       " '\\n1\\n',\n",
       " '\\n1\\n',\n",
       " '\\n1\\n',\n",
       " '\\n1\\n',\n",
       " nan,\n",
       " '\\n1\\n',\n",
       " '\\n0\\n',\n",
       " nan,\n",
       " '\\n1\\n',\n",
       " '\\n1\\n',\n",
       " '\\n1\\n',\n",
       " '\\n1\\n',\n",
       " '\\n1\\n',\n",
       " '\\n1\\n',\n",
       " '\\n2\\n',\n",
       " nan,\n",
       " '\\n1\\n',\n",
       " nan,\n",
       " nan,\n",
       " nan,\n",
       " nan,\n",
       " '\\n2\\n',\n",
       " '\\n1\\n',\n",
       " nan,\n",
       " '\\n1\\n',\n",
       " '\\n1\\n',\n",
       " '\\n1\\n',\n",
       " '\\n2\\n',\n",
       " '\\n1\\n',\n",
       " '\\n1\\n',\n",
       " nan,\n",
       " nan,\n",
       " nan,\n",
       " nan,\n",
       " nan,\n",
       " nan,\n",
       " nan,\n",
       " nan,\n",
       " nan,\n",
       " nan,\n",
       " nan,\n",
       " nan,\n",
       " nan,\n",
       " '\\n1\\n',\n",
       " nan,\n",
       " nan,\n",
       " nan,\n",
       " nan,\n",
       " nan,\n",
       " nan,\n",
       " nan,\n",
       " nan,\n",
       " '\\n1\\n',\n",
       " '\\n1\\n',\n",
       " nan,\n",
       " '\\n2\\n',\n",
       " '\\n1\\n',\n",
       " nan,\n",
       " nan,\n",
       " '\\n1\\n',\n",
       " '\\n1\\n',\n",
       " nan,\n",
       " '\\n1\\n',\n",
       " '\\n1\\n',\n",
       " '\\n1\\n',\n",
       " nan,\n",
       " '\\n2\\n',\n",
       " '\\n1\\n',\n",
       " nan,\n",
       " '\\n1\\n',\n",
       " '\\n1\\n',\n",
       " '\\n1\\n',\n",
       " '\\n2\\n',\n",
       " nan,\n",
       " nan,\n",
       " '\\n2\\n',\n",
       " nan,\n",
       " nan,\n",
       " '\\n2\\n',\n",
       " nan,\n",
       " '\\n1\\n',\n",
       " '\\n1\\n',\n",
       " '\\n1\\n',\n",
       " '\\n1\\n',\n",
       " '\\n1\\n',\n",
       " '\\n2\\n',\n",
       " '\\n2\\n',\n",
       " '\\n1\\n',\n",
       " '\\n1\\n',\n",
       " '\\n2\\n',\n",
       " '\\n1\\n',\n",
       " '\\n1\\n',\n",
       " '\\n1\\n',\n",
       " '\\n1\\n',\n",
       " nan,\n",
       " nan,\n",
       " nan,\n",
       " '\\n1\\n',\n",
       " '\\n1\\n',\n",
       " '\\n1\\n',\n",
       " nan,\n",
       " nan,\n",
       " '\\n1\\n',\n",
       " '\\n2\\n',\n",
       " '\\n1\\n',\n",
       " '\\n2\\n',\n",
       " nan,\n",
       " '\\n1\\n',\n",
       " '\\n1\\n',\n",
       " '\\n1\\n',\n",
       " '\\n1\\n',\n",
       " '\\n1\\n',\n",
       " '\\n1\\n',\n",
       " '\\n1\\n',\n",
       " '\\n1\\n',\n",
       " '\\n1\\n',\n",
       " '\\n1\\n',\n",
       " nan,\n",
       " nan,\n",
       " '\\n1\\n',\n",
       " '\\n2\\n',\n",
       " '\\n1\\n',\n",
       " '\\n1\\n',\n",
       " nan,\n",
       " nan,\n",
       " nan,\n",
       " nan,\n",
       " '\\n1\\n',\n",
       " nan,\n",
       " nan,\n",
       " nan,\n",
       " nan,\n",
       " '\\n0\\n',\n",
       " '\\n1\\n',\n",
       " '\\n1\\n',\n",
       " '\\n1\\n',\n",
       " '\\n1\\n',\n",
       " nan,\n",
       " nan,\n",
       " nan,\n",
       " nan,\n",
       " '\\n1\\n',\n",
       " nan,\n",
       " '\\n1\\n',\n",
       " nan,\n",
       " '\\n1\\n',\n",
       " '\\n1\\n',\n",
       " '\\n2\\n',\n",
       " nan,\n",
       " nan,\n",
       " '\\n1\\n',\n",
       " nan,\n",
       " nan,\n",
       " nan,\n",
       " '\\n1\\n',\n",
       " '\\n1\\n',\n",
       " '\\n1\\n',\n",
       " '\\n2\\n',\n",
       " '\\n1\\n',\n",
       " nan,\n",
       " '\\n1\\n',\n",
       " nan,\n",
       " nan,\n",
       " '\\n1\\n',\n",
       " nan,\n",
       " nan,\n",
       " nan,\n",
       " '\\n1\\n',\n",
       " '\\n1\\n',\n",
       " nan,\n",
       " '\\n1\\n',\n",
       " nan,\n",
       " '\\n1\\n',\n",
       " '\\n1\\n',\n",
       " '\\n1\\n',\n",
       " '\\n1\\n',\n",
       " '\\n1\\n',\n",
       " '\\n1\\n',\n",
       " '\\n1\\n',\n",
       " '\\n1\\n',\n",
       " '\\n1\\n',\n",
       " '\\n1\\n',\n",
       " '\\n1\\n',\n",
       " '\\n2\\n',\n",
       " '\\n1\\n',\n",
       " '\\n1\\n',\n",
       " '\\n1\\n',\n",
       " '\\n1\\n',\n",
       " '\\n1\\n',\n",
       " '\\n1\\n',\n",
       " nan,\n",
       " '\\n1\\n',\n",
       " '\\n1\\n',\n",
       " nan,\n",
       " '\\n2\\n',\n",
       " nan,\n",
       " nan,\n",
       " '\\n1\\n',\n",
       " '\\n1\\n',\n",
       " nan,\n",
       " nan,\n",
       " nan,\n",
       " nan,\n",
       " nan,\n",
       " nan,\n",
       " '\\n1\\n',\n",
       " '\\n1\\n',\n",
       " '\\n1\\n',\n",
       " '\\n1\\n',\n",
       " nan,\n",
       " '\\n1\\n',\n",
       " '\\n1\\n',\n",
       " '\\n1\\n',\n",
       " '\\n1\\n',\n",
       " '\\n1\\n',\n",
       " nan,\n",
       " nan,\n",
       " nan,\n",
       " '\\n2\\n',\n",
       " '\\n1\\n',\n",
       " '\\n2\\n',\n",
       " '\\n1\\n',\n",
       " '\\n1\\n',\n",
       " nan,\n",
       " nan,\n",
       " nan,\n",
       " '\\n1\\n',\n",
       " '\\n1\\n',\n",
       " '\\n1\\n',\n",
       " nan,\n",
       " '\\n1\\n',\n",
       " '\\n1\\n',\n",
       " nan,\n",
       " '\\n1\\n',\n",
       " '\\n1\\n',\n",
       " '\\n4\\n',\n",
       " '\\n1\\n',\n",
       " nan,\n",
       " '\\n1\\n',\n",
       " '\\n1\\n',\n",
       " nan,\n",
       " '\\n1\\n',\n",
       " '\\n1\\n',\n",
       " '\\n0\\n',\n",
       " '\\n1\\n',\n",
       " nan,\n",
       " '\\n1\\n',\n",
       " nan,\n",
       " '\\n1\\n',\n",
       " '\\n1\\n',\n",
       " nan,\n",
       " '\\n1\\n',\n",
       " '\\n1\\n',\n",
       " nan,\n",
       " nan,\n",
       " nan,\n",
       " nan,\n",
       " '\\n1\\n',\n",
       " '\\n1\\n',\n",
       " '\\n1\\n',\n",
       " '\\n1\\n',\n",
       " '\\n1\\n',\n",
       " '\\n1\\n',\n",
       " ...]"
      ]
     },
     "execution_count": 290,
     "metadata": {},
     "output_type": "execute_result"
    }
   ],
   "source": [
    "[item[0] if type(item) == list else item for item in df[\"Previous Owners\"]]"
   ]
  },
  {
   "cell_type": "code",
   "execution_count": 291,
   "metadata": {},
   "outputs": [
    {
     "data": {
      "text/plain": [
       "0        \\n2\\n\n",
       "1          NaN\n",
       "2        \\n1\\n\n",
       "3        \\n1\\n\n",
       "4        \\n1\\n\n",
       "         ...  \n",
       "15914      NaN\n",
       "15915    \\n1\\n\n",
       "15916    \\n1\\n\n",
       "15917      NaN\n",
       "15918    \\n1\\n\n",
       "Name: Previous_Owners, Length: 15919, dtype: object"
      ]
     },
     "execution_count": 291,
     "metadata": {},
     "output_type": "execute_result"
    }
   ],
   "source": [
    "df[\"Previous_Owners\"] = [item[0] if type(item) == list else item for item in df[\"Previous Owners\"]]\n",
    "df[\"Previous_Owners\"]"
   ]
  },
  {
   "cell_type": "code",
   "execution_count": 292,
   "metadata": {},
   "outputs": [
    {
     "data": {
      "text/plain": [
       "0        \\n2\\n\n",
       "1          NaN\n",
       "2        \\n1\\n\n",
       "3        \\n1\\n\n",
       "4        \\n1\\n\n",
       "         ...  \n",
       "15914      NaN\n",
       "15915    \\n1\\n\n",
       "15916    \\n1\\n\n",
       "15917      NaN\n",
       "15918    \\n1\\n\n",
       "Name: Previous_Owners2, Length: 15919, dtype: object"
      ]
     },
     "execution_count": 292,
     "metadata": {},
     "output_type": "execute_result"
    }
   ],
   "source": [
    "df[\"Previous_Owners2\"] = df[\"Previous Owners\"].apply(lambda item: item[0] if type(item) == list else item)\n",
    "df[\"Previous_Owners2\"]"
   ]
  },
  {
   "cell_type": "code",
   "execution_count": 293,
   "metadata": {},
   "outputs": [],
   "source": [
    "df[\"Previous_Owners\"] = df[\"Previous_Owners\"].str.strip(\"\\n\").astype('float')"
   ]
  },
  {
   "cell_type": "code",
   "execution_count": 294,
   "metadata": {},
   "outputs": [
    {
     "data": {
      "text/plain": [
       "1.000    8294\n",
       "NaN      6640\n",
       "2.000     778\n",
       "0.000     188\n",
       "3.000      17\n",
       "4.000       2\n",
       "Name: Previous_Owners, dtype: int64"
      ]
     },
     "execution_count": 294,
     "metadata": {},
     "output_type": "execute_result"
    }
   ],
   "source": [
    "df[\"Previous_Owners\"].value_counts(dropna=False)"
   ]
  },
  {
   "cell_type": "code",
   "execution_count": 295,
   "metadata": {},
   "outputs": [],
   "source": [
    "df.drop([\"prev_owner\", \"Previous Owners\", \"Previous_Owners2\"], axis=1, inplace=True)"
   ]
  },
  {
   "cell_type": "markdown",
   "metadata": {},
   "source": [
    "## hp"
   ]
  },
  {
   "cell_type": "code",
   "execution_count": 296,
   "metadata": {},
   "outputs": [
    {
     "data": {
      "text/plain": [
       "85 kW     2542\n",
       "66 kW     2122\n",
       "81 kW     1402\n",
       "100 kW    1308\n",
       "110 kW    1112\n",
       "70 kW      888\n",
       "125 kW     707\n",
       "51 kW      695\n",
       "55 kW      569\n",
       "118 kW     516\n",
       "92 kW      466\n",
       "121 kW     392\n",
       "147 kW     380\n",
       "77 kW      345\n",
       "56 kW      286\n",
       "54 kW      276\n",
       "103 kW     253\n",
       "87 kW      232\n",
       "165 kW     194\n",
       "88 kW      177\n",
       "60 kW      160\n",
       "162 kW      98\n",
       "- kW        88\n",
       "74 kW       81\n",
       "96 kW       72\n",
       "71 kW       59\n",
       "101 kW      47\n",
       "67 kW       40\n",
       "154 kW      39\n",
       "122 kW      35\n",
       "119 kW      30\n",
       "164 kW      27\n",
       "135 kW      24\n",
       "82 kW       22\n",
       "52 kW       22\n",
       "78 kW       20\n",
       "1 kW        20\n",
       "294 kW      18\n",
       "146 kW      18\n",
       "141 kW      16\n",
       "57 kW       10\n",
       "104 kW       8\n",
       "120 kW       8\n",
       "191 kW       7\n",
       "112 kW       7\n",
       "155 kW       6\n",
       "117 kW       6\n",
       "184 kW       5\n",
       "90 kW        4\n",
       "76 kW        4\n",
       "65 kW        4\n",
       "149 kW       3\n",
       "80 kW        3\n",
       "168 kW       3\n",
       "98 kW        3\n",
       "93 kW        3\n",
       "228 kW       2\n",
       "270 kW       2\n",
       "53 kW        2\n",
       "140 kW       2\n",
       "86 kW        2\n",
       "167 kW       2\n",
       "127 kW       2\n",
       "89 kW        2\n",
       "143 kW       2\n",
       "63 kW        2\n",
       "40 kW        2\n",
       "150 kW       2\n",
       "163 kW       1\n",
       "115 kW       1\n",
       "132 kW       1\n",
       "75 kW        1\n",
       "4 kW         1\n",
       "137 kW       1\n",
       "123 kW       1\n",
       "133 kW       1\n",
       "84 kW        1\n",
       "195 kW       1\n",
       "44 kW        1\n",
       "239 kW       1\n",
       "9 kW         1\n",
       "Name: hp, dtype: int64"
      ]
     },
     "execution_count": 296,
     "metadata": {},
     "output_type": "execute_result"
    }
   ],
   "source": [
    "df.hp.value_counts(dropna=False)"
   ]
  },
  {
   "cell_type": "code",
   "execution_count": 297,
   "metadata": {},
   "outputs": [],
   "source": [
    "df[\"hp_kW\"] = df.hp.str.extract('(\\d{1,4})')[0].astype('float')"
   ]
  },
  {
   "cell_type": "code",
   "execution_count": 298,
   "metadata": {},
   "outputs": [],
   "source": [
    "#Alternative method\n",
    "#df.replace({\"hp\" : {\" kW\" : \"\"}}, regex = True, inplace = True)\n",
    "#df[\"hp_kw\"] = pd.to_numeric(df.hp)"
   ]
  },
  {
   "cell_type": "code",
   "execution_count": 299,
   "metadata": {},
   "outputs": [],
   "source": [
    "df.drop('hp', axis=1, inplace=True)"
   ]
  },
  {
   "cell_type": "markdown",
   "metadata": {},
   "source": [
    "## Type"
   ]
  },
  {
   "cell_type": "code",
   "execution_count": 300,
   "metadata": {},
   "outputs": [
    {
     "ename": "TypeError",
     "evalue": "unhashable type: 'list'",
     "output_type": "error",
     "traceback": [
      "\u001b[1;31m---------------------------------------------------------------------------\u001b[0m",
      "\u001b[1;31mTypeError\u001b[0m                                 Traceback (most recent call last)",
      "\u001b[1;32mpandas\\_libs\\hashtable_class_helper.pxi\u001b[0m in \u001b[0;36mpandas._libs.hashtable.PyObjectHashTable.map_locations\u001b[1;34m()\u001b[0m\n",
      "\u001b[1;31mTypeError\u001b[0m: unhashable type: 'list'"
     ]
    },
    {
     "name": "stderr",
     "output_type": "stream",
     "text": [
      "Exception ignored in: 'pandas._libs.index.IndexEngine._call_map_locations'\n",
      "Traceback (most recent call last):\n",
      "  File \"pandas\\_libs\\hashtable_class_helper.pxi\", line 5231, in pandas._libs.hashtable.PyObjectHashTable.map_locations\n",
      "TypeError: unhashable type: 'list'\n"
     ]
    },
    {
     "data": {
      "text/plain": [
       "[, Used, , Diesel (Particulate Filter)]                                                                                 3475\n",
       "[, Used, , Diesel]                                                                                                      2516\n",
       "[, Used, , Gasoline]                                                                                                    2367\n",
       "[, Used, , Super 95]                                                                                                    1818\n",
       "[, Pre-registered, , Super 95]                                                                                           500\n",
       "                                                                                                                        ... \n",
       "[, New, , Regular/Benzine 91 / Super 95 / Super Plus 98 / Regular/Benzine E10 91 / Super Plus E10 98 / Super E10 95]       1\n",
       "[, Used, , Super 95 / Super Plus 98 / Super E10 95 / Super Plus E10 98 (Particulate Filter)]                               1\n",
       "[, Demonstration, , Super Plus 98]                                                                                         1\n",
       "[, New, , Super Plus E10 98]                                                                                               1\n",
       "[, Demonstration, , Regular/Benzine E10 91]                                                                                1\n",
       "Name: Type, Length: 170, dtype: int64"
      ]
     },
     "execution_count": 300,
     "metadata": {},
     "output_type": "execute_result"
    }
   ],
   "source": [
    "df.Type.value_counts(dropna=False)"
   ]
  },
  {
   "cell_type": "code",
   "execution_count": 301,
   "metadata": {},
   "outputs": [],
   "source": [
    "df[\"Type\"] = df.Type.str[1]"
   ]
  },
  {
   "cell_type": "code",
   "execution_count": 302,
   "metadata": {},
   "outputs": [
    {
     "data": {
      "text/plain": [
       "Used              11096\n",
       "New                1650\n",
       "Pre-registered     1364\n",
       "Employee's car     1011\n",
       "Demonstration       796\n",
       "NaN                   2\n",
       "Name: Type, dtype: int64"
      ]
     },
     "execution_count": 302,
     "metadata": {},
     "output_type": "execute_result"
    }
   ],
   "source": [
    "df['Type'].value_counts(dropna=False)"
   ]
  },
  {
   "cell_type": "markdown",
   "metadata": {},
   "source": [
    "## Next Inspection & Inspection new"
   ]
  },
  {
   "cell_type": "code",
   "execution_count": 303,
   "metadata": {},
   "outputs": [
    {
     "ename": "TypeError",
     "evalue": "unhashable type: 'list'",
     "output_type": "error",
     "traceback": [
      "\u001b[1;31m---------------------------------------------------------------------------\u001b[0m",
      "\u001b[1;31mTypeError\u001b[0m                                 Traceback (most recent call last)",
      "\u001b[1;32mpandas\\_libs\\hashtable_class_helper.pxi\u001b[0m in \u001b[0;36mpandas._libs.hashtable.PyObjectHashTable.map_locations\u001b[1;34m()\u001b[0m\n",
      "\u001b[1;31mTypeError\u001b[0m: unhashable type: 'list'"
     ]
    },
    {
     "name": "stderr",
     "output_type": "stream",
     "text": [
      "Exception ignored in: 'pandas._libs.index.IndexEngine._call_map_locations'\n",
      "Traceback (most recent call last):\n",
      "  File \"pandas\\_libs\\hashtable_class_helper.pxi\", line 5231, in pandas._libs.hashtable.PyObjectHashTable.map_locations\n",
      "TypeError: unhashable type: 'list'\n"
     ]
    },
    {
     "data": {
      "text/plain": [
       "NaN                                       12384\n",
       "\\n04/2022\\n                                  62\n",
       "\\n03/2021\\n                                  38\n",
       "\\n03/2022\\n                                  36\n",
       "\\n06/2021\\n                                  34\n",
       "                                          ...  \n",
       "[\\n12/2018\\n, \\n97 g CO2/km (comb)\\n]         1\n",
       "[\\n03/2022\\n, \\n1 (No sticker)\\n]             1\n",
       "[\\n05/2021\\n, \\n93 g CO2/km (comb)\\n]         1\n",
       "[\\n06/2021\\n, \\n93 g CO2/km (comb)\\n]         1\n",
       "[\\n01/2022\\n, \\n168 g CO2/km (comb)\\n]        1\n",
       "Name: Next Inspection, Length: 1400, dtype: int64"
      ]
     },
     "execution_count": 303,
     "metadata": {},
     "output_type": "execute_result"
    }
   ],
   "source": [
    "df[\"Next Inspection\"].value_counts(dropna=False)"
   ]
  },
  {
   "cell_type": "code",
   "execution_count": 304,
   "metadata": {},
   "outputs": [
    {
     "ename": "TypeError",
     "evalue": "unhashable type: 'list'",
     "output_type": "error",
     "traceback": [
      "\u001b[1;31m---------------------------------------------------------------------------\u001b[0m",
      "\u001b[1;31mTypeError\u001b[0m                                 Traceback (most recent call last)",
      "\u001b[1;32mpandas\\_libs\\hashtable_class_helper.pxi\u001b[0m in \u001b[0;36mpandas._libs.hashtable.PyObjectHashTable.map_locations\u001b[1;34m()\u001b[0m\n",
      "\u001b[1;31mTypeError\u001b[0m: unhashable type: 'list'"
     ]
    },
    {
     "name": "stderr",
     "output_type": "stream",
     "text": [
      "Exception ignored in: 'pandas._libs.index.IndexEngine._call_map_locations'\n",
      "Traceback (most recent call last):\n",
      "  File \"pandas\\_libs\\hashtable_class_helper.pxi\", line 5231, in pandas._libs.hashtable.PyObjectHashTable.map_locations\n",
      "TypeError: unhashable type: 'list'\n"
     ]
    },
    {
     "data": {
      "text/plain": [
       "NaN                                                                                            11987\n",
       "[\\nYes\\n, \\nEuro 6\\n]                                                                            523\n",
       "\\nYes\\n                                                                                          362\n",
       "[\\nYes\\n, \\n102 g CO2/km (comb)\\n]                                                               174\n",
       "[\\nYes\\n, \\n4 (Green)\\n]                                                                         166\n",
       "                                                                                               ...  \n",
       "[\\nYes\\n, \\n, 6 l/100 km (comb), \\n, 8 l/100 km (city), \\n, 4.9 l/100 km (country), \\n]            1\n",
       "[\\nYes\\n, \\n, 6.8 l/100 km (comb), \\n, 8.5 l/100 km (city), \\n, 6.1 l/100 km (country), \\n]        1\n",
       "[\\nYes\\n, \\n, 4.1 l/100 km (comb), \\n, 7.5 l/100 km (city), \\n, 5.2 l/100 km (country), \\n]        1\n",
       "[\\nYes\\n, \\n, 5.2 l/100 km (comb), \\n, 6.8 l/100 km (city), \\n, 4.3 l/100 km (country), \\n]        1\n",
       "[\\nYes\\n, \\n172 g CO2/km (comb)\\n]                                                                 1\n",
       "Name: Inspection new, Length: 203, dtype: int64"
      ]
     },
     "execution_count": 304,
     "metadata": {},
     "output_type": "execute_result"
    }
   ],
   "source": [
    "df[\"Inspection new\"].value_counts(dropna=False)"
   ]
  },
  {
   "cell_type": "code",
   "execution_count": 305,
   "metadata": {},
   "outputs": [],
   "source": [
    "df[\"Inspection_new\"] = [item[0] if type(item) == list else item for item in df[\"Inspection new\"]]\n",
    "df[\"Inspection_new\"] = df[\"Inspection_new\"].str.strip(\"\\n\")"
   ]
  },
  {
   "cell_type": "code",
   "execution_count": 306,
   "metadata": {},
   "outputs": [
    {
     "data": {
      "text/plain": [
       "NaN    11987\n",
       "Yes     3932\n",
       "Name: Inspection_new, dtype: int64"
      ]
     },
     "execution_count": 306,
     "metadata": {},
     "output_type": "execute_result"
    }
   ],
   "source": [
    "df[\"Inspection_new\"].value_counts(dropna=False)"
   ]
  },
  {
   "cell_type": "code",
   "execution_count": 307,
   "metadata": {},
   "outputs": [],
   "source": [
    "df.drop([\"Next Inspection\", \"Inspection new\"], axis=1, inplace=True)"
   ]
  },
  {
   "cell_type": "markdown",
   "metadata": {},
   "source": [
    "## Warranty"
   ]
  },
  {
   "cell_type": "code",
   "execution_count": 308,
   "metadata": {},
   "outputs": [
    {
     "ename": "TypeError",
     "evalue": "unhashable type: 'list'",
     "output_type": "error",
     "traceback": [
      "\u001b[1;31m---------------------------------------------------------------------------\u001b[0m",
      "\u001b[1;31mTypeError\u001b[0m                                 Traceback (most recent call last)",
      "\u001b[1;32mpandas\\_libs\\hashtable_class_helper.pxi\u001b[0m in \u001b[0;36mpandas._libs.hashtable.PyObjectHashTable.map_locations\u001b[1;34m()\u001b[0m\n",
      "\u001b[1;31mTypeError\u001b[0m: unhashable type: 'list'"
     ]
    },
    {
     "name": "stderr",
     "output_type": "stream",
     "text": [
      "Exception ignored in: 'pandas._libs.index.IndexEngine._call_map_locations'\n",
      "Traceback (most recent call last):\n",
      "  File \"pandas\\_libs\\hashtable_class_helper.pxi\", line 5231, in pandas._libs.hashtable.PyObjectHashTable.map_locations\n",
      "TypeError: unhashable type: 'list'\n"
     ]
    },
    {
     "data": {
      "text/plain": [
       "NaN                                                                                                5420\n",
       "[\\n, \\n, \\nEuro 6\\n]                                                                               1868\n",
       "\\n12 months\\n                                                                                      1177\n",
       "\\n                                                                                                  979\n",
       "\\n24 months\\n                                                                                       566\n",
       "                                                                                                   ... \n",
       "[\\n72 months\\n, \\n125 g CO2/km (comb)\\n]                                                              1\n",
       "[\\n60 months\\n, \\n14 g CO2/km (comb)\\n]                                                               1\n",
       "[\\n24 months\\n, \\n121 g CO2/km (comb)\\n]                                                              1\n",
       "[\\n12 months\\n, \\nEuro 6d\\n]                                                                          1\n",
       "[\\n36 months\\n, \\n, 7.4 l/100 km (comb), \\n, 9.6 l/100 km (city), \\n, 6 l/100 km (country), \\n]       1\n",
       "Name: Warranty, Length: 516, dtype: int64"
      ]
     },
     "execution_count": 308,
     "metadata": {},
     "output_type": "execute_result"
    }
   ],
   "source": [
    "df.Warranty.value_counts(dropna=False)"
   ]
  },
  {
   "cell_type": "code",
   "execution_count": 309,
   "metadata": {},
   "outputs": [],
   "source": [
    "df[\"Warranty\"] = df.Warranty.apply(lambda x : x[0] if type(x)==list else x)\n",
    "df[\"Warranty\"] = df.Warranty.str.strip(\"\\n\").str.extract('(\\d{1,2})')[0].astype(\"float\")"
   ]
  },
  {
   "cell_type": "code",
   "execution_count": 310,
   "metadata": {},
   "outputs": [
    {
     "data": {
      "text/plain": [
       "NaN       11066\n",
       "12.000     2594\n",
       "24.000     1118\n",
       "60.000      401\n",
       "36.000      279\n",
       "48.000      149\n",
       "6.000       125\n",
       "72.000       59\n",
       "3.000        33\n",
       "23.000       11\n",
       "18.000       10\n",
       "20.000        7\n",
       "25.000        6\n",
       "2.000         5\n",
       "50.000        4\n",
       "26.000        4\n",
       "16.000        4\n",
       "4.000         3\n",
       "1.000         3\n",
       "19.000        3\n",
       "34.000        3\n",
       "13.000        3\n",
       "28.000        2\n",
       "22.000        2\n",
       "14.000        2\n",
       "11.000        2\n",
       "46.000        2\n",
       "21.000        2\n",
       "9.000         2\n",
       "17.000        2\n",
       "45.000        2\n",
       "33.000        1\n",
       "40.000        1\n",
       "65.000        1\n",
       "10.000        1\n",
       "15.000        1\n",
       "7.000         1\n",
       "8.000         1\n",
       "56.000        1\n",
       "49.000        1\n",
       "47.000        1\n",
       "30.000        1\n",
       "Name: Warranty, dtype: int64"
      ]
     },
     "execution_count": 310,
     "metadata": {},
     "output_type": "execute_result"
    }
   ],
   "source": [
    "df.Warranty.value_counts(dropna=False)"
   ]
  },
  {
   "cell_type": "markdown",
   "metadata": {},
   "source": [
    "## Full Service"
   ]
  },
  {
   "cell_type": "code",
   "execution_count": 311,
   "metadata": {},
   "outputs": [
    {
     "ename": "TypeError",
     "evalue": "unhashable type: 'list'",
     "output_type": "error",
     "traceback": [
      "\u001b[1;31m---------------------------------------------------------------------------\u001b[0m",
      "\u001b[1;31mTypeError\u001b[0m                                 Traceback (most recent call last)",
      "\u001b[1;32mpandas\\_libs\\hashtable_class_helper.pxi\u001b[0m in \u001b[0;36mpandas._libs.hashtable.PyObjectHashTable.map_locations\u001b[1;34m()\u001b[0m\n",
      "\u001b[1;31mTypeError\u001b[0m: unhashable type: 'list'"
     ]
    },
    {
     "name": "stderr",
     "output_type": "stream",
     "text": [
      "Exception ignored in: 'pandas._libs.index.IndexEngine._call_map_locations'\n",
      "Traceback (most recent call last):\n",
      "  File \"pandas\\_libs\\hashtable_class_helper.pxi\", line 5231, in pandas._libs.hashtable.PyObjectHashTable.map_locations\n",
      "TypeError: unhashable type: 'list'\n"
     ]
    },
    {
     "data": {
      "text/plain": [
       "NaN                                                                                           7704\n",
       "[\\n, \\n, \\n4 (Green)\\n]                                                                       2235\n",
       "[\\n, \\n, \\nEuro 6\\n]                                                                          2097\n",
       "[\\n, \\n]                                                                                      1702\n",
       "[\\n, \\n, \\nEuro 6d-TEMP\\n]                                                                     399\n",
       "                                                                                              ... \n",
       "[\\n, \\n, \\n80 g CO2/km (comb)\\n]                                                                 1\n",
       "[\\n, \\n, \\n84 g CO2/km (comb)\\n]                                                                 1\n",
       "[\\n, \\n, \\n, 6 l/100 km (comb), \\n, 8 l/100 km (city), \\n, 4.9 l/100 km (country), \\n]           1\n",
       "[\\n, \\n, \\n, 4.9 l/100 km (comb), \\n, 6.2 l/100 km (city), \\n, 4.1 l/100 km (country), \\n]       1\n",
       "[\\n, \\n, \\nEuro 4\\n]                                                                             1\n",
       "Name: Full Service, Length: 123, dtype: int64"
      ]
     },
     "execution_count": 311,
     "metadata": {},
     "output_type": "execute_result"
    }
   ],
   "source": [
    "df['Full Service'].value_counts(dropna=False)"
   ]
  },
  {
   "cell_type": "code",
   "execution_count": 312,
   "metadata": {},
   "outputs": [],
   "source": [
    "df.drop(\"Full Service\", axis=1, inplace=True)"
   ]
  },
  {
   "cell_type": "markdown",
   "metadata": {},
   "source": [
    "## Non-smoking Vehicle"
   ]
  },
  {
   "cell_type": "code",
   "execution_count": 313,
   "metadata": {},
   "outputs": [
    {
     "ename": "TypeError",
     "evalue": "unhashable type: 'list'",
     "output_type": "error",
     "traceback": [
      "\u001b[1;31m---------------------------------------------------------------------------\u001b[0m",
      "\u001b[1;31mTypeError\u001b[0m                                 Traceback (most recent call last)",
      "\u001b[1;32mpandas\\_libs\\hashtable_class_helper.pxi\u001b[0m in \u001b[0;36mpandas._libs.hashtable.PyObjectHashTable.map_locations\u001b[1;34m()\u001b[0m\n",
      "\u001b[1;31mTypeError\u001b[0m: unhashable type: 'list'"
     ]
    },
    {
     "name": "stderr",
     "output_type": "stream",
     "text": [
      "Exception ignored in: 'pandas._libs.index.IndexEngine._call_map_locations'\n",
      "Traceback (most recent call last):\n",
      "  File \"pandas\\_libs\\hashtable_class_helper.pxi\", line 5231, in pandas._libs.hashtable.PyObjectHashTable.map_locations\n",
      "TypeError: unhashable type: 'list'\n"
     ]
    },
    {
     "data": {
      "text/plain": [
       "NaN                                                                                           8742\n",
       "[\\n, \\n]                                                                                      3647\n",
       "[\\n, \\n, \\n4 (Green)\\n]                                                                       1240\n",
       "[\\n, \\n, \\nEuro 6\\n]                                                                          1127\n",
       "[\\n, \\n, \\nEuro 6d-TEMP\\n]                                                                     345\n",
       "\\n                                                                                              70\n",
       "[\\n, \\n, \\n120 g CO2/km (comb)\\n]                                                               63\n",
       "[\\n, \\n, \\n85 g CO2/km (comb)\\n]                                                                46\n",
       "[\\n, \\n, \\n104 g CO2/km (comb)\\n]                                                               36\n",
       "[\\n, \\n, \\n107 g CO2/km (comb)\\n]                                                               36\n",
       "[\\n, \\n, \\n153 g CO2/km (comb)\\n]                                                               31\n",
       "[\\n, \\n, \\n124 g CO2/km (comb)\\n]                                                               29\n",
       "[\\n, \\n, \\n1 (No sticker)\\n]                                                                    24\n",
       "[\\n, \\n, \\n99 g CO2/km (comb)\\n]                                                                23\n",
       "[\\n, \\n, \\n106 g CO2/km (comb)\\n]                                                               20\n",
       "[\\n, \\n, \\n97 g CO2/km (comb)\\n]                                                                20\n",
       "[\\n, \\n, \\n108 g CO2/km (comb)\\n]                                                               19\n",
       "[\\n, \\n, \\n113 g CO2/km (comb)\\n]                                                               18\n",
       "[\\n, \\n, \\n100 g CO2/km (comb)\\n]                                                               18\n",
       "[\\n, \\n, \\n109 g CO2/km (comb)\\n]                                                               18\n",
       "[\\n, \\n, \\n105 g CO2/km (comb)\\n]                                                               18\n",
       "[\\n, \\n, \\nEuro 6c\\n]                                                                           17\n",
       "[\\n, \\n, \\n98 g CO2/km (comb)\\n]                                                                15\n",
       "[\\n, \\n, \\n129 g CO2/km (comb)\\n]                                                               14\n",
       "[\\n, \\n, \\n131 g CO2/km (comb)\\n]                                                               13\n",
       "[\\n, \\n, \\n133 g CO2/km (comb)\\n]                                                               12\n",
       "[\\n, \\n, \\n103 g CO2/km (comb)\\n]                                                               12\n",
       "[\\n, \\n, \\n114 g CO2/km (comb)\\n]                                                               12\n",
       "[\\n, \\n, \\n116 g CO2/km (comb)\\n]                                                               11\n",
       "[\\n, \\n, \\n135 g CO2/km (comb)\\n]                                                               11\n",
       "[\\n, \\n, \\n102 g CO2/km (comb)\\n]                                                               11\n",
       "[\\n, \\n, \\n127 g CO2/km (comb)\\n]                                                               10\n",
       "[\\n, \\n, \\n143 g CO2/km (comb)\\n]                                                               10\n",
       "[\\n, \\n, \\n92 g CO2/km (comb)\\n]                                                                 9\n",
       "[\\n, \\n, \\nEuro 6d\\n]                                                                            9\n",
       "[\\n, \\n, \\n112 g CO2/km (comb)\\n]                                                                9\n",
       "[\\n, \\n, \\n5 (Blue)\\n]                                                                           8\n",
       "[\\n, \\n, \\n118 g CO2/km (comb)\\n]                                                                8\n",
       "[\\n, \\n, \\n139 g CO2/km (comb)\\n]                                                                7\n",
       "[\\n, \\n, \\n128 g CO2/km (comb)\\n]                                                                7\n",
       "[\\n, \\n, \\n147 g CO2/km (comb)\\n]                                                                7\n",
       "[\\n, \\n, \\n126 g CO2/km (comb)\\n]                                                                6\n",
       "[\\n, \\n, \\n137 g CO2/km (comb)\\n]                                                                6\n",
       "[\\n, \\n, \\n117 g CO2/km (comb)\\n]                                                                6\n",
       "[\\n, \\n, \\n140 g CO2/km (comb)\\n]                                                                6\n",
       "[\\n, \\n, \\n130 g CO2/km (comb)\\n]                                                                5\n",
       "[\\n, \\n, \\n115 g CO2/km (comb)\\n]                                                                5\n",
       "[\\n, \\n, \\nEuro 5\\n]                                                                             4\n",
       "[\\n, \\n, \\n, 5.2 l/100 km (comb), \\n, 5.8 l/100 km (city), \\n, 4.8 l/100 km (country), \\n]       4\n",
       "[\\n, \\n, \\n123 g CO2/km (comb)\\n]                                                                4\n",
       "[\\n, \\n, \\n151 g CO2/km (comb)\\n]                                                                4\n",
       "[\\n, \\n, \\n95 g CO2/km (comb)\\n]                                                                 3\n",
       "[\\n, \\n, \\n119 g CO2/km (comb)\\n]                                                                3\n",
       "[\\n, \\n, \\n148 g CO2/km (comb)\\n]                                                                3\n",
       "[\\n, \\n, \\n157 g CO2/km (comb)\\n]                                                                3\n",
       "[\\n, \\n, \\n136 g CO2/km (comb)\\n]                                                                3\n",
       "[\\n, \\n, \\n110 g CO2/km (comb)\\n]                                                                3\n",
       "[\\n, \\n, \\n149 g CO2/km (comb)\\n]                                                                3\n",
       "[\\n, \\n, \\n138 g CO2/km (comb)\\n]                                                                2\n",
       "[\\n, \\n, \\n125 g CO2/km (comb)\\n]                                                                2\n",
       "[\\n, \\n, \\n, 5.2 l/100 km (comb), \\n, 6.4 l/100 km (city), \\n, 4.4 l/100 km (country), \\n]       2\n",
       "[\\n, \\n, \\n166 g CO2/km (comb)\\n]                                                                2\n",
       "[\\n, \\n, \\n121 g CO2/km (comb)\\n]                                                                2\n",
       "[\\n, \\n, \\n142 g CO2/km (comb)\\n]                                                                2\n",
       "[\\n, \\n, \\n90 g CO2/km (comb)\\n]                                                                 2\n",
       "[\\n, \\n, \\n111 g CO2/km (comb)\\n]                                                                2\n",
       "[\\n, \\n, \\n134 g CO2/km (comb)\\n]                                                                2\n",
       "[\\n, \\n, \\n, 6.5 l/100 km (comb), \\n, 8.5 l/100 km (city), \\n, 5.4 l/100 km (country), \\n]       1\n",
       "[\\n, \\n, \\n, 6.4 l/100 km (comb), \\n, 8.1 l/100 km (city), \\n, 5.4 l/100 km (country), \\n]       1\n",
       "[\\n, \\n, \\n161 g CO2/km (comb)\\n]                                                                1\n",
       "[\\n, \\n, \\n172 g CO2/km (comb)\\n]                                                                1\n",
       "[\\n, \\n, \\n189 g CO2/km (comb)\\n]                                                                1\n",
       "[\\n, \\n, \\n82 g CO2/km (comb)\\n]                                                                 1\n",
       "[\\n, \\n, \\n154 g CO2/km (comb)\\n]                                                                1\n",
       "[\\n, \\n, \\n, 6.5 l/100 km (comb), \\n, 7.9 l/100 km (city), \\n, 5.6 l/100 km (country), \\n]       1\n",
       "[\\n, \\n, \\n, 6.3 l/100 km (comb), \\n, 8 l/100 km (city), \\n, 5.3 l/100 km (country), \\n]         1\n",
       "[\\n, \\n, \\n146 g CO2/km (comb)\\n]                                                                1\n",
       "[\\n, \\n, \\n, 5.7 l/100 km (comb), \\n, 7.3 l/100 km (city), \\n, 4.7 l/100 km (country), \\n]       1\n",
       "[\\n, \\n, \\n, 6.1 l/100 km (comb), \\n, 7.7 l/100 km (city), \\n, 5.2 l/100 km (country), \\n]       1\n",
       "[\\n, \\n, \\n156 g CO2/km (comb)\\n]                                                                1\n",
       "[\\n, \\n, \\n, 6.1 l/100 km (comb), \\n, 7.8 l/100 km (city), \\n, 5.1 l/100 km (country), \\n]       1\n",
       "[\\n, \\n, \\n, 6.2 l/100 km (comb), \\n, 7.9 l/100 km (city), \\n, 5.3 l/100 km (country), \\n]       1\n",
       "[\\n, \\n, \\n152 g CO2/km (comb)\\n]                                                                1\n",
       "[\\n, \\n, \\n144 g CO2/km (comb)\\n]                                                                1\n",
       "[\\n, \\n, \\n132 g CO2/km (comb)\\n]                                                                1\n",
       "[\\n, \\n, \\n, 1.6 l/100 km (comb), \\n, \\n, \\n]                                                    1\n",
       "[\\n, \\n, \\n169 g CO2/km (comb)\\n]                                                                1\n",
       "[\\n, \\n, \\n101 g CO2/km (comb)\\n]                                                                1\n",
       "[\\n, \\n, \\n159 g CO2/km (comb)\\n]                                                                1\n",
       "[\\n, \\n, \\n91 g CO2/km (comb)\\n]                                                                 1\n",
       "[\\n, \\n, \\n, 5.6 l/100 km (comb), \\n, 7.3 l/100 km (city), \\n, 4.7 l/100 km (country), \\n]       1\n",
       "[\\n, \\n, \\n122 g CO2/km (comb)\\n]                                                                1\n",
       "[\\n, \\n, \\n158 g CO2/km (comb)\\n]                                                                1\n",
       "[\\n, \\n, \\n150 g CO2/km (comb)\\n]                                                                1\n",
       "[\\n, \\n, \\n175 g CO2/km (comb)\\n]                                                                1\n",
       "Name: Non-smoking Vehicle, dtype: int64"
      ]
     },
     "execution_count": 313,
     "metadata": {},
     "output_type": "execute_result"
    }
   ],
   "source": [
    "df['Non-smoking Vehicle'].value_counts(dropna=False)"
   ]
  },
  {
   "cell_type": "code",
   "execution_count": 314,
   "metadata": {},
   "outputs": [],
   "source": [
    "df.drop(\"Non-smoking Vehicle\", axis=1, inplace=True)"
   ]
  },
  {
   "cell_type": "markdown",
   "metadata": {},
   "source": [
    "## Offer Number"
   ]
  },
  {
   "cell_type": "code",
   "execution_count": 315,
   "metadata": {},
   "outputs": [
    {
     "ename": "TypeError",
     "evalue": "unhashable type: 'list'",
     "output_type": "error",
     "traceback": [
      "\u001b[1;31m---------------------------------------------------------------------------\u001b[0m",
      "\u001b[1;31mTypeError\u001b[0m                                 Traceback (most recent call last)",
      "\u001b[1;32mpandas\\_libs\\hashtable_class_helper.pxi\u001b[0m in \u001b[0;36mpandas._libs.hashtable.PyObjectHashTable.map_locations\u001b[1;34m()\u001b[0m\n",
      "\u001b[1;31mTypeError\u001b[0m: unhashable type: 'list'"
     ]
    },
    {
     "name": "stderr",
     "output_type": "stream",
     "text": [
      "Exception ignored in: 'pandas._libs.index.IndexEngine._call_map_locations'\n",
      "Traceback (most recent call last):\n",
      "  File \"pandas\\_libs\\hashtable_class_helper.pxi\", line 5231, in pandas._libs.hashtable.PyObjectHashTable.map_locations\n",
      "TypeError: unhashable type: 'list'\n"
     ]
    },
    {
     "data": {
      "text/plain": [
       "NaN                                               3175\n",
       "[\\nLT67679\\n]                                       27\n",
       "[\\nUN89904\\n]                                       27\n",
       "[\\nXJ38068\\n]                                       27\n",
       "[\\nJV03654\\n]                                       27\n",
       "                                                  ... \n",
       "[\\n160_dcbb6c3e-a6da-43a3-8754-ccd994cec93b\\n]       1\n",
       "[\\n6701576\\n]                                        1\n",
       "[\\n6701569\\n]                                        1\n",
       "[\\n158121\\n]                                         1\n",
       "[\\nRe_30000008029\\n]                                 1\n",
       "Name: Offer Number, Length: 11441, dtype: int64"
      ]
     },
     "execution_count": 315,
     "metadata": {},
     "output_type": "execute_result"
    }
   ],
   "source": [
    "df['Offer Number'].value_counts(dropna=False)"
   ]
  },
  {
   "cell_type": "code",
   "execution_count": 316,
   "metadata": {},
   "outputs": [],
   "source": [
    "df.drop(\"Offer Number\", axis=1, inplace=True)"
   ]
  },
  {
   "cell_type": "markdown",
   "metadata": {},
   "source": [
    "## Body Color"
   ]
  },
  {
   "cell_type": "code",
   "execution_count": 317,
   "metadata": {},
   "outputs": [
    {
     "ename": "TypeError",
     "evalue": "unhashable type: 'list'",
     "output_type": "error",
     "traceback": [
      "\u001b[1;31m---------------------------------------------------------------------------\u001b[0m",
      "\u001b[1;31mTypeError\u001b[0m                                 Traceback (most recent call last)",
      "\u001b[1;32mpandas\\_libs\\hashtable_class_helper.pxi\u001b[0m in \u001b[0;36mpandas._libs.hashtable.PyObjectHashTable.map_locations\u001b[1;34m()\u001b[0m\n",
      "\u001b[1;31mTypeError\u001b[0m: unhashable type: 'list'"
     ]
    },
    {
     "name": "stderr",
     "output_type": "stream",
     "text": [
      "Exception ignored in: 'pandas._libs.index.IndexEngine._call_map_locations'\n",
      "Traceback (most recent call last):\n",
      "  File \"pandas\\_libs\\hashtable_class_helper.pxi\", line 5231, in pandas._libs.hashtable.PyObjectHashTable.map_locations\n",
      "TypeError: unhashable type: 'list'\n"
     ]
    },
    {
     "data": {
      "text/plain": [
       "[\\n, Black, \\n]     3745\n",
       "[\\n, Grey, \\n]      3505\n",
       "[\\n, White, \\n]     3406\n",
       "[\\n, Silver, \\n]    1647\n",
       "[\\n, Blue, \\n]      1431\n",
       "[\\n, Red, \\n]        957\n",
       "NaN                  597\n",
       "[\\n, Brown, \\n]      289\n",
       "[\\n, Green, \\n]      154\n",
       "[\\n, Beige, \\n]      108\n",
       "[\\n, Yellow, \\n]      51\n",
       "[\\n, Violet, \\n]      18\n",
       "[\\n, Bronze, \\n]       6\n",
       "[\\n, Orange, \\n]       3\n",
       "[\\n, Gold, \\n]         2\n",
       "Name: Body Color, dtype: int64"
      ]
     },
     "execution_count": 317,
     "metadata": {},
     "output_type": "execute_result"
    }
   ],
   "source": [
    "df['Body Color'].value_counts(dropna=False)"
   ]
  },
  {
   "cell_type": "code",
   "execution_count": 318,
   "metadata": {},
   "outputs": [],
   "source": [
    "df['Body_Color'] = df['Body Color'].str[1]"
   ]
  },
  {
   "cell_type": "code",
   "execution_count": 319,
   "metadata": {},
   "outputs": [
    {
     "data": {
      "text/plain": [
       "Black     3745\n",
       "Grey      3505\n",
       "White     3406\n",
       "Silver    1647\n",
       "Blue      1431\n",
       "Red        957\n",
       "NaN        597\n",
       "Brown      289\n",
       "Green      154\n",
       "Beige      108\n",
       "Yellow      51\n",
       "Violet      18\n",
       "Bronze       6\n",
       "Orange       3\n",
       "Gold         2\n",
       "Name: Body_Color, dtype: int64"
      ]
     },
     "execution_count": 319,
     "metadata": {},
     "output_type": "execute_result"
    }
   ],
   "source": [
    "df['Body_Color'].value_counts(dropna=False)"
   ]
  },
  {
   "cell_type": "code",
   "execution_count": 320,
   "metadata": {},
   "outputs": [],
   "source": [
    "df.drop(\"Body Color\", axis=1, inplace=True)"
   ]
  },
  {
   "cell_type": "markdown",
   "metadata": {},
   "source": [
    "## Body Color Original"
   ]
  },
  {
   "cell_type": "code",
   "execution_count": 321,
   "metadata": {},
   "outputs": [
    {
     "ename": "TypeError",
     "evalue": "unhashable type: 'list'",
     "output_type": "error",
     "traceback": [
      "\u001b[1;31m---------------------------------------------------------------------------\u001b[0m",
      "\u001b[1;31mTypeError\u001b[0m                                 Traceback (most recent call last)",
      "\u001b[1;32mpandas\\_libs\\hashtable_class_helper.pxi\u001b[0m in \u001b[0;36mpandas._libs.hashtable.PyObjectHashTable.map_locations\u001b[1;34m()\u001b[0m\n",
      "\u001b[1;31mTypeError\u001b[0m: unhashable type: 'list'"
     ]
    },
    {
     "name": "stderr",
     "output_type": "stream",
     "text": [
      "Exception ignored in: 'pandas._libs.index.IndexEngine._call_map_locations'\n",
      "Traceback (most recent call last):\n",
      "  File \"pandas\\_libs\\hashtable_class_helper.pxi\", line 5231, in pandas._libs.hashtable.PyObjectHashTable.map_locations\n",
      "TypeError: unhashable type: 'list'\n"
     ]
    },
    {
     "data": {
      "text/plain": [
       "NaN                                    3759\n",
       "[\\nOnyx Schwarz\\n]                      338\n",
       "[\\nBianco\\n]                            282\n",
       "[\\nMythosschwarz Metallic\\n]            238\n",
       "[\\nBrillantschwarz\\n]                   216\n",
       "                                       ... \n",
       "[\\nRouge-Braun (G0Y)\\n]                   1\n",
       "[\\nVARI COLRI DISPONIBILI\\n]              1\n",
       "[\\nKokosnussbraun Metallic\\n]             1\n",
       "[\\nFarbe frei wählbar\\n]                  1\n",
       "[\\nPerlmutt-Weiß Metallic (Weiß)\\n]       1\n",
       "Name: Body Color Original, Length: 1928, dtype: int64"
      ]
     },
     "execution_count": 321,
     "metadata": {},
     "output_type": "execute_result"
    }
   ],
   "source": [
    "df['Body Color Original'].value_counts(dropna=False)"
   ]
  },
  {
   "cell_type": "code",
   "execution_count": 322,
   "metadata": {},
   "outputs": [],
   "source": [
    "df.drop(\"Body Color Original\", axis=1, inplace=True)"
   ]
  },
  {
   "cell_type": "markdown",
   "metadata": {},
   "source": [
    "## Paint Type"
   ]
  },
  {
   "cell_type": "code",
   "execution_count": 323,
   "metadata": {},
   "outputs": [
    {
     "ename": "TypeError",
     "evalue": "unhashable type: 'list'",
     "output_type": "error",
     "traceback": [
      "\u001b[1;31m---------------------------------------------------------------------------\u001b[0m",
      "\u001b[1;31mTypeError\u001b[0m                                 Traceback (most recent call last)",
      "\u001b[1;32mpandas\\_libs\\hashtable_class_helper.pxi\u001b[0m in \u001b[0;36mpandas._libs.hashtable.PyObjectHashTable.map_locations\u001b[1;34m()\u001b[0m\n",
      "\u001b[1;31mTypeError\u001b[0m: unhashable type: 'list'"
     ]
    },
    {
     "name": "stderr",
     "output_type": "stream",
     "text": [
      "Exception ignored in: 'pandas._libs.index.IndexEngine._call_map_locations'\n",
      "Traceback (most recent call last):\n",
      "  File \"pandas\\_libs\\hashtable_class_helper.pxi\", line 5231, in pandas._libs.hashtable.PyObjectHashTable.map_locations\n",
      "TypeError: unhashable type: 'list'\n"
     ]
    },
    {
     "data": {
      "text/plain": [
       "[\\nMetallic\\n]       9794\n",
       "NaN                  5772\n",
       "[\\nUni/basic\\n]       347\n",
       "[\\nPerl effect\\n]       6\n",
       "Name: Paint Type, dtype: int64"
      ]
     },
     "execution_count": 323,
     "metadata": {},
     "output_type": "execute_result"
    }
   ],
   "source": [
    "df['Paint Type'].value_counts(dropna=False)"
   ]
  },
  {
   "cell_type": "code",
   "execution_count": 324,
   "metadata": {},
   "outputs": [],
   "source": [
    "df['Paint_Type'] = df['Paint Type'].str[0].str.strip('\\n')"
   ]
  },
  {
   "cell_type": "code",
   "execution_count": 325,
   "metadata": {},
   "outputs": [
    {
     "data": {
      "text/plain": [
       "Metallic       9794\n",
       "NaN            5772\n",
       "Uni/basic       347\n",
       "Perl effect       6\n",
       "Name: Paint_Type, dtype: int64"
      ]
     },
     "execution_count": 325,
     "metadata": {},
     "output_type": "execute_result"
    }
   ],
   "source": [
    "df['Paint_Type'].value_counts(dropna=False)"
   ]
  },
  {
   "cell_type": "code",
   "execution_count": 326,
   "metadata": {},
   "outputs": [],
   "source": [
    "df.drop(\"Paint Type\", axis=1, inplace=True)"
   ]
  },
  {
   "cell_type": "markdown",
   "metadata": {},
   "source": [
    "## Upholstery"
   ]
  },
  {
   "cell_type": "code",
   "execution_count": 327,
   "metadata": {},
   "outputs": [
    {
     "ename": "TypeError",
     "evalue": "unhashable type: 'list'",
     "output_type": "error",
     "traceback": [
      "\u001b[1;31m---------------------------------------------------------------------------\u001b[0m",
      "\u001b[1;31mTypeError\u001b[0m                                 Traceback (most recent call last)",
      "\u001b[1;32mpandas\\_libs\\hashtable_class_helper.pxi\u001b[0m in \u001b[0;36mpandas._libs.hashtable.PyObjectHashTable.map_locations\u001b[1;34m()\u001b[0m\n",
      "\u001b[1;31mTypeError\u001b[0m: unhashable type: 'list'"
     ]
    },
    {
     "name": "stderr",
     "output_type": "stream",
     "text": [
      "Exception ignored in: 'pandas._libs.index.IndexEngine._call_map_locations'\n",
      "Traceback (most recent call last):\n",
      "  File \"pandas\\_libs\\hashtable_class_helper.pxi\", line 5231, in pandas._libs.hashtable.PyObjectHashTable.map_locations\n",
      "TypeError: unhashable type: 'list'\n"
     ]
    },
    {
     "data": {
      "text/plain": [
       "[\\nCloth, Black\\n]           5821\n",
       "NaN                          3720\n",
       "[\\nPart leather, Black\\n]    1121\n",
       "[\\nCloth\\n]                  1005\n",
       "[\\nCloth, Grey\\n]             891\n",
       "[\\nCloth, Other\\n]            639\n",
       "[\\nFull leather, Black\\n]     575\n",
       "[\\nBlack\\n]                   491\n",
       "[\\nGrey\\n]                    273\n",
       "[\\nOther, Other\\n]            182\n",
       "[\\nPart leather\\n]            140\n",
       "[\\nFull leather\\n]            139\n",
       "[\\nFull leather, Brown\\n]     116\n",
       "[\\nPart leather, Grey\\n]      116\n",
       "[\\nOther, Black\\n]            110\n",
       "[\\nFull leather, Other\\n]      72\n",
       "[\\nFull leather, Grey\\n]       67\n",
       "[\\nPart leather, Other\\n]      65\n",
       "[\\nOther\\n]                    56\n",
       "[\\nPart leather, Brown\\n]      50\n",
       "[\\nalcantara, Black\\n]         47\n",
       "[\\nVelour, Black\\n]            36\n",
       "[\\nFull leather, Beige\\n]      36\n",
       "[\\nCloth, Brown\\n]             28\n",
       "[\\nVelour\\n]                   16\n",
       "[\\nOther, Grey\\n]              15\n",
       "[\\nCloth, Beige\\n]             13\n",
       "[\\nBrown\\n]                    12\n",
       "[\\nCloth, Blue\\n]              12\n",
       "[\\nVelour, Grey\\n]              8\n",
       "[\\nCloth, White\\n]              8\n",
       "[\\nalcantara, Grey\\n]           6\n",
       "[\\nCloth, Red\\n]                5\n",
       "[\\nOther, Yellow\\n]             4\n",
       "[\\nPart leather, Red\\n]         3\n",
       "[\\nBeige\\n]                     3\n",
       "[\\nPart leather, White\\n]       2\n",
       "[\\nFull leather, Blue\\n]        2\n",
       "[\\nalcantara, Other\\n]          2\n",
       "[\\nalcantara\\n]                 2\n",
       "[\\nWhite\\n]                     2\n",
       "[\\nPart leather, Beige\\n]       2\n",
       "[\\nBlue\\n]                      2\n",
       "[\\nCloth, Orange\\n]             1\n",
       "[\\nFull leather, Red\\n]         1\n",
       "[\\nOther, Brown\\n]              1\n",
       "[\\nFull leather, White\\n]       1\n",
       "Name: Upholstery, dtype: int64"
      ]
     },
     "execution_count": 327,
     "metadata": {},
     "output_type": "execute_result"
    }
   ],
   "source": [
    "df['Upholstery'].value_counts(dropna=False)"
   ]
  },
  {
   "cell_type": "code",
   "execution_count": 328,
   "metadata": {},
   "outputs": [],
   "source": [
    "df[\"Upholstery\"] = [item[0] if type(item) == list else item for item in df.Upholstery]"
   ]
  },
  {
   "cell_type": "code",
   "execution_count": 329,
   "metadata": {},
   "outputs": [],
   "source": [
    "df[\"Upholstery\"] = df.Upholstery.str.strip(\"\\n\").str.split(\", \")"
   ]
  },
  {
   "cell_type": "code",
   "execution_count": 330,
   "metadata": {},
   "outputs": [
    {
     "ename": "TypeError",
     "evalue": "unhashable type: 'list'",
     "output_type": "error",
     "traceback": [
      "\u001b[1;31m---------------------------------------------------------------------------\u001b[0m",
      "\u001b[1;31mTypeError\u001b[0m                                 Traceback (most recent call last)",
      "\u001b[1;32mpandas\\_libs\\hashtable_class_helper.pxi\u001b[0m in \u001b[0;36mpandas._libs.hashtable.PyObjectHashTable.map_locations\u001b[1;34m()\u001b[0m\n",
      "\u001b[1;31mTypeError\u001b[0m: unhashable type: 'list'"
     ]
    },
    {
     "name": "stderr",
     "output_type": "stream",
     "text": [
      "Exception ignored in: 'pandas._libs.index.IndexEngine._call_map_locations'\n",
      "Traceback (most recent call last):\n",
      "  File \"pandas\\_libs\\hashtable_class_helper.pxi\", line 5231, in pandas._libs.hashtable.PyObjectHashTable.map_locations\n",
      "TypeError: unhashable type: 'list'\n"
     ]
    },
    {
     "data": {
      "text/plain": [
       "[Cloth, Black]           5821\n",
       "NaN                      3720\n",
       "[Part leather, Black]    1121\n",
       "[Cloth]                  1005\n",
       "[Cloth, Grey]             891\n",
       "[Cloth, Other]            639\n",
       "[Full leather, Black]     575\n",
       "[Black]                   491\n",
       "[Grey]                    273\n",
       "[Other, Other]            182\n",
       "[Part leather]            140\n",
       "[Full leather]            139\n",
       "[Full leather, Brown]     116\n",
       "[Part leather, Grey]      116\n",
       "[Other, Black]            110\n",
       "[Full leather, Other]      72\n",
       "[Full leather, Grey]       67\n",
       "[Part leather, Other]      65\n",
       "[Other]                    56\n",
       "[Part leather, Brown]      50\n",
       "[alcantara, Black]         47\n",
       "[Velour, Black]            36\n",
       "[Full leather, Beige]      36\n",
       "[Cloth, Brown]             28\n",
       "[Velour]                   16\n",
       "[Other, Grey]              15\n",
       "[Cloth, Beige]             13\n",
       "[Brown]                    12\n",
       "[Cloth, Blue]              12\n",
       "[Velour, Grey]              8\n",
       "[Cloth, White]              8\n",
       "[alcantara, Grey]           6\n",
       "[Cloth, Red]                5\n",
       "[Other, Yellow]             4\n",
       "[Part leather, Red]         3\n",
       "[Beige]                     3\n",
       "[Part leather, White]       2\n",
       "[Full leather, Blue]        2\n",
       "[alcantara, Other]          2\n",
       "[alcantara]                 2\n",
       "[White]                     2\n",
       "[Part leather, Beige]       2\n",
       "[Blue]                      2\n",
       "[Cloth, Orange]             1\n",
       "[Full leather, Red]         1\n",
       "[Other, Brown]              1\n",
       "[Full leather, White]       1\n",
       "Name: Upholstery, dtype: int64"
      ]
     },
     "execution_count": 330,
     "metadata": {},
     "output_type": "execute_result"
    }
   ],
   "source": [
    "df[\"Upholstery\"].value_counts(dropna=False)"
   ]
  },
  {
   "cell_type": "code",
   "execution_count": 331,
   "metadata": {},
   "outputs": [],
   "source": [
    "u_type = [\"Cloth\", 'Part leather', 'Full leather', 'Velour', 'alcantara']\n",
    "df[\"Upholstery_type\"] = df[\"Upholstery\"].apply(lambda x : x[0] if type(x) == list and x[0] in u_type else np.nan)"
   ]
  },
  {
   "cell_type": "code",
   "execution_count": 332,
   "metadata": {},
   "outputs": [
    {
     "data": {
      "text/plain": [
       "Cloth           8423\n",
       "NaN             4871\n",
       "Part leather    1499\n",
       "Full leather    1009\n",
       "Velour            60\n",
       "alcantara         57\n",
       "Name: Upholstery_type, dtype: int64"
      ]
     },
     "execution_count": 332,
     "metadata": {},
     "output_type": "execute_result"
    }
   ],
   "source": [
    "df[\"Upholstery_type\"].value_counts(dropna=False)"
   ]
  },
  {
   "cell_type": "code",
   "execution_count": 333,
   "metadata": {},
   "outputs": [],
   "source": [
    "color = ['Black', 'Grey', 'Brown', 'Beige', 'White', 'Blue', 'Red', 'Yellow', 'Orange']\n",
    "\n",
    "def finder(x):\n",
    "    if type(x) == list and len(x) == 2:\n",
    "        return x[1]\n",
    "    elif type(x) == list and x[0] in color:\n",
    "        return x[0]\n",
    "    else:\n",
    "        return np.nan\n",
    "    \n",
    "df['Upholstery_color'] = df.Upholstery.apply(finder)"
   ]
  },
  {
   "cell_type": "code",
   "execution_count": 334,
   "metadata": {},
   "outputs": [
    {
     "data": {
      "text/plain": [
       "Black     8201\n",
       "NaN       5078\n",
       "Grey      1376\n",
       "Other      960\n",
       "Brown      207\n",
       "Beige       54\n",
       "Blue        16\n",
       "White       13\n",
       "Red          9\n",
       "Yellow       4\n",
       "Orange       1\n",
       "Name: Upholstery_color, dtype: int64"
      ]
     },
     "execution_count": 334,
     "metadata": {},
     "output_type": "execute_result"
    }
   ],
   "source": [
    "df[\"Upholstery_color\"].value_counts(dropna=False)"
   ]
  },
  {
   "cell_type": "code",
   "execution_count": 335,
   "metadata": {},
   "outputs": [],
   "source": [
    "df.drop(\"Upholstery\", axis=1, inplace=True)"
   ]
  },
  {
   "cell_type": "markdown",
   "metadata": {},
   "source": [
    "## Nr. of Doors"
   ]
  },
  {
   "cell_type": "code",
   "execution_count": 336,
   "metadata": {},
   "outputs": [
    {
     "ename": "TypeError",
     "evalue": "unhashable type: 'list'",
     "output_type": "error",
     "traceback": [
      "\u001b[1;31m---------------------------------------------------------------------------\u001b[0m",
      "\u001b[1;31mTypeError\u001b[0m                                 Traceback (most recent call last)",
      "\u001b[1;32mpandas\\_libs\\hashtable_class_helper.pxi\u001b[0m in \u001b[0;36mpandas._libs.hashtable.PyObjectHashTable.map_locations\u001b[1;34m()\u001b[0m\n",
      "\u001b[1;31mTypeError\u001b[0m: unhashable type: 'list'"
     ]
    },
    {
     "name": "stderr",
     "output_type": "stream",
     "text": [
      "Exception ignored in: 'pandas._libs.index.IndexEngine._call_map_locations'\n",
      "Traceback (most recent call last):\n",
      "  File \"pandas\\_libs\\hashtable_class_helper.pxi\", line 5231, in pandas._libs.hashtable.PyObjectHashTable.map_locations\n",
      "TypeError: unhashable type: 'list'\n"
     ]
    },
    {
     "data": {
      "text/plain": [
       "[\\n5\\n]    11575\n",
       "[\\n4\\n]     3079\n",
       "[\\n3\\n]      832\n",
       "[\\n2\\n]      219\n",
       "NaN          212\n",
       "[\\n1\\n]        1\n",
       "[\\n7\\n]        1\n",
       "Name: Nr. of Doors, dtype: int64"
      ]
     },
     "execution_count": 336,
     "metadata": {},
     "output_type": "execute_result"
    }
   ],
   "source": [
    "df[\"Nr. of Doors\"].value_counts(dropna=False)"
   ]
  },
  {
   "cell_type": "code",
   "execution_count": 337,
   "metadata": {},
   "outputs": [],
   "source": [
    "df['Nr_of_Doors'] = df['Nr. of Doors'].str[0].str.strip('\\n').astype('float')"
   ]
  },
  {
   "cell_type": "code",
   "execution_count": 338,
   "metadata": {},
   "outputs": [
    {
     "data": {
      "text/plain": [
       "5.000    11575\n",
       "4.000     3079\n",
       "3.000      832\n",
       "2.000      219\n",
       "NaN        212\n",
       "1.000        1\n",
       "7.000        1\n",
       "Name: Nr_of_Doors, dtype: int64"
      ]
     },
     "execution_count": 338,
     "metadata": {},
     "output_type": "execute_result"
    }
   ],
   "source": [
    "df[\"Nr_of_Doors\"].value_counts(dropna=False)"
   ]
  },
  {
   "cell_type": "code",
   "execution_count": 339,
   "metadata": {},
   "outputs": [],
   "source": [
    "df.drop(\"Nr. of Doors\", axis=1, inplace=True)"
   ]
  },
  {
   "cell_type": "markdown",
   "metadata": {},
   "source": [
    "## Nr. of Seats"
   ]
  },
  {
   "cell_type": "code",
   "execution_count": 340,
   "metadata": {},
   "outputs": [
    {
     "ename": "TypeError",
     "evalue": "unhashable type: 'list'",
     "output_type": "error",
     "traceback": [
      "\u001b[1;31m---------------------------------------------------------------------------\u001b[0m",
      "\u001b[1;31mTypeError\u001b[0m                                 Traceback (most recent call last)",
      "\u001b[1;32mpandas\\_libs\\hashtable_class_helper.pxi\u001b[0m in \u001b[0;36mpandas._libs.hashtable.PyObjectHashTable.map_locations\u001b[1;34m()\u001b[0m\n",
      "\u001b[1;31mTypeError\u001b[0m: unhashable type: 'list'"
     ]
    },
    {
     "name": "stderr",
     "output_type": "stream",
     "text": [
      "Exception ignored in: 'pandas._libs.index.IndexEngine._call_map_locations'\n",
      "Traceback (most recent call last):\n",
      "  File \"pandas\\_libs\\hashtable_class_helper.pxi\", line 5231, in pandas._libs.hashtable.PyObjectHashTable.map_locations\n",
      "TypeError: unhashable type: 'list'\n"
     ]
    },
    {
     "data": {
      "text/plain": [
       "[\\n5\\n]    13336\n",
       "[\\n4\\n]     1125\n",
       "NaN          977\n",
       "[\\n7\\n]      362\n",
       "[\\n2\\n]      116\n",
       "[\\n6\\n]        2\n",
       "[\\n3\\n]        1\n",
       "Name: Nr. of Seats, dtype: int64"
      ]
     },
     "execution_count": 340,
     "metadata": {},
     "output_type": "execute_result"
    }
   ],
   "source": [
    "df[\"Nr. of Seats\"].value_counts(dropna=False)"
   ]
  },
  {
   "cell_type": "code",
   "execution_count": 341,
   "metadata": {},
   "outputs": [],
   "source": [
    "df['Nr_of_Seats'] = df['Nr. of Seats'].str[0].str.strip('\\n').astype('float')"
   ]
  },
  {
   "cell_type": "code",
   "execution_count": 342,
   "metadata": {},
   "outputs": [
    {
     "data": {
      "text/plain": [
       "5.000    13336\n",
       "4.000     1125\n",
       "NaN        977\n",
       "7.000      362\n",
       "2.000      116\n",
       "6.000        2\n",
       "3.000        1\n",
       "Name: Nr_of_Seats, dtype: int64"
      ]
     },
     "execution_count": 342,
     "metadata": {},
     "output_type": "execute_result"
    }
   ],
   "source": [
    "df[\"Nr_of_Seats\"].value_counts(dropna=False)"
   ]
  },
  {
   "cell_type": "code",
   "execution_count": 343,
   "metadata": {},
   "outputs": [],
   "source": [
    "df.drop(\"Nr. of Seats\", axis=1, inplace=True)"
   ]
  },
  {
   "cell_type": "markdown",
   "metadata": {},
   "source": [
    "## Model Code"
   ]
  },
  {
   "cell_type": "code",
   "execution_count": 344,
   "metadata": {},
   "outputs": [
    {
     "ename": "TypeError",
     "evalue": "unhashable type: 'list'",
     "output_type": "error",
     "traceback": [
      "\u001b[1;31m---------------------------------------------------------------------------\u001b[0m",
      "\u001b[1;31mTypeError\u001b[0m                                 Traceback (most recent call last)",
      "\u001b[1;32mpandas\\_libs\\hashtable_class_helper.pxi\u001b[0m in \u001b[0;36mpandas._libs.hashtable.PyObjectHashTable.map_locations\u001b[1;34m()\u001b[0m\n",
      "\u001b[1;31mTypeError\u001b[0m: unhashable type: 'list'"
     ]
    },
    {
     "name": "stderr",
     "output_type": "stream",
     "text": [
      "Exception ignored in: 'pandas._libs.index.IndexEngine._call_map_locations'\n",
      "Traceback (most recent call last):\n",
      "  File \"pandas\\_libs\\hashtable_class_helper.pxi\", line 5231, in pandas._libs.hashtable.PyObjectHashTable.map_locations\n",
      "TypeError: unhashable type: 'list'\n"
     ]
    },
    {
     "data": {
      "text/plain": [
       "NaN               10941\n",
       "[\\n0035/BCB\\n]      268\n",
       "[\\n0588/BNO\\n]      245\n",
       "[\\n0588/BDB\\n]      206\n",
       "[\\n0588/BHX\\n]      188\n",
       "                  ...  \n",
       "[\\n0035/AVN\\n]        1\n",
       "[\\n0035/BEM\\n]        1\n",
       "[\\n0035/BAG\\n]        1\n",
       "[\\n0035/BAA\\n]        1\n",
       "[\\n3333/BKG\\n]        1\n",
       "Name: Model Code, Length: 233, dtype: int64"
      ]
     },
     "execution_count": 344,
     "metadata": {},
     "output_type": "execute_result"
    }
   ],
   "source": [
    "df[\"Model Code\"].value_counts(dropna=False)"
   ]
  },
  {
   "cell_type": "code",
   "execution_count": 345,
   "metadata": {},
   "outputs": [],
   "source": [
    "df.drop(\"Model Code\", axis=1, inplace=True)"
   ]
  },
  {
   "cell_type": "markdown",
   "metadata": {},
   "source": [
    "## Gearing Type"
   ]
  },
  {
   "cell_type": "code",
   "execution_count": 346,
   "metadata": {},
   "outputs": [
    {
     "ename": "TypeError",
     "evalue": "unhashable type: 'list'",
     "output_type": "error",
     "traceback": [
      "\u001b[1;31m---------------------------------------------------------------------------\u001b[0m",
      "\u001b[1;31mTypeError\u001b[0m                                 Traceback (most recent call last)",
      "\u001b[1;32mpandas\\_libs\\hashtable_class_helper.pxi\u001b[0m in \u001b[0;36mpandas._libs.hashtable.PyObjectHashTable.map_locations\u001b[1;34m()\u001b[0m\n",
      "\u001b[1;31mTypeError\u001b[0m: unhashable type: 'list'"
     ]
    },
    {
     "name": "stderr",
     "output_type": "stream",
     "text": [
      "Exception ignored in: 'pandas._libs.index.IndexEngine._call_map_locations'\n",
      "Traceback (most recent call last):\n",
      "  File \"pandas\\_libs\\hashtable_class_helper.pxi\", line 5231, in pandas._libs.hashtable.PyObjectHashTable.map_locations\n",
      "TypeError: unhashable type: 'list'\n"
     ]
    },
    {
     "data": {
      "text/plain": [
       "[\\n, Manual, \\n]            8153\n",
       "[\\n, Automatic, \\n]         7297\n",
       "[\\n, Semi-automatic, \\n]     469\n",
       "Name: Gearing Type, dtype: int64"
      ]
     },
     "execution_count": 346,
     "metadata": {},
     "output_type": "execute_result"
    }
   ],
   "source": [
    "df[\"Gearing Type\"].value_counts(dropna=False)"
   ]
  },
  {
   "cell_type": "code",
   "execution_count": 347,
   "metadata": {},
   "outputs": [],
   "source": [
    "df['Gearing_Type'] = df['Gearing Type'].str[1]"
   ]
  },
  {
   "cell_type": "code",
   "execution_count": 348,
   "metadata": {},
   "outputs": [
    {
     "data": {
      "text/plain": [
       "Manual            8153\n",
       "Automatic         7297\n",
       "Semi-automatic     469\n",
       "Name: Gearing_Type, dtype: int64"
      ]
     },
     "execution_count": 348,
     "metadata": {},
     "output_type": "execute_result"
    }
   ],
   "source": [
    "df[\"Gearing_Type\"].value_counts(dropna=False)"
   ]
  },
  {
   "cell_type": "code",
   "execution_count": 349,
   "metadata": {},
   "outputs": [],
   "source": [
    "df.drop(\"Gearing Type\", axis=1, inplace=True)"
   ]
  },
  {
   "cell_type": "markdown",
   "metadata": {},
   "source": [
    "## Displacement"
   ]
  },
  {
   "cell_type": "code",
   "execution_count": 350,
   "metadata": {},
   "outputs": [
    {
     "ename": "TypeError",
     "evalue": "unhashable type: 'list'",
     "output_type": "error",
     "traceback": [
      "\u001b[1;31m---------------------------------------------------------------------------\u001b[0m",
      "\u001b[1;31mTypeError\u001b[0m                                 Traceback (most recent call last)",
      "\u001b[1;32mpandas\\_libs\\hashtable_class_helper.pxi\u001b[0m in \u001b[0;36mpandas._libs.hashtable.PyObjectHashTable.map_locations\u001b[1;34m()\u001b[0m\n",
      "\u001b[1;31mTypeError\u001b[0m: unhashable type: 'list'"
     ]
    },
    {
     "name": "stderr",
     "output_type": "stream",
     "text": [
      "Exception ignored in: 'pandas._libs.index.IndexEngine._call_map_locations'\n",
      "Traceback (most recent call last):\n",
      "  File \"pandas\\_libs\\hashtable_class_helper.pxi\", line 5231, in pandas._libs.hashtable.PyObjectHashTable.map_locations\n",
      "TypeError: unhashable type: 'list'\n"
     ]
    },
    {
     "data": {
      "text/plain": [
       "[\\n1,598 cc\\n]     4761\n",
       "[\\n999 cc\\n]       2438\n",
       "[\\n1,398 cc\\n]     1314\n",
       "[\\n1,399 cc\\n]      749\n",
       "[\\n1,229 cc\\n]      677\n",
       "[\\n1,956 cc\\n]      670\n",
       "[\\n1,461 cc\\n]      595\n",
       "[\\n1,490 cc\\n]      559\n",
       "NaN                 496\n",
       "[\\n1,422 cc\\n]      467\n",
       "[\\n1,197 cc\\n]      353\n",
       "[\\n898 cc\\n]        351\n",
       "[\\n1,395 cc\\n]      320\n",
       "[\\n1,968 cc\\n]      301\n",
       "[\\n1,149 cc\\n]      288\n",
       "[\\n1,618 cc\\n]      212\n",
       "[\\n1,798 cc\\n]      210\n",
       "[\\n1,498 cc\\n]      196\n",
       "[\\n1,600 cc\\n]      130\n",
       "[\\n1,248 cc\\n]      110\n",
       "[\\n1,997 cc\\n]      103\n",
       "[\\n1,364 cc\\n]      102\n",
       "[\\n1,400 cc\\n]       90\n",
       "[\\n998 cc\\n]         72\n",
       "[\\n1,500 cc\\n]       50\n",
       "[\\n2,000 cc\\n]       46\n",
       "[\\n1,000 cc\\n]       40\n",
       "[\\n1 cc\\n]           36\n",
       "[\\n1,998 cc\\n]       25\n",
       "[\\n2,480 cc\\n]       20\n",
       "[\\n1,200 cc\\n]       18\n",
       "[\\n1,984 cc\\n]       18\n",
       "[\\n1,397 cc\\n]       11\n",
       "[\\n899 cc\\n]         11\n",
       "[\\n160 cc\\n]          6\n",
       "[\\n929 cc\\n]          5\n",
       "[\\n1,499 cc\\n]        5\n",
       "[\\n997 cc\\n]          4\n",
       "[\\n1,596 cc\\n]        4\n",
       "[\\n139 cc\\n]          4\n",
       "[\\n900 cc\\n]          4\n",
       "[\\n1,599 cc\\n]        3\n",
       "[\\n1,199 cc\\n]        3\n",
       "[\\n1,396 cc\\n]        3\n",
       "[\\n1,495 cc\\n]        2\n",
       "[\\n1,589 cc\\n]        2\n",
       "[\\n1,300 cc\\n]        2\n",
       "[\\n2 cc\\n]            2\n",
       "[\\n995 cc\\n]          2\n",
       "[\\n1,496 cc\\n]        1\n",
       "[\\n890 cc\\n]          1\n",
       "[\\n1,580 cc\\n]        1\n",
       "[\\n1,995 cc\\n]        1\n",
       "[\\n1,333 cc\\n]        1\n",
       "[\\n54 cc\\n]           1\n",
       "[\\n1,533 cc\\n]        1\n",
       "[\\n1,100 cc\\n]        1\n",
       "[\\n1,350 cc\\n]        1\n",
       "[\\n16,000 cc\\n]       1\n",
       "[\\n1,856 cc\\n]        1\n",
       "[\\n1,568 cc\\n]        1\n",
       "[\\n1,896 cc\\n]        1\n",
       "[\\n1,584 cc\\n]        1\n",
       "[\\n996 cc\\n]          1\n",
       "[\\n1,696 cc\\n]        1\n",
       "[\\n1,686 cc\\n]        1\n",
       "[\\n15,898 cc\\n]       1\n",
       "[\\n1,368 cc\\n]        1\n",
       "[\\n140 cc\\n]          1\n",
       "[\\n973 cc\\n]          1\n",
       "[\\n1,239 cc\\n]        1\n",
       "[\\n1,369 cc\\n]        1\n",
       "[\\n1,390 cc\\n]        1\n",
       "[\\n122 cc\\n]          1\n",
       "[\\n1,198 cc\\n]        1\n",
       "[\\n1,195 cc\\n]        1\n",
       "[\\n2,967 cc\\n]        1\n",
       "[\\n1,800 cc\\n]        1\n",
       "Name: Displacement, dtype: int64"
      ]
     },
     "execution_count": 350,
     "metadata": {},
     "output_type": "execute_result"
    }
   ],
   "source": [
    "df[\"Displacement\"].value_counts(dropna=False)"
   ]
  },
  {
   "cell_type": "code",
   "execution_count": 351,
   "metadata": {},
   "outputs": [],
   "source": [
    "df[\"Displacement\"] = df.Displacement.str[0].str.strip('\\n').str.replace(',','').str.extract('(\\d{1,5})')[0].astype(\"float\")"
   ]
  },
  {
   "cell_type": "code",
   "execution_count": 352,
   "metadata": {},
   "outputs": [],
   "source": [
    "df[\"Displacement_cc\"] = df[\"Displacement\"]"
   ]
  },
  {
   "cell_type": "code",
   "execution_count": 353,
   "metadata": {},
   "outputs": [
    {
     "data": {
      "text/plain": [
       "1598.000     4761\n",
       "999.000      2438\n",
       "1398.000     1314\n",
       "1399.000      749\n",
       "1229.000      677\n",
       "1956.000      670\n",
       "1461.000      595\n",
       "1490.000      559\n",
       "NaN           496\n",
       "1422.000      467\n",
       "1197.000      353\n",
       "898.000       351\n",
       "1395.000      320\n",
       "1968.000      301\n",
       "1149.000      288\n",
       "1618.000      212\n",
       "1798.000      210\n",
       "1498.000      196\n",
       "1600.000      130\n",
       "1248.000      110\n",
       "1997.000      103\n",
       "1364.000      102\n",
       "1400.000       90\n",
       "998.000        72\n",
       "1500.000       50\n",
       "2000.000       46\n",
       "1000.000       40\n",
       "1.000          36\n",
       "1998.000       25\n",
       "2480.000       20\n",
       "1200.000       18\n",
       "1984.000       18\n",
       "1397.000       11\n",
       "899.000        11\n",
       "160.000         6\n",
       "929.000         5\n",
       "1499.000        5\n",
       "997.000         4\n",
       "1596.000        4\n",
       "139.000         4\n",
       "900.000         4\n",
       "1599.000        3\n",
       "1199.000        3\n",
       "1396.000        3\n",
       "1495.000        2\n",
       "1589.000        2\n",
       "1300.000        2\n",
       "2.000           2\n",
       "995.000         2\n",
       "1496.000        1\n",
       "890.000         1\n",
       "1580.000        1\n",
       "1995.000        1\n",
       "1333.000        1\n",
       "54.000          1\n",
       "1533.000        1\n",
       "1100.000        1\n",
       "1350.000        1\n",
       "16000.000       1\n",
       "1856.000        1\n",
       "1568.000        1\n",
       "1896.000        1\n",
       "1584.000        1\n",
       "996.000         1\n",
       "1696.000        1\n",
       "1686.000        1\n",
       "15898.000       1\n",
       "1368.000        1\n",
       "140.000         1\n",
       "973.000         1\n",
       "1239.000        1\n",
       "1369.000        1\n",
       "1390.000        1\n",
       "122.000         1\n",
       "1198.000        1\n",
       "1195.000        1\n",
       "2967.000        1\n",
       "1800.000        1\n",
       "Name: Displacement_cc, dtype: int64"
      ]
     },
     "execution_count": 353,
     "metadata": {},
     "output_type": "execute_result"
    }
   ],
   "source": [
    "df[\"Displacement_cc\"].value_counts(dropna=False)"
   ]
  },
  {
   "cell_type": "code",
   "execution_count": 354,
   "metadata": {},
   "outputs": [],
   "source": [
    "df.drop(\"Displacement\", axis=1, inplace=True)"
   ]
  },
  {
   "cell_type": "markdown",
   "metadata": {},
   "source": [
    "## Cylinders"
   ]
  },
  {
   "cell_type": "code",
   "execution_count": 355,
   "metadata": {},
   "outputs": [
    {
     "ename": "TypeError",
     "evalue": "unhashable type: 'list'",
     "output_type": "error",
     "traceback": [
      "\u001b[1;31m---------------------------------------------------------------------------\u001b[0m",
      "\u001b[1;31mTypeError\u001b[0m                                 Traceback (most recent call last)",
      "\u001b[1;32mpandas\\_libs\\hashtable_class_helper.pxi\u001b[0m in \u001b[0;36mpandas._libs.hashtable.PyObjectHashTable.map_locations\u001b[1;34m()\u001b[0m\n",
      "\u001b[1;31mTypeError\u001b[0m: unhashable type: 'list'"
     ]
    },
    {
     "name": "stderr",
     "output_type": "stream",
     "text": [
      "Exception ignored in: 'pandas._libs.index.IndexEngine._call_map_locations'\n",
      "Traceback (most recent call last):\n",
      "  File \"pandas\\_libs\\hashtable_class_helper.pxi\", line 5231, in pandas._libs.hashtable.PyObjectHashTable.map_locations\n",
      "TypeError: unhashable type: 'list'\n"
     ]
    },
    {
     "data": {
      "text/plain": [
       "[\\n4\\n]    8105\n",
       "NaN        5680\n",
       "[\\n3\\n]    2104\n",
       "[\\n5\\n]      22\n",
       "[\\n6\\n]       3\n",
       "[\\n8\\n]       2\n",
       "[\\n2\\n]       2\n",
       "[\\n1\\n]       1\n",
       "Name: Cylinders, dtype: int64"
      ]
     },
     "execution_count": 355,
     "metadata": {},
     "output_type": "execute_result"
    }
   ],
   "source": [
    "df[\"Cylinders\"].value_counts(dropna=False)"
   ]
  },
  {
   "cell_type": "code",
   "execution_count": 356,
   "metadata": {},
   "outputs": [],
   "source": [
    "df[\"Cylinders\"] = df.Cylinders.str[0].str.strip('\\n').astype(\"float\")"
   ]
  },
  {
   "cell_type": "code",
   "execution_count": 357,
   "metadata": {},
   "outputs": [
    {
     "data": {
      "text/plain": [
       "4.000    8105\n",
       "NaN      5680\n",
       "3.000    2104\n",
       "5.000      22\n",
       "6.000       3\n",
       "8.000       2\n",
       "2.000       2\n",
       "1.000       1\n",
       "Name: Cylinders, dtype: int64"
      ]
     },
     "execution_count": 357,
     "metadata": {},
     "output_type": "execute_result"
    }
   ],
   "source": [
    "df[\"Cylinders\"].value_counts(dropna=False)"
   ]
  },
  {
   "cell_type": "markdown",
   "metadata": {},
   "source": [
    "## Weight"
   ]
  },
  {
   "cell_type": "code",
   "execution_count": 358,
   "metadata": {},
   "outputs": [
    {
     "ename": "TypeError",
     "evalue": "unhashable type: 'list'",
     "output_type": "error",
     "traceback": [
      "\u001b[1;31m---------------------------------------------------------------------------\u001b[0m",
      "\u001b[1;31mTypeError\u001b[0m                                 Traceback (most recent call last)",
      "\u001b[1;32mpandas\\_libs\\hashtable_class_helper.pxi\u001b[0m in \u001b[0;36mpandas._libs.hashtable.PyObjectHashTable.map_locations\u001b[1;34m()\u001b[0m\n",
      "\u001b[1;31mTypeError\u001b[0m: unhashable type: 'list'"
     ]
    },
    {
     "name": "stderr",
     "output_type": "stream",
     "text": [
      "Exception ignored in: 'pandas._libs.index.IndexEngine._call_map_locations'\n",
      "Traceback (most recent call last):\n",
      "  File \"pandas\\_libs\\hashtable_class_helper.pxi\", line 5231, in pandas._libs.hashtable.PyObjectHashTable.map_locations\n",
      "TypeError: unhashable type: 'list'\n"
     ]
    },
    {
     "data": {
      "text/plain": [
       "NaN               6974\n",
       "[\\n1,163 kg\\n]     574\n",
       "[\\n1,360 kg\\n]     356\n",
       "[\\n1,165 kg\\n]     301\n",
       "[\\n1,335 kg\\n]     242\n",
       "                  ... \n",
       "[\\n1,960 kg\\n]       1\n",
       "[\\n1,258 kg\\n]       1\n",
       "[\\n1,167 kg\\n]       1\n",
       "[\\n1,331 kg\\n]       1\n",
       "[\\n2,037 kg\\n]       1\n",
       "Name: Weight, Length: 435, dtype: int64"
      ]
     },
     "execution_count": 358,
     "metadata": {},
     "output_type": "execute_result"
    }
   ],
   "source": [
    "df[\"Weight\"].value_counts(dropna=False)"
   ]
  },
  {
   "cell_type": "code",
   "execution_count": 359,
   "metadata": {},
   "outputs": [],
   "source": [
    "df[\"Weight_kg\"] = df.Weight.str[0].str.strip('\\n').str.replace(',','').str.extract('(\\d{1,6})')[0].astype('float')"
   ]
  },
  {
   "cell_type": "code",
   "execution_count": 360,
   "metadata": {},
   "outputs": [
    {
     "data": {
      "text/plain": [
       "NaN         6974\n",
       "1163.000     574\n",
       "1360.000     356\n",
       "1165.000     301\n",
       "1335.000     242\n",
       "            ... \n",
       "1960.000       1\n",
       "1258.000       1\n",
       "1167.000       1\n",
       "1331.000       1\n",
       "2037.000       1\n",
       "Name: Weight_kg, Length: 435, dtype: int64"
      ]
     },
     "execution_count": 360,
     "metadata": {},
     "output_type": "execute_result"
    }
   ],
   "source": [
    "df[\"Weight_kg\"].value_counts(dropna=False)"
   ]
  },
  {
   "cell_type": "code",
   "execution_count": 361,
   "metadata": {},
   "outputs": [],
   "source": [
    "df.drop(\"Weight\", axis=1, inplace=True)"
   ]
  },
  {
   "cell_type": "markdown",
   "metadata": {},
   "source": [
    "## Drive chain"
   ]
  },
  {
   "cell_type": "code",
   "execution_count": 362,
   "metadata": {},
   "outputs": [
    {
     "ename": "TypeError",
     "evalue": "unhashable type: 'list'",
     "output_type": "error",
     "traceback": [
      "\u001b[1;31m---------------------------------------------------------------------------\u001b[0m",
      "\u001b[1;31mTypeError\u001b[0m                                 Traceback (most recent call last)",
      "\u001b[1;32mpandas\\_libs\\hashtable_class_helper.pxi\u001b[0m in \u001b[0;36mpandas._libs.hashtable.PyObjectHashTable.map_locations\u001b[1;34m()\u001b[0m\n",
      "\u001b[1;31mTypeError\u001b[0m: unhashable type: 'list'"
     ]
    },
    {
     "name": "stderr",
     "output_type": "stream",
     "text": [
      "Exception ignored in: 'pandas._libs.index.IndexEngine._call_map_locations'\n",
      "Traceback (most recent call last):\n",
      "  File \"pandas\\_libs\\hashtable_class_helper.pxi\", line 5231, in pandas._libs.hashtable.PyObjectHashTable.map_locations\n",
      "TypeError: unhashable type: 'list'\n"
     ]
    },
    {
     "data": {
      "text/plain": [
       "[\\nfront\\n]    8886\n",
       "NaN            6858\n",
       "[\\n4WD\\n]       171\n",
       "[\\nrear\\n]        4\n",
       "Name: Drive chain, dtype: int64"
      ]
     },
     "execution_count": 362,
     "metadata": {},
     "output_type": "execute_result"
    }
   ],
   "source": [
    "df[\"Drive chain\"].value_counts(dropna=False)"
   ]
  },
  {
   "cell_type": "code",
   "execution_count": 363,
   "metadata": {},
   "outputs": [],
   "source": [
    "df['Drive_chain'] = df['Drive chain'].str[0].str.strip('\\n')"
   ]
  },
  {
   "cell_type": "code",
   "execution_count": 364,
   "metadata": {},
   "outputs": [
    {
     "data": {
      "text/plain": [
       "front    8886\n",
       "NaN      6858\n",
       "4WD       171\n",
       "rear        4\n",
       "Name: Drive_chain, dtype: int64"
      ]
     },
     "execution_count": 364,
     "metadata": {},
     "output_type": "execute_result"
    }
   ],
   "source": [
    "df[\"Drive_chain\"].value_counts(dropna=False)"
   ]
  },
  {
   "cell_type": "code",
   "execution_count": 365,
   "metadata": {},
   "outputs": [],
   "source": [
    "df.drop(\"Drive chain\", axis=1, inplace=True)"
   ]
  },
  {
   "cell_type": "markdown",
   "metadata": {},
   "source": [
    "## Fuel"
   ]
  },
  {
   "cell_type": "code",
   "execution_count": 366,
   "metadata": {},
   "outputs": [
    {
     "ename": "TypeError",
     "evalue": "unhashable type: 'list'",
     "output_type": "error",
     "traceback": [
      "\u001b[1;31m---------------------------------------------------------------------------\u001b[0m",
      "\u001b[1;31mTypeError\u001b[0m                                 Traceback (most recent call last)",
      "\u001b[1;32mpandas\\_libs\\hashtable_class_helper.pxi\u001b[0m in \u001b[0;36mpandas._libs.hashtable.PyObjectHashTable.map_locations\u001b[1;34m()\u001b[0m\n",
      "\u001b[1;31mTypeError\u001b[0m: unhashable type: 'list'"
     ]
    },
    {
     "name": "stderr",
     "output_type": "stream",
     "text": [
      "Exception ignored in: 'pandas._libs.index.IndexEngine._call_map_locations'\n",
      "Traceback (most recent call last):\n",
      "  File \"pandas\\_libs\\hashtable_class_helper.pxi\", line 5231, in pandas._libs.hashtable.PyObjectHashTable.map_locations\n",
      "TypeError: unhashable type: 'list'\n"
     ]
    },
    {
     "data": {
      "text/plain": [
       "[\\n, Diesel (Particulate Filter), \\n]                                                                                                       4315\n",
       "[\\n, Super 95, \\n]                                                                                                                          3338\n",
       "[\\n, Gasoline, \\n]                                                                                                                          3175\n",
       "[\\n, Diesel, \\n]                                                                                                                            2984\n",
       "[\\n, Super 95 / Regular/Benzine 91, \\n]                                                                                                      424\n",
       "[\\n, Regular/Benzine 91, \\n]                                                                                                                 354\n",
       "[\\n, Super E10 95, \\n]                                                                                                                       331\n",
       "[\\n, Super 95 (Particulate Filter), \\n]                                                                                                      268\n",
       "[\\n, Super 95 / Super E10 95, \\n]                                                                                                            131\n",
       "[\\n, Regular/Benzine 91 (Particulate Filter), \\n]                                                                                            100\n",
       "[\\n, Super 95 / Super Plus 98, \\n]                                                                                                            85\n",
       "[\\n, Gasoline (Particulate Filter), \\n]                                                                                                       77\n",
       "[\\n, Super 95 / Super Plus 98 / Super E10 95 / Super Plus E10 98, \\n]                                                                         40\n",
       "[\\n, Super E10 95 / Super 95, \\n]                                                                                                             38\n",
       "[\\n, CNG, \\n]                                                                                                                                 33\n",
       "[\\n, Super 95 / Super E10 95 (Particulate Filter), \\n]                                                                                        25\n",
       "[\\n, Super E10 95 / Super 95 / Super Plus 98 / Super Plus E10 98, \\n]                                                                         19\n",
       "[\\n, LPG, \\n]                                                                                                                                 16\n",
       "[\\n, Super 95 / Super Plus 98 (Particulate Filter), \\n]                                                                                       14\n",
       "[\\n, Regular/Benzine 91 / Super 95 / Super Plus 98 / Regular/Benzine E10 91 / Super E10 95 / Super Plus E10 98, \\n]                           13\n",
       "[\\n, Regular/Benzine E10 91, \\n]                                                                                                              11\n",
       "[\\n, Liquid petroleum gas (LPG), \\n]                                                                                                          10\n",
       "[\\n, Super 95 / Super Plus 98 / Super E10 95, \\n]                                                                                              8\n",
       "[\\n, Regular/Benzine 91 / Regular/Benzine E10 91, \\n]                                                                                          7\n",
       "[\\n, Super 95 / Regular/Benzine 91 / Super Plus 98 / Regular/Benzine E10 91 / Super E10 95 / Super Plus E10 98, \\n]                            7\n",
       "[\\n, Super Plus 98, \\n]                                                                                                                        7\n",
       "[\\n, Super E10 95 (Particulate Filter), \\n]                                                                                                    7\n",
       "[\\n, Super 95 / Super Plus 98 / Super Plus E10 98 / Super E10 95, \\n]                                                                          5\n",
       "[\\n, Others, \\n]                                                                                                                               5\n",
       "[\\n, Super E10 95 / Super Plus E10 98, \\n]                                                                                                     4\n",
       "[\\n, Electric/Gasoline, \\n]                                                                                                                    4\n",
       "[\\n, Super 95 / Super Plus 98 / Super E10 95 / Super Plus E10 98 (Particulate Filter), \\n]                                                     4\n",
       "[\\n, Super 95 / Super E10 95 / Super Plus E10 98 / Super Plus 98, \\n]                                                                          4\n",
       "[\\n, Regular/Benzine 91 / Super 95 / Super Plus 98 / Regular/Benzine E10 91 / Super Plus E10 98 / Super E10 95, \\n]                            4\n",
       "[\\n, CNG (Particulate Filter), \\n]                                                                                                             3\n",
       "[\\n, Super E10 95 / Super 95 / Super Plus 98 / Super Plus E10 98 (Particulate Filter), \\n]                                                     3\n",
       "[\\n, Super E10 95 / Super 95 / Super Plus 98, \\n]                                                                                              3\n",
       "[\\n, Super E10 95 / Regular/Benzine 91, \\n]                                                                                                    2\n",
       "[\\n, Super 95 / Regular/Benzine 91 / Super Plus 98, \\n]                                                                                        2\n",
       "[\\n, Regular/Benzine 91 / Super 95 / Super Plus 98 / Super Plus E10 98 / Super E10 95 / Regular/Benzine E10 91, \\n]                            2\n",
       "[\\n, Regular/Benzine 91 / Super 95 / Super E10 95, \\n]                                                                                         1\n",
       "[\\n, Electric, \\n]                                                                                                                             1\n",
       "[\\n, Regular/Benzine 91 / Super 95 / Super E10 95 / Super Plus E10 98 / Super Plus 98 / Regular/Benzine E10 91, \\n]                            1\n",
       "[\\n, Super 95 / Super E10 95 / Super Plus E10 98, \\n]                                                                                          1\n",
       "[\\n, Super 95 / Super E10 95 / Super Plus 98, \\n]                                                                                              1\n",
       "[\\n, Regular/Benzine 91 / Super 95 / Super Plus E10 98 / Super E10 95 / Regular/Benzine E10 91 / Super Plus 98, \\n]                            1\n",
       "[\\n, Super 95 / Super Plus 98 / Regular/Benzine E10 91 / Super Plus E10 98 / Super E10 95 / Regular/Benzine 91, \\n]                            1\n",
       "[\\n, Super 95 / Regular/Benzine E10 91, \\n]                                                                                                    1\n",
       "[\\n, Super E10 95 / Regular/Benzine 91 / Regular/Benzine E10 91 / Super 95, \\n]                                                                1\n",
       "[\\n, Super Plus 98 / Regular/Benzine 91, \\n]                                                                                                   1\n",
       "[\\n, Super 95 / Regular/Benzine 91 / Super E10 95 / Super Plus 98 / Super Plus E10 98 / Regular/Benzine E10 91, \\n]                            1\n",
       "[\\n, Super 95 / Super Plus 98 / Super Plus E10 98, \\n]                                                                                         1\n",
       "[\\n, Super 95 / Regular/Benzine 91 (Particulate Filter), \\n]                                                                                   1\n",
       "[\\n, Super 95 / Super E10 95 / Regular/Benzine 91, \\n]                                                                                         1\n",
       "[\\n, Regular/Benzine 91 / Super 95 / Super E10 95 / Regular/Benzine E10 91, \\n]                                                                1\n",
       "[\\n, Super 95 / Regular/Benzine E10 91 / Super E10 95, \\n]                                                                                     1\n",
       "[\\n, Super 95 / Regular/Benzine 91 / Super Plus 98 / Regular/Benzine E10 91 / Super Plus E10 98 / Super E10 95, \\n]                            1\n",
       "[\\n, Regular/Benzine E10 91 / Super E10 95 / Super Plus E10 98 / Super Plus 98 / Super 95 / Regular/Benzine 91, \\n]                            1\n",
       "[\\n, Super 95 / Regular/Benzine 91 / Super E10 95 / Super Plus E10 98 / Super Plus 98, \\n]                                                     1\n",
       "[\\n, Others (Particulate Filter), \\n]                                                                                                          1\n",
       "[\\n, Biogas, \\n]                                                                                                                               1\n",
       "[\\n, Super 95 / Biodiesel, \\n]                                                                                                                 1\n",
       "[\\n, Regular/Benzine 91 / Super 95 / Super Plus 98 / Super Plus E10 98 / Super E10 95 / Regular/Benzine E10 91 (Particulate Filter), \\n]       1\n",
       "[\\n, Regular/Benzine 91 / Super 95 / Super Plus 98, \\n]                                                                                        1\n",
       "[\\n, Regular/Benzine 91 / Super 95, \\n]                                                                                                        1\n",
       "[\\n, Regular/Benzine E10 91 / Regular/Benzine 91 / Super 95 / Super Plus 98 / Super E10 95 / Super Plus E10 98, \\n]                            1\n",
       "[\\n, Domestic gas H, \\n]                                                                                                                       1\n",
       "[\\n, Super E10 95 / Regular/Benzine 91 / Super 95 / Super Plus 98 / Regular/Benzine E10 91 / Super Plus E10 98, \\n]                            1\n",
       "[\\n, Super Plus E10 98 / Super 95 / Super Plus 98 / Super E10 95, \\n]                                                                          1\n",
       "[\\n, Super 95 / Regular/Benzine 91 / Super E10 95 / Super Plus E10 98 / Super Plus 98 / Regular/Benzine E10 91, \\n]                            1\n",
       "[\\n, Super Plus 98 / Super 95 / Super E10 95, \\n]                                                                                              1\n",
       "[\\n, Super Plus E10 98, \\n]                                                                                                                    1\n",
       "[\\n, Regular/Benzine 91 / Super 95 / Regular/Benzine E10 91, \\n]                                                                               1\n",
       "[\\n, Super Plus 98 / Super E10 95, \\n]                                                                                                         1\n",
       "[\\n, Regular/Benzine 91 / Super 95 / Regular/Benzine E10 91 / Super E10 95 / Super Plus 98 / Super Plus E10 98, \\n]                            1\n",
       "[\\n, Regular/Benzine 91 / Super Plus 98 / Regular/Benzine E10 91 / Super 95 / Super E10 95 / Super Plus E10 98, \\n]                            1\n",
       "[\\n, Super Plus 98 / Super 95 / Super Plus E10 98, \\n]                                                                                         1\n",
       "Name: Fuel, dtype: int64"
      ]
     },
     "execution_count": 366,
     "metadata": {},
     "output_type": "execute_result"
    }
   ],
   "source": [
    "df[\"Fuel\"].value_counts(dropna=False)"
   ]
  },
  {
   "cell_type": "code",
   "execution_count": 367,
   "metadata": {},
   "outputs": [],
   "source": [
    "df[\"Fuel\"] = df.Fuel.str[1].str.split(\"/\").str[0].str.strip()"
   ]
  },
  {
   "cell_type": "code",
   "execution_count": 368,
   "metadata": {},
   "outputs": [
    {
     "data": {
      "text/plain": [
       "Diesel (Particulate Filter)          4315\n",
       "Super 95                             4100\n",
       "Gasoline                             3175\n",
       "Diesel                               2984\n",
       "Regular                               503\n",
       "Super E10 95                          402\n",
       "Super 95 (Particulate Filter)         268\n",
       "Gasoline (Particulate Filter)          77\n",
       "CNG                                    33\n",
       "LPG                                    16\n",
       "Super Plus 98                          11\n",
       "Liquid petroleum gas (LPG)             10\n",
       "Super E10 95 (Particulate Filter)       7\n",
       "Electric                                5\n",
       "Others                                  5\n",
       "CNG (Particulate Filter)                3\n",
       "Super Plus E10 98                       2\n",
       "Others (Particulate Filter)             1\n",
       "Biogas                                  1\n",
       "Domestic gas H                          1\n",
       "Name: Fuel, dtype: int64"
      ]
     },
     "execution_count": 368,
     "metadata": {},
     "output_type": "execute_result"
    }
   ],
   "source": [
    "df[\"Fuel\"].value_counts(dropna=False)"
   ]
  },
  {
   "cell_type": "code",
   "execution_count": 369,
   "metadata": {},
   "outputs": [],
   "source": [
    "df[\"Fuel\"] = df.Fuel.str.split(\"(\").str[0].str.strip()"
   ]
  },
  {
   "cell_type": "code",
   "execution_count": 370,
   "metadata": {},
   "outputs": [
    {
     "data": {
      "text/plain": [
       "Diesel                  7299\n",
       "Super 95                4368\n",
       "Gasoline                3252\n",
       "Regular                  503\n",
       "Super E10 95             409\n",
       "CNG                       36\n",
       "LPG                       16\n",
       "Super Plus 98             11\n",
       "Liquid petroleum gas      10\n",
       "Others                     6\n",
       "Electric                   5\n",
       "Super Plus E10 98          2\n",
       "Biogas                     1\n",
       "Domestic gas H             1\n",
       "Name: Fuel, dtype: int64"
      ]
     },
     "execution_count": 370,
     "metadata": {},
     "output_type": "execute_result"
    }
   ],
   "source": [
    "df[\"Fuel\"].value_counts(dropna=False)"
   ]
  },
  {
   "cell_type": "code",
   "execution_count": 371,
   "metadata": {},
   "outputs": [],
   "source": [
    "benzine = [\"Gasoline\", \"Super 95\",\"Regular\",\"Super E10 95\",\"Super Plus 98\",\"Super Plus E10 98\", \"Others\"]\n",
    "lpg = [\"LPG\",\"Liquid petroleum gas\", \"CNG\", \"Biogas\", \"Domestic gas H\"]\n",
    "def fueltype(x):\n",
    "    if x in benzine:\n",
    "        return \"Benzine\"\n",
    "    elif x in lpg:\n",
    "        return \"LPG/CNG\"\n",
    "    else:\n",
    "        return x\n",
    "df[\"Fuel\"] = df.Fuel.apply(fueltype)"
   ]
  },
  {
   "cell_type": "code",
   "execution_count": 372,
   "metadata": {},
   "outputs": [
    {
     "data": {
      "text/plain": [
       "Benzine     8551\n",
       "Diesel      7299\n",
       "LPG/CNG       64\n",
       "Electric       5\n",
       "Name: Fuel, dtype: int64"
      ]
     },
     "execution_count": 372,
     "metadata": {},
     "output_type": "execute_result"
    }
   ],
   "source": [
    "df.Fuel.value_counts(dropna=False)"
   ]
  },
  {
   "cell_type": "code",
   "execution_count": 373,
   "metadata": {},
   "outputs": [],
   "source": [
    "#alternative method\n",
    "#df[\"fuel_new\"] = df.Fuel.str[1]\n",
    "#diesel_bool = df[\"fuel_new\"].str.contains(\"diesel\", case = False, regex = True)\n",
    "#lpg_bool = df[\"fuel_new\"].str.contains(\"lpg|cng|bio|domestic|electric\", case = False, regex = True)\n",
    "#df.loc[diesel_bool, \"fuel_new\"] = \"Diesel\"\n",
    "#df.loc[lpg_bool, \"fuel_new\"] = \"LPG/CNG\"\n",
    "#benz = list(df.fuel_new.loc[lambda x : x != \"Diesel\"][lambda x : x != \"LPG/CNG\"].index)\n",
    "#df.fuel_new.iloc[benz] = \"Benzine\""
   ]
  },
  {
   "cell_type": "markdown",
   "metadata": {},
   "source": [
    "## Consumption"
   ]
  },
  {
   "cell_type": "code",
   "execution_count": 374,
   "metadata": {},
   "outputs": [
    {
     "ename": "TypeError",
     "evalue": "unhashable type: 'list'",
     "output_type": "error",
     "traceback": [
      "\u001b[1;31m---------------------------------------------------------------------------\u001b[0m",
      "\u001b[1;31mTypeError\u001b[0m                                 Traceback (most recent call last)",
      "\u001b[1;32mpandas\\_libs\\hashtable_class_helper.pxi\u001b[0m in \u001b[0;36mpandas._libs.hashtable.PyObjectHashTable.map_locations\u001b[1;34m()\u001b[0m\n",
      "\u001b[1;31mTypeError\u001b[0m: unhashable type: 'list'"
     ]
    },
    {
     "name": "stderr",
     "output_type": "stream",
     "text": [
      "Exception ignored in: 'pandas._libs.index.IndexEngine._call_map_locations'\n",
      "Traceback (most recent call last):\n",
      "  File \"pandas\\_libs\\hashtable_class_helper.pxi\", line 5231, in pandas._libs.hashtable.PyObjectHashTable.map_locations\n",
      "TypeError: unhashable type: 'list'\n"
     ]
    },
    {
     "data": {
      "text/plain": [
       "NaN                                                                                   1906\n",
       "[[3.9 l/100 km (comb)], [4.1 l/100 km (city)], [3.7 l/100 km (country)]]               304\n",
       "[[4.2 l/100 km (comb)], [5 l/100 km (city)], [3.7 l/100 km (country)]]                 276\n",
       "[[5.4 l/100 km (comb)], [6.8 l/100 km (city)], [4.5 l/100 km (country)]]               257\n",
       "[[3.8 l/100 km (comb)], [4.3 l/100 km (city)], [3.5 l/100 km (country)]]               253\n",
       "                                                                                      ... \n",
       "[[4.2 l/100 km (comb)], [5.3 l/100 km (city)], [3.6 l/100 km (country)]]                 1\n",
       "[\\n, 5.1 l/100 km (comb), \\n, 6.4 l/100 km (city), \\n, 4.3 l/100 km (country), \\n]       1\n",
       "[[4.6 l/100 km (comb)], [5.4 l/100 km (city)], [6.7 l/100 km (country)]]                 1\n",
       "[\\n, 6.3 l/100 km (comb), \\n, \\n, \\n]                                                    1\n",
       "[\\n, 7.4 l/100 km (comb), \\n, 9.6 l/100 km (city), \\n, 6 l/100 km (country), \\n]         1\n",
       "Name: Consumption, Length: 882, dtype: int64"
      ]
     },
     "execution_count": 374,
     "metadata": {},
     "output_type": "execute_result"
    }
   ],
   "source": [
    "df[\"Consumption\"].value_counts(dropna=False)"
   ]
  },
  {
   "cell_type": "code",
   "execution_count": 375,
   "metadata": {},
   "outputs": [],
   "source": [
    "def parser1(x):\n",
    "    if type(x) == float:\n",
    "        return np.nan\n",
    "    elif type(x[0]) == list:\n",
    "        if x[0] != []:\n",
    "            return x[0][0]\n",
    "        else:\n",
    "            return np.nan\n",
    "    else:\n",
    "        return x[1]\n",
    "\n",
    "def parser2(x):\n",
    "    if type(x) == float:\n",
    "        return np.nan\n",
    "    elif type(x[0]) == list:\n",
    "        if x[1] != []:\n",
    "            return x[1][0]\n",
    "        else:\n",
    "            return np.nan\n",
    "    elif x[3].endswith(')'):\n",
    "        return x[3]\n",
    "    else:\n",
    "        return np.nan\n",
    "\n",
    "def parser3(x):\n",
    "    if type(x) == float:\n",
    "        return np.nan\n",
    "    elif type(x[0]) == list:\n",
    "        if x[2] != []:\n",
    "            return x[2][0]\n",
    "        else:\n",
    "            return np.nan\n",
    "    elif type(x[0]) != list and x[3].endswith(')'):\n",
    "        return x[5]\n",
    "    else:\n",
    "        return np.nan"
   ]
  },
  {
   "cell_type": "code",
   "execution_count": 376,
   "metadata": {},
   "outputs": [],
   "source": [
    "df['cons_comb'] = df.Consumption.apply(parser1).str.extract('(\\d{1,2}.\\d|\\d{1,3})')[0].astype(\"float\")\n",
    "df['cons_city'] = df.Consumption.apply(parser2).str.extract('(\\d{1,2}.\\d|\\d{1,3})')[0].astype(\"float\")\n",
    "df['cons_country'] = df.Consumption.apply(parser3).str.extract('(\\d{1,2}.\\d|\\d{1,3})')[0].astype(\"float\")"
   ]
  },
  {
   "cell_type": "code",
   "execution_count": 377,
   "metadata": {
    "scrolled": true
   },
   "outputs": [
    {
     "data": {
      "text/plain": [
       "NaN      2033\n",
       "5.400     770\n",
       "3.900     733\n",
       "4.000     713\n",
       "5.100     657\n",
       "Name: cons_comb, dtype: int64"
      ]
     },
     "execution_count": 377,
     "metadata": {},
     "output_type": "execute_result"
    }
   ],
   "source": [
    "df[\"cons_comb\"].value_counts(dropna=False).head()"
   ]
  },
  {
   "cell_type": "code",
   "execution_count": 378,
   "metadata": {},
   "outputs": [],
   "source": [
    "df.drop('Consumption', axis=1,inplace=True)"
   ]
  },
  {
   "cell_type": "markdown",
   "metadata": {},
   "source": [
    "## CO2 Emission"
   ]
  },
  {
   "cell_type": "code",
   "execution_count": 379,
   "metadata": {},
   "outputs": [
    {
     "ename": "TypeError",
     "evalue": "unhashable type: 'list'",
     "output_type": "error",
     "traceback": [
      "\u001b[1;31m---------------------------------------------------------------------------\u001b[0m",
      "\u001b[1;31mTypeError\u001b[0m                                 Traceback (most recent call last)",
      "\u001b[1;32mpandas\\_libs\\hashtable_class_helper.pxi\u001b[0m in \u001b[0;36mpandas._libs.hashtable.PyObjectHashTable.map_locations\u001b[1;34m()\u001b[0m\n",
      "\u001b[1;31mTypeError\u001b[0m: unhashable type: 'list'"
     ]
    },
    {
     "name": "stderr",
     "output_type": "stream",
     "text": [
      "Exception ignored in: 'pandas._libs.index.IndexEngine._call_map_locations'\n",
      "Traceback (most recent call last):\n",
      "  File \"pandas\\_libs\\hashtable_class_helper.pxi\", line 5231, in pandas._libs.hashtable.PyObjectHashTable.map_locations\n",
      "TypeError: unhashable type: 'list'\n"
     ]
    },
    {
     "data": {
      "text/plain": [
       "NaN                            1808\n",
       "[\\n120 g CO2/km (comb)\\n]       740\n",
       "[[], [], []]                    628\n",
       "[\\n99 g CO2/km (comb)\\n]        545\n",
       "[\\n97 g CO2/km (comb)\\n]        537\n",
       "                               ... \n",
       "[\\n14 g CO2/km (comb)\\n]          1\n",
       "[\\n1,060 g CO2/km (comb)\\n]       1\n",
       "[\\n51 g CO2/km (comb)\\n]          1\n",
       "[\\n165 g CO2/km (comb)\\n]         1\n",
       "[\\n193 g CO2/km (comb)\\n]         1\n",
       "Name: CO2 Emission, Length: 124, dtype: int64"
      ]
     },
     "execution_count": 379,
     "metadata": {},
     "output_type": "execute_result"
    }
   ],
   "source": [
    "df[\"CO2 Emission\"].value_counts(dropna=False)"
   ]
  },
  {
   "cell_type": "code",
   "execution_count": 380,
   "metadata": {},
   "outputs": [],
   "source": [
    "df[\"CO2_Emission\"] = [item[0] if type(item) == list else item for item in df[\"CO2 Emission\"]]\n",
    "df[\"CO2_Emission\"] = df[\"CO2_Emission\"].str.strip(\"\\n\").str.rstrip(\" g CO2/km (comb)\").str.replace(\",\", \".\").astype(\"float\")"
   ]
  },
  {
   "cell_type": "code",
   "execution_count": 381,
   "metadata": {},
   "outputs": [
    {
     "data": {
      "text/plain": [
       "NaN        2436\n",
       "120.000     740\n",
       "99.000      545\n",
       "97.000      537\n",
       "104.000     501\n",
       "           ... \n",
       "990.000       1\n",
       "12.324        1\n",
       "1.060         1\n",
       "51.000        1\n",
       "193.000       1\n",
       "Name: CO2_Emission, Length: 121, dtype: int64"
      ]
     },
     "execution_count": 381,
     "metadata": {},
     "output_type": "execute_result"
    }
   ],
   "source": [
    "df[\"CO2_Emission\"].value_counts(dropna=False)"
   ]
  },
  {
   "cell_type": "code",
   "execution_count": 382,
   "metadata": {},
   "outputs": [],
   "source": [
    "df.drop(\"CO2 Emission\", axis=1, inplace=True)"
   ]
  },
  {
   "cell_type": "markdown",
   "metadata": {},
   "source": [
    "## Emission Class"
   ]
  },
  {
   "cell_type": "code",
   "execution_count": 383,
   "metadata": {},
   "outputs": [
    {
     "ename": "TypeError",
     "evalue": "unhashable type: 'list'",
     "output_type": "error",
     "traceback": [
      "\u001b[1;31m---------------------------------------------------------------------------\u001b[0m",
      "\u001b[1;31mTypeError\u001b[0m                                 Traceback (most recent call last)",
      "\u001b[1;32mpandas\\_libs\\hashtable_class_helper.pxi\u001b[0m in \u001b[0;36mpandas._libs.hashtable.PyObjectHashTable.map_locations\u001b[1;34m()\u001b[0m\n",
      "\u001b[1;31mTypeError\u001b[0m: unhashable type: 'list'"
     ]
    },
    {
     "name": "stderr",
     "output_type": "stream",
     "text": [
      "Exception ignored in: 'pandas._libs.index.IndexEngine._call_map_locations'\n",
      "Traceback (most recent call last):\n",
      "  File \"pandas\\_libs\\hashtable_class_helper.pxi\", line 5231, in pandas._libs.hashtable.PyObjectHashTable.map_locations\n",
      "TypeError: unhashable type: 'list'\n"
     ]
    },
    {
     "data": {
      "text/plain": [
       "[\\nEuro 6\\n]          10139\n",
       "NaN                    3021\n",
       "[\\nEuro 6d-TEMP\\n]     1845\n",
       "[[], [], []]            607\n",
       "[\\nEuro 6c\\n]           127\n",
       "[\\nEuro 5\\n]             78\n",
       "[\\nEuro 6d\\n]            62\n",
       "[\\nEuro 4\\n]             40\n",
       "Name: Emission Class, dtype: int64"
      ]
     },
     "execution_count": 383,
     "metadata": {},
     "output_type": "execute_result"
    }
   ],
   "source": [
    "df[\"Emission Class\"].value_counts(dropna=False)"
   ]
  },
  {
   "cell_type": "code",
   "execution_count": 384,
   "metadata": {},
   "outputs": [],
   "source": [
    "df[\"Emission_Class\"] = [item[0] if type(item) == list else item for item in df[\"Emission Class\"]]\n",
    "df[\"Emission_Class\"] = df[\"Emission_Class\"].str.strip(\"\\n\")"
   ]
  },
  {
   "cell_type": "code",
   "execution_count": 385,
   "metadata": {},
   "outputs": [
    {
     "data": {
      "text/plain": [
       "Euro 6          10139\n",
       "NaN              3628\n",
       "Euro 6d-TEMP     1845\n",
       "Euro 6c           127\n",
       "Euro 5             78\n",
       "Euro 6d            62\n",
       "Euro 4             40\n",
       "Name: Emission_Class, dtype: int64"
      ]
     },
     "execution_count": 385,
     "metadata": {},
     "output_type": "execute_result"
    }
   ],
   "source": [
    "df[\"Emission_Class\"].value_counts(dropna=False)"
   ]
  },
  {
   "cell_type": "code",
   "execution_count": 386,
   "metadata": {},
   "outputs": [],
   "source": [
    "df.replace({\"Emission_Class\" : {\"Euro 6d-TEMP\":\"Euro 6\", \"Euro 6c\":\"Euro 6\", \"Euro 6d\":\"Euro 6\"}}, regex = True, inplace = True)"
   ]
  },
  {
   "cell_type": "code",
   "execution_count": 387,
   "metadata": {},
   "outputs": [
    {
     "data": {
      "text/plain": [
       "Euro 6    12173\n",
       "NaN        3628\n",
       "Euro 5       78\n",
       "Euro 4       40\n",
       "Name: Emission_Class, dtype: int64"
      ]
     },
     "execution_count": 387,
     "metadata": {},
     "output_type": "execute_result"
    }
   ],
   "source": [
    "df[\"Emission_Class\"].value_counts(dropna=False)"
   ]
  },
  {
   "cell_type": "code",
   "execution_count": 388,
   "metadata": {},
   "outputs": [],
   "source": [
    "df.drop(\"Emission Class\", axis=1, inplace=True)"
   ]
  },
  {
   "cell_type": "markdown",
   "metadata": {},
   "source": [
    "## Emission Label"
   ]
  },
  {
   "cell_type": "code",
   "execution_count": 389,
   "metadata": {},
   "outputs": [
    {
     "ename": "TypeError",
     "evalue": "unhashable type: 'list'",
     "output_type": "error",
     "traceback": [
      "\u001b[1;31m---------------------------------------------------------------------------\u001b[0m",
      "\u001b[1;31mTypeError\u001b[0m                                 Traceback (most recent call last)",
      "\u001b[1;32mpandas\\_libs\\hashtable_class_helper.pxi\u001b[0m in \u001b[0;36mpandas._libs.hashtable.PyObjectHashTable.map_locations\u001b[1;34m()\u001b[0m\n",
      "\u001b[1;31mTypeError\u001b[0m: unhashable type: 'list'"
     ]
    },
    {
     "name": "stderr",
     "output_type": "stream",
     "text": [
      "Exception ignored in: 'pandas._libs.index.IndexEngine._call_map_locations'\n",
      "Traceback (most recent call last):\n",
      "  File \"pandas\\_libs\\hashtable_class_helper.pxi\", line 5231, in pandas._libs.hashtable.PyObjectHashTable.map_locations\n",
      "TypeError: unhashable type: 'list'\n"
     ]
    },
    {
     "data": {
      "text/plain": [
       "NaN                     11934\n",
       "[\\n4 (Green)\\n]          3553\n",
       "[\\n1 (No sticker)\\n]      381\n",
       "[[], [], []]               40\n",
       "[\\n5 (Blue)\\n]              8\n",
       "[\\n3 (Yellow)\\n]            2\n",
       "[\\n2 (Red)\\n]               1\n",
       "Name: Emission Label, dtype: int64"
      ]
     },
     "execution_count": 389,
     "metadata": {},
     "output_type": "execute_result"
    }
   ],
   "source": [
    "df[\"Emission Label\"].value_counts(dropna=False)"
   ]
  },
  {
   "cell_type": "code",
   "execution_count": 390,
   "metadata": {},
   "outputs": [],
   "source": [
    "df.drop(\"Emission Label\", axis=1, inplace=True)"
   ]
  },
  {
   "cell_type": "markdown",
   "metadata": {},
   "source": [
    "## Gears"
   ]
  },
  {
   "cell_type": "code",
   "execution_count": 391,
   "metadata": {},
   "outputs": [
    {
     "ename": "TypeError",
     "evalue": "unhashable type: 'list'",
     "output_type": "error",
     "traceback": [
      "\u001b[1;31m---------------------------------------------------------------------------\u001b[0m",
      "\u001b[1;31mTypeError\u001b[0m                                 Traceback (most recent call last)",
      "\u001b[1;32mpandas\\_libs\\hashtable_class_helper.pxi\u001b[0m in \u001b[0;36mpandas._libs.hashtable.PyObjectHashTable.map_locations\u001b[1;34m()\u001b[0m\n",
      "\u001b[1;31mTypeError\u001b[0m: unhashable type: 'list'"
     ]
    },
    {
     "name": "stderr",
     "output_type": "stream",
     "text": [
      "Exception ignored in: 'pandas._libs.index.IndexEngine._call_map_locations'\n",
      "Traceback (most recent call last):\n",
      "  File \"pandas\\_libs\\hashtable_class_helper.pxi\", line 5231, in pandas._libs.hashtable.PyObjectHashTable.map_locations\n",
      "TypeError: unhashable type: 'list'\n"
     ]
    },
    {
     "data": {
      "text/plain": [
       "[\\n6\\n]     5822\n",
       "NaN         4712\n",
       "[\\n5\\n]     3239\n",
       "[\\n7\\n]     1908\n",
       "[\\n8\\n]      224\n",
       "[\\n9\\n]        6\n",
       "[\\n1\\n]        2\n",
       "[\\n3\\n]        2\n",
       "[\\n4\\n]        2\n",
       "[\\n2\\n]        1\n",
       "[\\n50\\n]       1\n",
       "Name: Gears, dtype: int64"
      ]
     },
     "execution_count": 391,
     "metadata": {},
     "output_type": "execute_result"
    }
   ],
   "source": [
    "df[\"Gears\"].value_counts(dropna=False)"
   ]
  },
  {
   "cell_type": "code",
   "execution_count": 392,
   "metadata": {},
   "outputs": [],
   "source": [
    "df[\"Gears\"] = df.Gears.str[0].str.strip('\\n')"
   ]
  },
  {
   "cell_type": "code",
   "execution_count": 393,
   "metadata": {},
   "outputs": [
    {
     "data": {
      "text/plain": [
       "6      5822\n",
       "NaN    4712\n",
       "5      3239\n",
       "7      1908\n",
       "8       224\n",
       "9         6\n",
       "1         2\n",
       "3         2\n",
       "4         2\n",
       "2         1\n",
       "50        1\n",
       "Name: Gears, dtype: int64"
      ]
     },
     "execution_count": 393,
     "metadata": {},
     "output_type": "execute_result"
    }
   ],
   "source": [
    "df[\"Gears\"].value_counts(dropna=False)"
   ]
  },
  {
   "cell_type": "markdown",
   "metadata": {},
   "source": [
    "## Country version"
   ]
  },
  {
   "cell_type": "code",
   "execution_count": 394,
   "metadata": {},
   "outputs": [
    {
     "ename": "TypeError",
     "evalue": "unhashable type: 'list'",
     "output_type": "error",
     "traceback": [
      "\u001b[1;31m---------------------------------------------------------------------------\u001b[0m",
      "\u001b[1;31mTypeError\u001b[0m                                 Traceback (most recent call last)",
      "\u001b[1;32mpandas\\_libs\\hashtable_class_helper.pxi\u001b[0m in \u001b[0;36mpandas._libs.hashtable.PyObjectHashTable.map_locations\u001b[1;34m()\u001b[0m\n",
      "\u001b[1;31mTypeError\u001b[0m: unhashable type: 'list'"
     ]
    },
    {
     "name": "stderr",
     "output_type": "stream",
     "text": [
      "Exception ignored in: 'pandas._libs.index.IndexEngine._call_map_locations'\n",
      "Traceback (most recent call last):\n",
      "  File \"pandas\\_libs\\hashtable_class_helper.pxi\", line 5231, in pandas._libs.hashtable.PyObjectHashTable.map_locations\n",
      "TypeError: unhashable type: 'list'\n"
     ]
    },
    {
     "data": {
      "text/plain": [
       "NaN                     8333\n",
       "[\\nGermany\\n]           4502\n",
       "[\\nItaly\\n]             1038\n",
       "[\\nEuropean Union\\n]     507\n",
       "[\\nNetherlands\\n]        464\n",
       "[\\nSpain\\n]              325\n",
       "[\\nBelgium\\n]            314\n",
       "[\\nAustria\\n]            208\n",
       "[\\nCzech Republic\\n]      52\n",
       "[\\nPoland\\n]              49\n",
       "[\\nFrance\\n]              38\n",
       "[\\nDenmark\\n]             33\n",
       "[\\nHungary\\n]             28\n",
       "[\\nJapan\\n]                8\n",
       "[\\nSlovakia\\n]             4\n",
       "[\\nCroatia\\n]              4\n",
       "[\\nSweden\\n]               3\n",
       "[\\nRomania\\n]              2\n",
       "[\\nBulgaria\\n]             2\n",
       "[\\nLuxembourg\\n]           1\n",
       "[\\nSwitzerland\\n]          1\n",
       "[\\nSlovenia\\n]             1\n",
       "[\\nEgypt\\n]                1\n",
       "[\\nSerbia\\n]               1\n",
       "Name: Country version, dtype: int64"
      ]
     },
     "execution_count": 394,
     "metadata": {},
     "output_type": "execute_result"
    }
   ],
   "source": [
    "df[\"Country version\"].value_counts(dropna=False)"
   ]
  },
  {
   "cell_type": "code",
   "execution_count": 395,
   "metadata": {},
   "outputs": [],
   "source": [
    "df.drop(\"Country version\", axis=1, inplace=True)"
   ]
  },
  {
   "cell_type": "markdown",
   "metadata": {},
   "source": [
    "## Comfort_Convenience"
   ]
  },
  {
   "cell_type": "code",
   "execution_count": 396,
   "metadata": {},
   "outputs": [
    {
     "ename": "TypeError",
     "evalue": "unhashable type: 'list'",
     "output_type": "error",
     "traceback": [
      "\u001b[1;31m---------------------------------------------------------------------------\u001b[0m",
      "\u001b[1;31mTypeError\u001b[0m                                 Traceback (most recent call last)",
      "\u001b[1;32mpandas\\_libs\\hashtable_class_helper.pxi\u001b[0m in \u001b[0;36mpandas._libs.hashtable.PyObjectHashTable.map_locations\u001b[1;34m()\u001b[0m\n",
      "\u001b[1;31mTypeError\u001b[0m: unhashable type: 'list'"
     ]
    },
    {
     "name": "stderr",
     "output_type": "stream",
     "text": [
      "Exception ignored in: 'pandas._libs.index.IndexEngine._call_map_locations'\n",
      "Traceback (most recent call last):\n",
      "  File \"pandas\\_libs\\hashtable_class_helper.pxi\", line 5231, in pandas._libs.hashtable.PyObjectHashTable.map_locations\n",
      "TypeError: unhashable type: 'list'\n"
     ]
    },
    {
     "data": {
      "text/plain": [
       "NaN                                                                                                                                                                                                                                                                                                                                                                     920\n",
       "[Air conditioning, Electrical side mirrors, Hill Holder, Power windows]                                                                                                                                                                                                                                                                                                 216\n",
       "[Air conditioning, Electrical side mirrors, Power windows]                                                                                                                                                                                                                                                                                                              134\n",
       "[Air conditioning, Power windows]                                                                                                                                                                                                                                                                                                                                       130\n",
       "[Air conditioning, Armrest, Automatic climate control, Cruise control, Electrical side mirrors, Leather steering wheel, Light sensor, Lumbar support, Multi-function steering wheel, Navigation system, Park Distance Control, Parking assist system sensors front, Parking assist system sensors rear, Power windows, Rain sensor, Seat heating, Start-stop system]    105\n",
       "Name: Comfort_Convenience, dtype: int64"
      ]
     },
     "execution_count": 396,
     "metadata": {},
     "output_type": "execute_result"
    }
   ],
   "source": [
    "df[\"Comfort_Convenience\"].value_counts(dropna=False).head()"
   ]
  },
  {
   "cell_type": "code",
   "execution_count": 397,
   "metadata": {},
   "outputs": [],
   "source": [
    "df[\"Comfort_Convenience\"] = [\",\".join(item) if type(item) == list else item for item in df[\"Comfort_Convenience\"]]"
   ]
  },
  {
   "cell_type": "code",
   "execution_count": 398,
   "metadata": {},
   "outputs": [
    {
     "data": {
      "text/plain": [
       "NaN                                                                                                                                                                                                                                                                                                                                                   920\n",
       "Air conditioning,Electrical side mirrors,Hill Holder,Power windows                                                                                                                                                                                                                                                                                    216\n",
       "Air conditioning,Electrical side mirrors,Power windows                                                                                                                                                                                                                                                                                                134\n",
       "Air conditioning,Power windows                                                                                                                                                                                                                                                                                                                        130\n",
       "Air conditioning,Armrest,Automatic climate control,Cruise control,Electrical side mirrors,Leather steering wheel,Light sensor,Lumbar support,Multi-function steering wheel,Navigation system,Park Distance Control,Parking assist system sensors front,Parking assist system sensors rear,Power windows,Rain sensor,Seat heating,Start-stop system    105\n",
       "Name: Comfort_Convenience, dtype: int64"
      ]
     },
     "execution_count": 398,
     "metadata": {},
     "output_type": "execute_result"
    }
   ],
   "source": [
    "df[\"Comfort_Convenience\"].value_counts(dropna=False).head()"
   ]
  },
  {
   "cell_type": "markdown",
   "metadata": {},
   "source": [
    "## Entertainment_Media"
   ]
  },
  {
   "cell_type": "code",
   "execution_count": 399,
   "metadata": {},
   "outputs": [
    {
     "ename": "TypeError",
     "evalue": "unhashable type: 'list'",
     "output_type": "error",
     "traceback": [
      "\u001b[1;31m---------------------------------------------------------------------------\u001b[0m",
      "\u001b[1;31mTypeError\u001b[0m                                 Traceback (most recent call last)",
      "\u001b[1;32mpandas\\_libs\\hashtable_class_helper.pxi\u001b[0m in \u001b[0;36mpandas._libs.hashtable.PyObjectHashTable.map_locations\u001b[1;34m()\u001b[0m\n",
      "\u001b[1;31mTypeError\u001b[0m: unhashable type: 'list'"
     ]
    },
    {
     "name": "stderr",
     "output_type": "stream",
     "text": [
      "Exception ignored in: 'pandas._libs.index.IndexEngine._call_map_locations'\n",
      "Traceback (most recent call last):\n",
      "  File \"pandas\\_libs\\hashtable_class_helper.pxi\", line 5231, in pandas._libs.hashtable.PyObjectHashTable.map_locations\n",
      "TypeError: unhashable type: 'list'\n"
     ]
    },
    {
     "data": {
      "text/plain": [
       "NaN                                                                                 1374\n",
       "[Bluetooth, Hands-free equipment, On-board computer, Radio, USB]                    1282\n",
       "[Bluetooth, Hands-free equipment, MP3, On-board computer, Radio, USB]                982\n",
       "[Bluetooth, CD player, Hands-free equipment, MP3, On-board computer, Radio, USB]     783\n",
       "[On-board computer, Radio]                                                           487\n",
       "Name: Entertainment_Media, dtype: int64"
      ]
     },
     "execution_count": 399,
     "metadata": {},
     "output_type": "execute_result"
    }
   ],
   "source": [
    "df[\"Entertainment_Media\"].value_counts(dropna=False).head()"
   ]
  },
  {
   "cell_type": "code",
   "execution_count": 400,
   "metadata": {},
   "outputs": [],
   "source": [
    "df[\"Entertainment_Media\"] = [\",\".join(item) if type(item) == list else item for item in df[\"Entertainment_Media\"]]"
   ]
  },
  {
   "cell_type": "code",
   "execution_count": 401,
   "metadata": {},
   "outputs": [
    {
     "data": {
      "text/plain": [
       "NaN                                                                         1374\n",
       "Bluetooth,Hands-free equipment,On-board computer,Radio,USB                  1282\n",
       "Bluetooth,Hands-free equipment,MP3,On-board computer,Radio,USB               982\n",
       "Bluetooth,CD player,Hands-free equipment,MP3,On-board computer,Radio,USB     783\n",
       "On-board computer,Radio                                                      487\n",
       "Name: Entertainment_Media, dtype: int64"
      ]
     },
     "execution_count": 401,
     "metadata": {},
     "output_type": "execute_result"
    }
   ],
   "source": [
    "df[\"Entertainment_Media\"].value_counts(dropna=False).head()"
   ]
  },
  {
   "cell_type": "markdown",
   "metadata": {},
   "source": [
    "## Extras"
   ]
  },
  {
   "cell_type": "code",
   "execution_count": 402,
   "metadata": {},
   "outputs": [
    {
     "ename": "TypeError",
     "evalue": "unhashable type: 'list'",
     "output_type": "error",
     "traceback": [
      "\u001b[1;31m---------------------------------------------------------------------------\u001b[0m",
      "\u001b[1;31mTypeError\u001b[0m                                 Traceback (most recent call last)",
      "\u001b[1;32mpandas\\_libs\\hashtable_class_helper.pxi\u001b[0m in \u001b[0;36mpandas._libs.hashtable.PyObjectHashTable.map_locations\u001b[1;34m()\u001b[0m\n",
      "\u001b[1;31mTypeError\u001b[0m: unhashable type: 'list'"
     ]
    },
    {
     "name": "stderr",
     "output_type": "stream",
     "text": [
      "Exception ignored in: 'pandas._libs.index.IndexEngine._call_map_locations'\n",
      "Traceback (most recent call last):\n",
      "  File \"pandas\\_libs\\hashtable_class_helper.pxi\", line 5231, in pandas._libs.hashtable.PyObjectHashTable.map_locations\n",
      "TypeError: unhashable type: 'list'\n"
     ]
    },
    {
     "data": {
      "text/plain": [
       "[Alloy wheels]                                 3245\n",
       "NaN                                            2962\n",
       "[Alloy wheels, Touch screen]                    697\n",
       "[Alloy wheels, Voice Control]                   577\n",
       "[Alloy wheels, Touch screen, Voice Control]     541\n",
       "Name: Extras, dtype: int64"
      ]
     },
     "execution_count": 402,
     "metadata": {},
     "output_type": "execute_result"
    }
   ],
   "source": [
    "df[\"Extras\"].value_counts(dropna=False).head()"
   ]
  },
  {
   "cell_type": "code",
   "execution_count": 403,
   "metadata": {},
   "outputs": [],
   "source": [
    "df[\"Extras\"] = [\",\".join(item) if type(item) == list else item for item in df[\"Extras\"]]"
   ]
  },
  {
   "cell_type": "code",
   "execution_count": 404,
   "metadata": {},
   "outputs": [
    {
     "data": {
      "text/plain": [
       "Alloy wheels                               3245\n",
       "NaN                                        2962\n",
       "Alloy wheels,Touch screen                   697\n",
       "Alloy wheels,Voice Control                  577\n",
       "Alloy wheels,Touch screen,Voice Control     541\n",
       "Name: Extras, dtype: int64"
      ]
     },
     "execution_count": 404,
     "metadata": {},
     "output_type": "execute_result"
    }
   ],
   "source": [
    "df[\"Extras\"].value_counts(dropna=False).head()"
   ]
  },
  {
   "cell_type": "markdown",
   "metadata": {},
   "source": [
    "## Safety_Security"
   ]
  },
  {
   "cell_type": "code",
   "execution_count": 405,
   "metadata": {},
   "outputs": [
    {
     "ename": "TypeError",
     "evalue": "unhashable type: 'list'",
     "output_type": "error",
     "traceback": [
      "\u001b[1;31m---------------------------------------------------------------------------\u001b[0m",
      "\u001b[1;31mTypeError\u001b[0m                                 Traceback (most recent call last)",
      "\u001b[1;32mpandas\\_libs\\hashtable_class_helper.pxi\u001b[0m in \u001b[0;36mpandas._libs.hashtable.PyObjectHashTable.map_locations\u001b[1;34m()\u001b[0m\n",
      "\u001b[1;31mTypeError\u001b[0m: unhashable type: 'list'"
     ]
    },
    {
     "name": "stderr",
     "output_type": "stream",
     "text": [
      "Exception ignored in: 'pandas._libs.index.IndexEngine._call_map_locations'\n",
      "Traceback (most recent call last):\n",
      "  File \"pandas\\_libs\\hashtable_class_helper.pxi\", line 5231, in pandas._libs.hashtable.PyObjectHashTable.map_locations\n",
      "TypeError: unhashable type: 'list'\n"
     ]
    },
    {
     "data": {
      "text/plain": [
       "NaN                                                                                                                                                                                                                                                                       982\n",
       "[ABS, Central door lock, Daytime running lights, Driver-side airbag, Electronic stability control, Fog lights, Immobilizer, Isofix, Passenger-side airbag, Power steering, Side airbag, Tire pressure monitoring system, Traction control]                                538\n",
       "[ABS, Central door lock, Daytime running lights, Driver-side airbag, Electronic stability control, Immobilizer, Isofix, Passenger-side airbag, Power steering, Side airbag, Tire pressure monitoring system, Traction control]                                            480\n",
       "[ABS, Central door lock, Daytime running lights, Driver-side airbag, Electronic stability control, Immobilizer, Isofix, Passenger-side airbag, Power steering, Side airbag, Tire pressure monitoring system, Traction control, Xenon headlights]                          275\n",
       "[ABS, Central door lock, Daytime running lights, Driver-side airbag, Electronic stability control, Fog lights, Immobilizer, Isofix, LED Daytime Running Lights, Passenger-side airbag, Power steering, Side airbag, Tire pressure monitoring system, Traction control]    272\n",
       "Name: Safety_Security, dtype: int64"
      ]
     },
     "execution_count": 405,
     "metadata": {},
     "output_type": "execute_result"
    }
   ],
   "source": [
    "df[\"Safety_Security\"].value_counts(dropna=False).head()"
   ]
  },
  {
   "cell_type": "code",
   "execution_count": 406,
   "metadata": {},
   "outputs": [],
   "source": [
    "df[\"Safety_Security\"] = [\",\".join(item) if type(item) == list else item for item in df[\"Safety_Security\"]]"
   ]
  },
  {
   "cell_type": "code",
   "execution_count": 407,
   "metadata": {},
   "outputs": [
    {
     "data": {
      "text/plain": [
       "NaN                                                                                                                                                                                                                                                        982\n",
       "ABS,Central door lock,Daytime running lights,Driver-side airbag,Electronic stability control,Fog lights,Immobilizer,Isofix,Passenger-side airbag,Power steering,Side airbag,Tire pressure monitoring system,Traction control                               538\n",
       "ABS,Central door lock,Daytime running lights,Driver-side airbag,Electronic stability control,Immobilizer,Isofix,Passenger-side airbag,Power steering,Side airbag,Tire pressure monitoring system,Traction control                                          480\n",
       "ABS,Central door lock,Daytime running lights,Driver-side airbag,Electronic stability control,Immobilizer,Isofix,Passenger-side airbag,Power steering,Side airbag,Tire pressure monitoring system,Traction control,Xenon headlights                         275\n",
       "ABS,Central door lock,Daytime running lights,Driver-side airbag,Electronic stability control,Fog lights,Immobilizer,Isofix,LED Daytime Running Lights,Passenger-side airbag,Power steering,Side airbag,Tire pressure monitoring system,Traction control    272\n",
       "Name: Safety_Security, dtype: int64"
      ]
     },
     "execution_count": 407,
     "metadata": {},
     "output_type": "execute_result"
    }
   ],
   "source": [
    "df[\"Safety_Security\"].value_counts(dropna=False).head()"
   ]
  },
  {
   "cell_type": "markdown",
   "metadata": {},
   "source": [
    "## The End of Part-1"
   ]
  },
  {
   "cell_type": "code",
   "execution_count": 408,
   "metadata": {},
   "outputs": [
    {
     "data": {
      "text/plain": [
       "(15919, 34)"
      ]
     },
     "execution_count": 408,
     "metadata": {},
     "output_type": "execute_result"
    }
   ],
   "source": [
    "df.shape"
   ]
  },
  {
   "cell_type": "code",
   "execution_count": 409,
   "metadata": {},
   "outputs": [
    {
     "data": {
      "text/html": [
       "<div>\n",
       "<style scoped>\n",
       "    .dataframe tbody tr th:only-of-type {\n",
       "        vertical-align: middle;\n",
       "    }\n",
       "\n",
       "    .dataframe tbody tr th {\n",
       "        vertical-align: top;\n",
       "    }\n",
       "\n",
       "    .dataframe thead th {\n",
       "        text-align: right;\n",
       "    }\n",
       "</style>\n",
       "<table border=\"1\" class=\"dataframe\">\n",
       "  <thead>\n",
       "    <tr style=\"text-align: right;\">\n",
       "      <th></th>\n",
       "      <th>0</th>\n",
       "      <th>1</th>\n",
       "      <th>2</th>\n",
       "      <th>3</th>\n",
       "      <th>4</th>\n",
       "    </tr>\n",
       "  </thead>\n",
       "  <tbody>\n",
       "    <tr>\n",
       "      <th>make_model</th>\n",
       "      <td>Audi A1</td>\n",
       "      <td>Audi A1</td>\n",
       "      <td>Audi A1</td>\n",
       "      <td>Audi A1</td>\n",
       "      <td>Audi A1</td>\n",
       "    </tr>\n",
       "    <tr>\n",
       "      <th>body_type</th>\n",
       "      <td>Sedans</td>\n",
       "      <td>Sedans</td>\n",
       "      <td>Sedans</td>\n",
       "      <td>Sedans</td>\n",
       "      <td>Sedans</td>\n",
       "    </tr>\n",
       "    <tr>\n",
       "      <th>price</th>\n",
       "      <td>15770</td>\n",
       "      <td>14500</td>\n",
       "      <td>14640</td>\n",
       "      <td>14500</td>\n",
       "      <td>16790</td>\n",
       "    </tr>\n",
       "    <tr>\n",
       "      <th>vat</th>\n",
       "      <td>VAT deductible</td>\n",
       "      <td>Price negotiable</td>\n",
       "      <td>VAT deductible</td>\n",
       "      <td>None</td>\n",
       "      <td>None</td>\n",
       "    </tr>\n",
       "    <tr>\n",
       "      <th>km</th>\n",
       "      <td>56013.000</td>\n",
       "      <td>80000.000</td>\n",
       "      <td>83450.000</td>\n",
       "      <td>73000.000</td>\n",
       "      <td>16200.000</td>\n",
       "    </tr>\n",
       "    <tr>\n",
       "      <th>Type</th>\n",
       "      <td>Used</td>\n",
       "      <td>Used</td>\n",
       "      <td>Used</td>\n",
       "      <td>Used</td>\n",
       "      <td>Used</td>\n",
       "    </tr>\n",
       "    <tr>\n",
       "      <th>Warranty</th>\n",
       "      <td>NaN</td>\n",
       "      <td>NaN</td>\n",
       "      <td>NaN</td>\n",
       "      <td>NaN</td>\n",
       "      <td>NaN</td>\n",
       "    </tr>\n",
       "    <tr>\n",
       "      <th>null</th>\n",
       "      <td>[]</td>\n",
       "      <td>[]</td>\n",
       "      <td>[]</td>\n",
       "      <td>[]</td>\n",
       "      <td>[]</td>\n",
       "    </tr>\n",
       "    <tr>\n",
       "      <th>Cylinders</th>\n",
       "      <td>3.000</td>\n",
       "      <td>4.000</td>\n",
       "      <td>NaN</td>\n",
       "      <td>3.000</td>\n",
       "      <td>3.000</td>\n",
       "    </tr>\n",
       "    <tr>\n",
       "      <th>Fuel</th>\n",
       "      <td>Diesel</td>\n",
       "      <td>Benzine</td>\n",
       "      <td>Diesel</td>\n",
       "      <td>Diesel</td>\n",
       "      <td>Diesel</td>\n",
       "    </tr>\n",
       "    <tr>\n",
       "      <th>Gears</th>\n",
       "      <td>NaN</td>\n",
       "      <td>7</td>\n",
       "      <td>NaN</td>\n",
       "      <td>6</td>\n",
       "      <td>NaN</td>\n",
       "    </tr>\n",
       "    <tr>\n",
       "      <th>Comfort_Convenience</th>\n",
       "      <td>Air conditioning,Armrest,Automatic climate con...</td>\n",
       "      <td>Air conditioning,Automatic climate control,Hil...</td>\n",
       "      <td>Air conditioning,Cruise control,Electrical sid...</td>\n",
       "      <td>Air suspension,Armrest,Auxiliary heating,Elect...</td>\n",
       "      <td>Air conditioning,Armrest,Automatic climate con...</td>\n",
       "    </tr>\n",
       "    <tr>\n",
       "      <th>Entertainment_Media</th>\n",
       "      <td>Bluetooth,Hands-free equipment,On-board comput...</td>\n",
       "      <td>Bluetooth,Hands-free equipment,On-board comput...</td>\n",
       "      <td>MP3,On-board computer</td>\n",
       "      <td>Bluetooth,CD player,Hands-free equipment,MP3,O...</td>\n",
       "      <td>Bluetooth,CD player,Hands-free equipment,MP3,O...</td>\n",
       "    </tr>\n",
       "    <tr>\n",
       "      <th>Extras</th>\n",
       "      <td>Alloy wheels,Catalytic Converter,Voice Control</td>\n",
       "      <td>Alloy wheels,Sport seats,Sport suspension,Voic...</td>\n",
       "      <td>Alloy wheels,Voice Control</td>\n",
       "      <td>Alloy wheels,Sport seats,Voice Control</td>\n",
       "      <td>Alloy wheels,Sport package,Sport suspension,Vo...</td>\n",
       "    </tr>\n",
       "    <tr>\n",
       "      <th>Safety_Security</th>\n",
       "      <td>ABS,Central door lock,Daytime running lights,D...</td>\n",
       "      <td>ABS,Central door lock,Central door lock with r...</td>\n",
       "      <td>ABS,Central door lock,Daytime running lights,D...</td>\n",
       "      <td>ABS,Alarm system,Central door lock with remote...</td>\n",
       "      <td>ABS,Central door lock,Driver-side airbag,Elect...</td>\n",
       "    </tr>\n",
       "    <tr>\n",
       "      <th>age</th>\n",
       "      <td>3.000</td>\n",
       "      <td>2.000</td>\n",
       "      <td>3.000</td>\n",
       "      <td>3.000</td>\n",
       "      <td>3.000</td>\n",
       "    </tr>\n",
       "    <tr>\n",
       "      <th>Previous_Owners</th>\n",
       "      <td>2.000</td>\n",
       "      <td>NaN</td>\n",
       "      <td>1.000</td>\n",
       "      <td>1.000</td>\n",
       "      <td>1.000</td>\n",
       "    </tr>\n",
       "    <tr>\n",
       "      <th>hp_kW</th>\n",
       "      <td>66.000</td>\n",
       "      <td>141.000</td>\n",
       "      <td>85.000</td>\n",
       "      <td>66.000</td>\n",
       "      <td>66.000</td>\n",
       "    </tr>\n",
       "    <tr>\n",
       "      <th>Inspection_new</th>\n",
       "      <td>Yes</td>\n",
       "      <td>NaN</td>\n",
       "      <td>NaN</td>\n",
       "      <td>NaN</td>\n",
       "      <td>Yes</td>\n",
       "    </tr>\n",
       "    <tr>\n",
       "      <th>Body_Color</th>\n",
       "      <td>Black</td>\n",
       "      <td>Red</td>\n",
       "      <td>Black</td>\n",
       "      <td>Brown</td>\n",
       "      <td>Black</td>\n",
       "    </tr>\n",
       "    <tr>\n",
       "      <th>Paint_Type</th>\n",
       "      <td>Metallic</td>\n",
       "      <td>NaN</td>\n",
       "      <td>Metallic</td>\n",
       "      <td>Metallic</td>\n",
       "      <td>Metallic</td>\n",
       "    </tr>\n",
       "    <tr>\n",
       "      <th>Upholstery_type</th>\n",
       "      <td>Cloth</td>\n",
       "      <td>Cloth</td>\n",
       "      <td>Cloth</td>\n",
       "      <td>NaN</td>\n",
       "      <td>Cloth</td>\n",
       "    </tr>\n",
       "    <tr>\n",
       "      <th>Upholstery_color</th>\n",
       "      <td>Black</td>\n",
       "      <td>Grey</td>\n",
       "      <td>Black</td>\n",
       "      <td>NaN</td>\n",
       "      <td>Black</td>\n",
       "    </tr>\n",
       "    <tr>\n",
       "      <th>Nr_of_Doors</th>\n",
       "      <td>5.000</td>\n",
       "      <td>3.000</td>\n",
       "      <td>4.000</td>\n",
       "      <td>3.000</td>\n",
       "      <td>5.000</td>\n",
       "    </tr>\n",
       "    <tr>\n",
       "      <th>Nr_of_Seats</th>\n",
       "      <td>5.000</td>\n",
       "      <td>4.000</td>\n",
       "      <td>4.000</td>\n",
       "      <td>4.000</td>\n",
       "      <td>5.000</td>\n",
       "    </tr>\n",
       "    <tr>\n",
       "      <th>Gearing_Type</th>\n",
       "      <td>Automatic</td>\n",
       "      <td>Automatic</td>\n",
       "      <td>Automatic</td>\n",
       "      <td>Automatic</td>\n",
       "      <td>Automatic</td>\n",
       "    </tr>\n",
       "    <tr>\n",
       "      <th>Displacement_cc</th>\n",
       "      <td>1422.000</td>\n",
       "      <td>1798.000</td>\n",
       "      <td>1598.000</td>\n",
       "      <td>1422.000</td>\n",
       "      <td>1422.000</td>\n",
       "    </tr>\n",
       "    <tr>\n",
       "      <th>Weight_kg</th>\n",
       "      <td>1220.000</td>\n",
       "      <td>1255.000</td>\n",
       "      <td>NaN</td>\n",
       "      <td>1195.000</td>\n",
       "      <td>NaN</td>\n",
       "    </tr>\n",
       "    <tr>\n",
       "      <th>Drive_chain</th>\n",
       "      <td>front</td>\n",
       "      <td>front</td>\n",
       "      <td>front</td>\n",
       "      <td>NaN</td>\n",
       "      <td>front</td>\n",
       "    </tr>\n",
       "    <tr>\n",
       "      <th>cons_comb</th>\n",
       "      <td>3.800</td>\n",
       "      <td>5.600</td>\n",
       "      <td>3.800</td>\n",
       "      <td>3.800</td>\n",
       "      <td>4.100</td>\n",
       "    </tr>\n",
       "    <tr>\n",
       "      <th>cons_city</th>\n",
       "      <td>4.300</td>\n",
       "      <td>7.100</td>\n",
       "      <td>4.400</td>\n",
       "      <td>4.300</td>\n",
       "      <td>4.600</td>\n",
       "    </tr>\n",
       "    <tr>\n",
       "      <th>cons_country</th>\n",
       "      <td>3.500</td>\n",
       "      <td>4.700</td>\n",
       "      <td>3.400</td>\n",
       "      <td>3.500</td>\n",
       "      <td>3.800</td>\n",
       "    </tr>\n",
       "    <tr>\n",
       "      <th>CO2_Emission</th>\n",
       "      <td>99.000</td>\n",
       "      <td>129.000</td>\n",
       "      <td>99.000</td>\n",
       "      <td>99.000</td>\n",
       "      <td>109.000</td>\n",
       "    </tr>\n",
       "    <tr>\n",
       "      <th>Emission_Class</th>\n",
       "      <td>Euro 6</td>\n",
       "      <td>Euro 6</td>\n",
       "      <td>Euro 6</td>\n",
       "      <td>Euro 6</td>\n",
       "      <td>Euro 6</td>\n",
       "    </tr>\n",
       "  </tbody>\n",
       "</table>\n",
       "</div>"
      ],
      "text/plain": [
       "                                                                     0  \\\n",
       "make_model                                                     Audi A1   \n",
       "body_type                                                       Sedans   \n",
       "price                                                            15770   \n",
       "vat                                                     VAT deductible   \n",
       "km                                                           56013.000   \n",
       "Type                                                              Used   \n",
       "Warranty                                                           NaN   \n",
       "null                                                                []   \n",
       "Cylinders                                                        3.000   \n",
       "Fuel                                                            Diesel   \n",
       "Gears                                                              NaN   \n",
       "Comfort_Convenience  Air conditioning,Armrest,Automatic climate con...   \n",
       "Entertainment_Media  Bluetooth,Hands-free equipment,On-board comput...   \n",
       "Extras                  Alloy wheels,Catalytic Converter,Voice Control   \n",
       "Safety_Security      ABS,Central door lock,Daytime running lights,D...   \n",
       "age                                                              3.000   \n",
       "Previous_Owners                                                  2.000   \n",
       "hp_kW                                                           66.000   \n",
       "Inspection_new                                                     Yes   \n",
       "Body_Color                                                       Black   \n",
       "Paint_Type                                                    Metallic   \n",
       "Upholstery_type                                                  Cloth   \n",
       "Upholstery_color                                                 Black   \n",
       "Nr_of_Doors                                                      5.000   \n",
       "Nr_of_Seats                                                      5.000   \n",
       "Gearing_Type                                                 Automatic   \n",
       "Displacement_cc                                               1422.000   \n",
       "Weight_kg                                                     1220.000   \n",
       "Drive_chain                                                      front   \n",
       "cons_comb                                                        3.800   \n",
       "cons_city                                                        4.300   \n",
       "cons_country                                                     3.500   \n",
       "CO2_Emission                                                    99.000   \n",
       "Emission_Class                                                  Euro 6   \n",
       "\n",
       "                                                                     1  \\\n",
       "make_model                                                     Audi A1   \n",
       "body_type                                                       Sedans   \n",
       "price                                                            14500   \n",
       "vat                                                   Price negotiable   \n",
       "km                                                           80000.000   \n",
       "Type                                                              Used   \n",
       "Warranty                                                           NaN   \n",
       "null                                                                []   \n",
       "Cylinders                                                        4.000   \n",
       "Fuel                                                           Benzine   \n",
       "Gears                                                                7   \n",
       "Comfort_Convenience  Air conditioning,Automatic climate control,Hil...   \n",
       "Entertainment_Media  Bluetooth,Hands-free equipment,On-board comput...   \n",
       "Extras               Alloy wheels,Sport seats,Sport suspension,Voic...   \n",
       "Safety_Security      ABS,Central door lock,Central door lock with r...   \n",
       "age                                                              2.000   \n",
       "Previous_Owners                                                    NaN   \n",
       "hp_kW                                                          141.000   \n",
       "Inspection_new                                                     NaN   \n",
       "Body_Color                                                         Red   \n",
       "Paint_Type                                                         NaN   \n",
       "Upholstery_type                                                  Cloth   \n",
       "Upholstery_color                                                  Grey   \n",
       "Nr_of_Doors                                                      3.000   \n",
       "Nr_of_Seats                                                      4.000   \n",
       "Gearing_Type                                                 Automatic   \n",
       "Displacement_cc                                               1798.000   \n",
       "Weight_kg                                                     1255.000   \n",
       "Drive_chain                                                      front   \n",
       "cons_comb                                                        5.600   \n",
       "cons_city                                                        7.100   \n",
       "cons_country                                                     4.700   \n",
       "CO2_Emission                                                   129.000   \n",
       "Emission_Class                                                  Euro 6   \n",
       "\n",
       "                                                                     2  \\\n",
       "make_model                                                     Audi A1   \n",
       "body_type                                                       Sedans   \n",
       "price                                                            14640   \n",
       "vat                                                     VAT deductible   \n",
       "km                                                           83450.000   \n",
       "Type                                                              Used   \n",
       "Warranty                                                           NaN   \n",
       "null                                                                []   \n",
       "Cylinders                                                          NaN   \n",
       "Fuel                                                            Diesel   \n",
       "Gears                                                              NaN   \n",
       "Comfort_Convenience  Air conditioning,Cruise control,Electrical sid...   \n",
       "Entertainment_Media                              MP3,On-board computer   \n",
       "Extras                                      Alloy wheels,Voice Control   \n",
       "Safety_Security      ABS,Central door lock,Daytime running lights,D...   \n",
       "age                                                              3.000   \n",
       "Previous_Owners                                                  1.000   \n",
       "hp_kW                                                           85.000   \n",
       "Inspection_new                                                     NaN   \n",
       "Body_Color                                                       Black   \n",
       "Paint_Type                                                    Metallic   \n",
       "Upholstery_type                                                  Cloth   \n",
       "Upholstery_color                                                 Black   \n",
       "Nr_of_Doors                                                      4.000   \n",
       "Nr_of_Seats                                                      4.000   \n",
       "Gearing_Type                                                 Automatic   \n",
       "Displacement_cc                                               1598.000   \n",
       "Weight_kg                                                          NaN   \n",
       "Drive_chain                                                      front   \n",
       "cons_comb                                                        3.800   \n",
       "cons_city                                                        4.400   \n",
       "cons_country                                                     3.400   \n",
       "CO2_Emission                                                    99.000   \n",
       "Emission_Class                                                  Euro 6   \n",
       "\n",
       "                                                                     3  \\\n",
       "make_model                                                     Audi A1   \n",
       "body_type                                                       Sedans   \n",
       "price                                                            14500   \n",
       "vat                                                               None   \n",
       "km                                                           73000.000   \n",
       "Type                                                              Used   \n",
       "Warranty                                                           NaN   \n",
       "null                                                                []   \n",
       "Cylinders                                                        3.000   \n",
       "Fuel                                                            Diesel   \n",
       "Gears                                                                6   \n",
       "Comfort_Convenience  Air suspension,Armrest,Auxiliary heating,Elect...   \n",
       "Entertainment_Media  Bluetooth,CD player,Hands-free equipment,MP3,O...   \n",
       "Extras                          Alloy wheels,Sport seats,Voice Control   \n",
       "Safety_Security      ABS,Alarm system,Central door lock with remote...   \n",
       "age                                                              3.000   \n",
       "Previous_Owners                                                  1.000   \n",
       "hp_kW                                                           66.000   \n",
       "Inspection_new                                                     NaN   \n",
       "Body_Color                                                       Brown   \n",
       "Paint_Type                                                    Metallic   \n",
       "Upholstery_type                                                    NaN   \n",
       "Upholstery_color                                                   NaN   \n",
       "Nr_of_Doors                                                      3.000   \n",
       "Nr_of_Seats                                                      4.000   \n",
       "Gearing_Type                                                 Automatic   \n",
       "Displacement_cc                                               1422.000   \n",
       "Weight_kg                                                     1195.000   \n",
       "Drive_chain                                                        NaN   \n",
       "cons_comb                                                        3.800   \n",
       "cons_city                                                        4.300   \n",
       "cons_country                                                     3.500   \n",
       "CO2_Emission                                                    99.000   \n",
       "Emission_Class                                                  Euro 6   \n",
       "\n",
       "                                                                     4  \n",
       "make_model                                                     Audi A1  \n",
       "body_type                                                       Sedans  \n",
       "price                                                            16790  \n",
       "vat                                                               None  \n",
       "km                                                           16200.000  \n",
       "Type                                                              Used  \n",
       "Warranty                                                           NaN  \n",
       "null                                                                []  \n",
       "Cylinders                                                        3.000  \n",
       "Fuel                                                            Diesel  \n",
       "Gears                                                              NaN  \n",
       "Comfort_Convenience  Air conditioning,Armrest,Automatic climate con...  \n",
       "Entertainment_Media  Bluetooth,CD player,Hands-free equipment,MP3,O...  \n",
       "Extras               Alloy wheels,Sport package,Sport suspension,Vo...  \n",
       "Safety_Security      ABS,Central door lock,Driver-side airbag,Elect...  \n",
       "age                                                              3.000  \n",
       "Previous_Owners                                                  1.000  \n",
       "hp_kW                                                           66.000  \n",
       "Inspection_new                                                     Yes  \n",
       "Body_Color                                                       Black  \n",
       "Paint_Type                                                    Metallic  \n",
       "Upholstery_type                                                  Cloth  \n",
       "Upholstery_color                                                 Black  \n",
       "Nr_of_Doors                                                      5.000  \n",
       "Nr_of_Seats                                                      5.000  \n",
       "Gearing_Type                                                 Automatic  \n",
       "Displacement_cc                                               1422.000  \n",
       "Weight_kg                                                          NaN  \n",
       "Drive_chain                                                      front  \n",
       "cons_comb                                                        4.100  \n",
       "cons_city                                                        4.600  \n",
       "cons_country                                                     3.800  \n",
       "CO2_Emission                                                   109.000  \n",
       "Emission_Class                                                  Euro 6  "
      ]
     },
     "execution_count": 409,
     "metadata": {},
     "output_type": "execute_result"
    }
   ],
   "source": [
    "df.head().T"
   ]
  },
  {
   "cell_type": "code",
   "execution_count": 410,
   "metadata": {},
   "outputs": [
    {
     "name": "stdout",
     "output_type": "stream",
     "text": [
      "<class 'pandas.core.frame.DataFrame'>\n",
      "RangeIndex: 15919 entries, 0 to 15918\n",
      "Data columns (total 34 columns):\n",
      " #   Column               Non-Null Count  Dtype  \n",
      "---  ------               --------------  -----  \n",
      " 0   make_model           15919 non-null  object \n",
      " 1   body_type            15859 non-null  object \n",
      " 2   price                15919 non-null  int64  \n",
      " 3   vat                  11406 non-null  object \n",
      " 4   km                   14895 non-null  float64\n",
      " 5   Type                 15917 non-null  object \n",
      " 6   Warranty             4853 non-null   float64\n",
      " 7   null                 15919 non-null  object \n",
      " 8   Cylinders            10239 non-null  float64\n",
      " 9   Fuel                 15919 non-null  object \n",
      " 10  Gears                11207 non-null  object \n",
      " 11  Comfort_Convenience  14999 non-null  object \n",
      " 12  Entertainment_Media  14545 non-null  object \n",
      " 13  Extras               12957 non-null  object \n",
      " 14  Safety_Security      14937 non-null  object \n",
      " 15  age                  14322 non-null  float64\n",
      " 16  Previous_Owners      9279 non-null   float64\n",
      " 17  hp_kW                15831 non-null  float64\n",
      " 18  Inspection_new       3932 non-null   object \n",
      " 19  Body_Color           15322 non-null  object \n",
      " 20  Paint_Type           10147 non-null  object \n",
      " 21  Upholstery_type      11048 non-null  object \n",
      " 22  Upholstery_color     10841 non-null  object \n",
      " 23  Nr_of_Doors          15707 non-null  float64\n",
      " 24  Nr_of_Seats          14942 non-null  float64\n",
      " 25  Gearing_Type         15919 non-null  object \n",
      " 26  Displacement_cc      15423 non-null  float64\n",
      " 27  Weight_kg            8945 non-null   float64\n",
      " 28  Drive_chain          9061 non-null   object \n",
      " 29  cons_comb            13886 non-null  float64\n",
      " 30  cons_city            13483 non-null  float64\n",
      " 31  cons_country         13543 non-null  float64\n",
      " 32  CO2_Emission         13483 non-null  float64\n",
      " 33  Emission_Class       12291 non-null  object \n",
      "dtypes: float64(14), int64(1), object(19)\n",
      "memory usage: 4.1+ MB\n"
     ]
    }
   ],
   "source": [
    "df.info()"
   ]
  },
  {
   "cell_type": "code",
   "execution_count": 411,
   "metadata": {},
   "outputs": [],
   "source": [
    "df.to_csv(\"clean_scout.csv\", index=False)"
   ]
  }
 ],
 "metadata": {
  "kernelspec": {
   "display_name": "Python 3 (ipykernel)",
   "language": "python",
   "name": "python3"
  },
  "language_info": {
   "codemirror_mode": {
    "name": "ipython",
    "version": 3
   },
   "file_extension": ".py",
   "mimetype": "text/x-python",
   "name": "python",
   "nbconvert_exporter": "python",
   "pygments_lexer": "ipython3",
   "version": "3.8.8"
  }
 },
 "nbformat": 4,
 "nbformat_minor": 4
}
