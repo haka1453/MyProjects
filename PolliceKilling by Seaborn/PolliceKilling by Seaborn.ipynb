{
 "cells": [
  {
   "cell_type": "markdown",
   "id": "a70db75b",
   "metadata": {},
   "source": [
    "# Pollice Killing Dataset by Seaborn"
   ]
  },
  {
   "cell_type": "markdown",
   "id": "64572a6a",
   "metadata": {},
   "source": [
    "# patVL1 - Assignment 1"
   ]
  },
  {
   "cell_type": "code",
   "execution_count": 1,
   "id": "72951bf7",
   "metadata": {},
   "outputs": [],
   "source": [
    "import numpy as np\n",
    "import pandas as pd\n",
    "import seaborn as sns\n",
    "import matplotlib.pyplot as plt\n",
    "%matplotlib inline"
   ]
  },
  {
   "cell_type": "code",
   "execution_count": 4,
   "id": "cde0b0e5",
   "metadata": {},
   "outputs": [
    {
     "data": {
      "text/html": [
       "<div>\n",
       "<style scoped>\n",
       "    .dataframe tbody tr th:only-of-type {\n",
       "        vertical-align: middle;\n",
       "    }\n",
       "\n",
       "    .dataframe tbody tr th {\n",
       "        vertical-align: top;\n",
       "    }\n",
       "\n",
       "    .dataframe thead th {\n",
       "        text-align: right;\n",
       "    }\n",
       "</style>\n",
       "<table border=\"1\" class=\"dataframe\">\n",
       "  <thead>\n",
       "    <tr style=\"text-align: right;\">\n",
       "      <th></th>\n",
       "      <th>id</th>\n",
       "      <th>name</th>\n",
       "      <th>date</th>\n",
       "      <th>manner_of_death</th>\n",
       "      <th>armed</th>\n",
       "      <th>age</th>\n",
       "      <th>gender</th>\n",
       "      <th>race</th>\n",
       "      <th>city</th>\n",
       "      <th>state</th>\n",
       "      <th>signs_of_mental_illness</th>\n",
       "      <th>threat_level</th>\n",
       "      <th>flee</th>\n",
       "      <th>body_camera</th>\n",
       "    </tr>\n",
       "  </thead>\n",
       "  <tbody>\n",
       "    <tr>\n",
       "      <th>0</th>\n",
       "      <td>3</td>\n",
       "      <td>Tim Elliot</td>\n",
       "      <td>02/01/15</td>\n",
       "      <td>shot</td>\n",
       "      <td>gun</td>\n",
       "      <td>53.0</td>\n",
       "      <td>M</td>\n",
       "      <td>A</td>\n",
       "      <td>Shelton</td>\n",
       "      <td>WA</td>\n",
       "      <td>True</td>\n",
       "      <td>attack</td>\n",
       "      <td>Not fleeing</td>\n",
       "      <td>False</td>\n",
       "    </tr>\n",
       "  </tbody>\n",
       "</table>\n",
       "</div>"
      ],
      "text/plain": [
       "   id        name      date manner_of_death armed   age gender race     city  \\\n",
       "0   3  Tim Elliot  02/01/15            shot   gun  53.0      M    A  Shelton   \n",
       "\n",
       "  state  signs_of_mental_illness threat_level         flee  body_camera  \n",
       "0    WA                     True       attack  Not fleeing        False  "
      ]
     },
     "execution_count": 4,
     "metadata": {},
     "output_type": "execute_result"
    }
   ],
   "source": [
    "# kill = df = pd.read_csv('./src/PoliceKillingsUS.csv')\n",
    "kill = df = pd.read_csv('PoliceKillingsUS.csv', encoding='windows-1252')\n",
    "kill.head(1)"
   ]
  },
  {
   "cell_type": "code",
   "execution_count": 7,
   "id": "9d4a3268",
   "metadata": {},
   "outputs": [
    {
     "data": {
      "text/plain": [
       "M    2428\n",
       "F     107\n",
       "Name: gender, dtype: int64"
      ]
     },
     "execution_count": 7,
     "metadata": {},
     "output_type": "execute_result"
    }
   ],
   "source": [
    "pd_kills = kill.gender.value_counts()\n",
    "pd_kills"
   ]
  },
  {
   "cell_type": "code",
   "execution_count": 8,
   "id": "0a9c6707",
   "metadata": {},
   "outputs": [
    {
     "data": {
      "text/plain": [
       "pandas.core.series.Series"
      ]
     },
     "execution_count": 8,
     "metadata": {},
     "output_type": "execute_result"
    }
   ],
   "source": [
    "type(kill.gender.value_counts())"
   ]
  },
  {
   "cell_type": "code",
   "execution_count": 9,
   "id": "5f661120",
   "metadata": {},
   "outputs": [
    {
     "data": {
      "image/png": "[encoded data removed]",
      "text/plain": [
       "<Figure size 432x288 with 1 Axes>"
      ]
     },
     "metadata": {
      "needs_background": "light"
     },
     "output_type": "display_data"
    }
   ],
   "source": [
    "ax=pd_kills.plot.bar()"
   ]
  },
  {
   "cell_type": "code",
   "execution_count": 21,
   "id": "b08dcbe9",
   "metadata": {},
   "outputs": [
    {
     "data": {
      "image/png": "[encoded data removed]",
      "text/plain": [
       "<Figure size 432x288 with 1 Axes>"
      ]
     },
     "metadata": {
      "needs_background": "light"
     },
     "output_type": "display_data"
    }
   ],
   "source": [
    "fig, ax = plt.subplots()\n",
    "kill.gender.value_counts().plot(kind='bar', ax=ax)\n",
    "ax.set_title('Gender Distribution', fontsize=15)\n",
    "ax\n",
    "for p in ax.patches:\n",
    "    ax.annotate((p.get_height()), (p.get_x()+.2, p.get_height()+20))"
   ]
  },
  {
   "cell_type": "code",
   "execution_count": 22,
   "id": "2359c91d",
   "metadata": {},
   "outputs": [
    {
     "data": {
      "image/png": "[encoded data removed]",
      "text/plain": [
       "<Figure size 432x288 with 1 Axes>"
      ]
     },
     "execution_count": 22,
     "metadata": {},
     "output_type": "execute_result"
    }
   ],
   "source": [
    "fig  "
   ]
  },
  {
   "cell_type": "code",
   "execution_count": 23,
   "id": "b6bad533",
   "metadata": {},
   "outputs": [
    {
     "data": {
      "text/plain": [
       "[<matplotlib.patches.Rectangle at 0x281fbf95c10>,\n",
       " <matplotlib.patches.Rectangle at 0x281fbf95b50>]"
      ]
     },
     "execution_count": 23,
     "metadata": {},
     "output_type": "execute_result"
    }
   ],
   "source": [
    "ax.patches"
   ]
  },
  {
   "cell_type": "code",
   "execution_count": 24,
   "id": "90cecccb",
   "metadata": {},
   "outputs": [
    {
     "data": {
      "text/plain": [
       "<matplotlib.patches.Rectangle at 0x281fbf95b50>"
      ]
     },
     "execution_count": 24,
     "metadata": {},
     "output_type": "execute_result"
    }
   ],
   "source": [
    "ax.patches[1]"
   ]
  },
  {
   "cell_type": "code",
   "execution_count": 25,
   "id": "d2c9058b",
   "metadata": {},
   "outputs": [
    {
     "data": {
      "text/plain": [
       "0.75"
      ]
     },
     "execution_count": 25,
     "metadata": {},
     "output_type": "execute_result"
    }
   ],
   "source": [
    "ax.patches[1].get_x()"
   ]
  },
  {
   "cell_type": "code",
   "execution_count": 26,
   "id": "3a941ab0",
   "metadata": {},
   "outputs": [
    {
     "data": {
      "text/plain": [
       "107"
      ]
     },
     "execution_count": 26,
     "metadata": {},
     "output_type": "execute_result"
    }
   ],
   "source": [
    "ax.patches[1].get_height()"
   ]
  },
  {
   "cell_type": "code",
   "execution_count": 27,
   "id": "3d262ce4",
   "metadata": {},
   "outputs": [
    {
     "data": {
      "text/plain": [
       "gun             1398\n",
       "knife            373\n",
       "vehicle          177\n",
       "unarmed          171\n",
       "undetermined     117\n",
       "                ... \n",
       "hand torch         1\n",
       "garden tool        1\n",
       "pole               1\n",
       "pick-axe           1\n",
       "pen                1\n",
       "Name: armed, Length: 68, dtype: int64"
      ]
     },
     "execution_count": 27,
     "metadata": {},
     "output_type": "execute_result"
    }
   ],
   "source": [
    "kill.armed.value_counts()"
   ]
  },
  {
   "cell_type": "code",
   "execution_count": 28,
   "id": "9cab453d",
   "metadata": {},
   "outputs": [
    {
     "data": {
      "text/plain": [
       "gun               1398\n",
       "knife              373\n",
       "vehicle            177\n",
       "unarmed            171\n",
       "undetermined       117\n",
       "toy weapon         104\n",
       "machete             18\n",
       "unknown weapon      18\n",
       "ax                   9\n",
       "Taser                9\n",
       "baseball bat         8\n",
       "sword                8\n",
       "hammer               7\n",
       "box cutter           7\n",
       "metal pipe           7\n",
       "Name: armed, dtype: int64"
      ]
     },
     "execution_count": 28,
     "metadata": {},
     "output_type": "execute_result"
    }
   ],
   "source": [
    "kill.armed.value_counts()[:15]"
   ]
  },
  {
   "cell_type": "code",
   "execution_count": 34,
   "id": "68a1eba1",
   "metadata": {},
   "outputs": [
    {
     "data": {
      "text/plain": [
       "gun             1398\n",
       "knife            373\n",
       "vehicle          177\n",
       "machete           18\n",
       "ax                 9\n",
       "baseball bat       8\n",
       "sword              8\n",
       "Name: armed, dtype: int64"
      ]
     },
     "execution_count": 34,
     "metadata": {},
     "output_type": "execute_result"
    }
   ],
   "source": [
    "harmless = ['toy weapon', 'unknown weapon', 'unarmed', 'Taser', 'undetermined']\n",
    "wcount = kill.armed.value_counts()\n",
    "common_weapons = wcount.drop(harmless)[:7]\n",
    "common_weapons[:7]"
   ]
  },
  {
   "cell_type": "code",
   "execution_count": 35,
   "id": "d511c01f",
   "metadata": {},
   "outputs": [
    {
     "data": {
      "text/plain": [
       "[Text(0, 0, 'gun'),\n",
       " Text(1, 0, 'knife'),\n",
       " Text(2, 0, 'vehicle'),\n",
       " Text(3, 0, 'machete'),\n",
       " Text(4, 0, 'ax'),\n",
       " Text(5, 0, 'baseball bat'),\n",
       " Text(6, 0, 'sword')]"
      ]
     },
     "execution_count": 35,
     "metadata": {},
     "output_type": "execute_result"
    },
    {
     "data": {
      "image/png": "[encoded data removed]",
      "text/plain": [
       "<Figure size 576x360 with 1 Axes>"
      ]
     },
     "metadata": {
      "needs_background": "light"
     },
     "output_type": "display_data"
    }
   ],
   "source": [
    "fig, ax = plt.subplots(figsize=(8,5))\n",
    "common_weapons.plot(kind='bar', ax=ax)\n",
    "ax.set_xticklabels(common_weapons.index, rotation=45)"
   ]
  },
  {
   "cell_type": "code",
   "execution_count": 36,
   "id": "d437382d",
   "metadata": {},
   "outputs": [
    {
     "data": {
      "text/plain": [
       "0    53.0\n",
       "1    47.0\n",
       "2    23.0\n",
       "3    32.0\n",
       "4    39.0\n",
       "Name: age, dtype: float64"
      ]
     },
     "execution_count": 36,
     "metadata": {},
     "output_type": "execute_result"
    }
   ],
   "source": [
    "a = kill['age']\n",
    "a.head()"
   ]
  },
  {
   "cell_type": "code",
   "execution_count": 37,
   "id": "3b845e26",
   "metadata": {},
   "outputs": [
    {
     "data": {
      "text/plain": [
       "0       False\n",
       "1       False\n",
       "2       False\n",
       "3       False\n",
       "4       False\n",
       "        ...  \n",
       "2530    False\n",
       "2531     True\n",
       "2532    False\n",
       "2533    False\n",
       "2534    False\n",
       "Name: age, Length: 2535, dtype: bool"
      ]
     },
     "execution_count": 37,
     "metadata": {},
     "output_type": "execute_result"
    }
   ],
   "source": [
    "a.isnull()"
   ]
  },
  {
   "cell_type": "code",
   "execution_count": 38,
   "id": "f7ac1e73",
   "metadata": {},
   "outputs": [
    {
     "data": {
      "text/plain": [
       "25.0    103\n",
       "36.0     91\n",
       "31.0     85\n",
       "24.0     83\n",
       "29.0     83\n",
       "       ... \n",
       "6.0       1\n",
       "14.0      1\n",
       "80.0      1\n",
       "12.0      1\n",
       "79.0      1\n",
       "Name: age, Length: 73, dtype: int64"
      ]
     },
     "execution_count": 38,
     "metadata": {},
     "output_type": "execute_result"
    }
   ],
   "source": [
    "a.dropna().value_counts()"
   ]
  },
  {
   "cell_type": "code",
   "execution_count": 51,
   "id": "99629625",
   "metadata": {},
   "outputs": [
    {
     "data": {
      "text/plain": [
       "25.0    103\n",
       "36.0     91\n",
       "31.0     85\n",
       "24.0     83\n",
       "29.0     83\n",
       "33.0     78\n",
       "32.0     75\n",
       "30.0     74\n",
       "35.0     74\n",
       "34.0     74\n",
       "28.0     73\n",
       "27.0     72\n",
       "26.0     72\n",
       "23.0     71\n",
       "37.0     66\n",
       "38.0     63\n",
       "45.0     62\n",
       "22.0     57\n",
       "18.0     54\n",
       "39.0     53\n",
       "41.0     52\n",
       "21.0     52\n",
       "50.0     47\n",
       "40.0     46\n",
       "53.0     42\n",
       "43.0     42\n",
       "19.0     41\n",
       "20.0     41\n",
       "46.0     41\n",
       "42.0     39\n",
       "49.0     38\n",
       "47.0     37\n",
       "51.0     36\n",
       "48.0     35\n",
       "59.0     35\n",
       "44.0     32\n",
       "52.0     31\n",
       "54.0     29\n",
       "56.0     28\n",
       "55.0     28\n",
       "17.0     23\n",
       "57.0     20\n",
       "58.0     18\n",
       "16.0     16\n",
       "63.0     16\n",
       "60.0     16\n",
       "62.0     13\n",
       "61.0     11\n",
       "64.0     11\n",
       "66.0      8\n",
       "15.0      8\n",
       "Name: age, dtype: int64"
      ]
     },
     "execution_count": 51,
     "metadata": {},
     "output_type": "execute_result"
    }
   ],
   "source": [
    "a.dropna().value_counts()[:15]"
   ]
  },
  {
   "cell_type": "code",
   "execution_count": 52,
   "id": "b849c822",
   "metadata": {},
   "outputs": [],
   "source": [
    "kill['age_cat'] = kill.age.apply(\n",
    "    lambda x: \"above25\" if x>=25 else ('below25' if x<25 else 'other'))"
   ]
  },
  {
   "cell_type": "code",
   "execution_count": 53,
   "id": "aa999a30",
   "metadata": {},
   "outputs": [
    {
     "data": {
      "text/html": [
       "<div>\n",
       "<style scoped>\n",
       "    .dataframe tbody tr th:only-of-type {\n",
       "        vertical-align: middle;\n",
       "    }\n",
       "\n",
       "    .dataframe tbody tr th {\n",
       "        vertical-align: top;\n",
       "    }\n",
       "\n",
       "    .dataframe thead th {\n",
       "        text-align: right;\n",
       "    }\n",
       "</style>\n",
       "<table border=\"1\" class=\"dataframe\">\n",
       "  <thead>\n",
       "    <tr style=\"text-align: right;\">\n",
       "      <th></th>\n",
       "      <th>id</th>\n",
       "      <th>name</th>\n",
       "      <th>date</th>\n",
       "      <th>manner_of_death</th>\n",
       "      <th>armed</th>\n",
       "      <th>age</th>\n",
       "      <th>gender</th>\n",
       "      <th>race</th>\n",
       "      <th>city</th>\n",
       "      <th>state</th>\n",
       "      <th>signs_of_mental_illness</th>\n",
       "      <th>threat_level</th>\n",
       "      <th>flee</th>\n",
       "      <th>body_camera</th>\n",
       "      <th>age_cat</th>\n",
       "    </tr>\n",
       "  </thead>\n",
       "  <tbody>\n",
       "    <tr>\n",
       "      <th>0</th>\n",
       "      <td>3</td>\n",
       "      <td>Tim Elliot</td>\n",
       "      <td>02/01/15</td>\n",
       "      <td>shot</td>\n",
       "      <td>gun</td>\n",
       "      <td>53.0</td>\n",
       "      <td>M</td>\n",
       "      <td>A</td>\n",
       "      <td>Shelton</td>\n",
       "      <td>WA</td>\n",
       "      <td>True</td>\n",
       "      <td>attack</td>\n",
       "      <td>Not fleeing</td>\n",
       "      <td>False</td>\n",
       "      <td>above25</td>\n",
       "    </tr>\n",
       "  </tbody>\n",
       "</table>\n",
       "</div>"
      ],
      "text/plain": [
       "   id        name      date manner_of_death armed   age gender race     city  \\\n",
       "0   3  Tim Elliot  02/01/15            shot   gun  53.0      M    A  Shelton   \n",
       "\n",
       "  state  signs_of_mental_illness threat_level         flee  body_camera  \\\n",
       "0    WA                     True       attack  Not fleeing        False   \n",
       "\n",
       "   age_cat  \n",
       "0  above25  "
      ]
     },
     "execution_count": 53,
     "metadata": {},
     "output_type": "execute_result"
    }
   ],
   "source": [
    "kill.head(1)"
   ]
  },
  {
   "cell_type": "code",
   "execution_count": 54,
   "id": "b41ba7d0",
   "metadata": {},
   "outputs": [
    {
     "data": {
      "image/png": "[encoded data removed]",
      "text/plain": [
       "<Figure size 432x288 with 1 Axes>"
      ]
     },
     "metadata": {
      "needs_background": "light"
     },
     "output_type": "display_data"
    }
   ],
   "source": [
    "ax = kill['age_cat'].value_counts().plot.bar()\n",
    "for p in ax.patches:\n",
    "    ax.annotate(round(p.get_height()), (p.get_x()+.2, p.get_height()+10))"
   ]
  },
  {
   "cell_type": "code",
   "execution_count": 55,
   "id": "20d588ab",
   "metadata": {},
   "outputs": [],
   "source": [
    "race_freq = kill.race.value_counts()"
   ]
  },
  {
   "cell_type": "code",
   "execution_count": 56,
   "id": "0161fc2d",
   "metadata": {},
   "outputs": [
    {
     "data": {
      "text/plain": [
       "W    True\n",
       "B    True\n",
       "H    True\n",
       "A    True\n",
       "N    True\n",
       "O    True\n",
       "Name: race, dtype: bool"
      ]
     },
     "execution_count": 56,
     "metadata": {},
     "output_type": "execute_result"
    }
   ],
   "source": [
    "kill['race'].value_counts() == kill.race.value_counts()"
   ]
  },
  {
   "cell_type": "code",
   "execution_count": 57,
   "id": "ea1fbffa",
   "metadata": {},
   "outputs": [
    {
     "data": {
      "text/plain": [
       "W    1201\n",
       "B     618\n",
       "H     423\n",
       "A      39\n",
       "N      31\n",
       "O      28\n",
       "Name: race, dtype: int64"
      ]
     },
     "execution_count": 57,
     "metadata": {},
     "output_type": "execute_result"
    }
   ],
   "source": [
    "race_freq "
   ]
  },
  {
   "cell_type": "code",
   "execution_count": 58,
   "id": "99bcaad9",
   "metadata": {},
   "outputs": [
    {
     "data": {
      "image/png": "[encoded data removed]",
      "text/plain": [
       "<Figure size 432x288 with 1 Axes>"
      ]
     },
     "metadata": {
      "needs_background": "light"
     },
     "output_type": "display_data"
    }
   ],
   "source": [
    "ax= race_freq.plot.bar()"
   ]
  },
  {
   "cell_type": "code",
   "execution_count": 59,
   "id": "c40e549d",
   "metadata": {},
   "outputs": [
    {
     "data": {
      "image/png": "[encoded data removed]",
      "text/plain": [
       "<Figure size 432x288 with 1 Axes>"
      ]
     },
     "metadata": {
      "needs_background": "light"
     },
     "output_type": "display_data"
    }
   ],
   "source": [
    "ax= race_freq.plot.barh()"
   ]
  },
  {
   "cell_type": "code",
   "execution_count": 61,
   "id": "636eb311",
   "metadata": {},
   "outputs": [
    {
     "data": {
      "text/plain": [
       "W    False\n",
       "B    False\n",
       "H    False\n",
       "A    False\n",
       "N    False\n",
       "O    False\n",
       "Name: race, dtype: bool"
      ]
     },
     "execution_count": 61,
     "metadata": {},
     "output_type": "execute_result"
    }
   ],
   "source": [
    "race_freq.isnull()"
   ]
  },
  {
   "cell_type": "code",
   "execution_count": 62,
   "id": "34560fad",
   "metadata": {},
   "outputs": [
    {
     "data": {
      "text/plain": [
       "False"
      ]
     },
     "execution_count": 62,
     "metadata": {},
     "output_type": "execute_result"
    }
   ],
   "source": [
    "race_freq.isnull().any()"
   ]
  },
  {
   "cell_type": "code",
   "execution_count": 63,
   "id": "1f091cba",
   "metadata": {},
   "outputs": [
    {
     "data": {
      "text/plain": [
       "<AxesSubplot:ylabel='race'>"
      ]
     },
     "execution_count": 63,
     "metadata": {},
     "output_type": "execute_result"
    },
    {
     "data": {
      "image/png": "[encoded data removed]",
      "text/plain": [
       "<Figure size 432x288 with 1 Axes>"
      ]
     },
     "metadata": {},
     "output_type": "display_data"
    }
   ],
   "source": [
    "kill. race.value_counts().plot(kind='pie')"
   ]
  },
  {
   "cell_type": "code",
   "execution_count": 64,
   "id": "73f8ee0e",
   "metadata": {},
   "outputs": [
    {
     "data": {
      "image/png": "[encoded data removed]",
      "text/plain": [
       "<Figure size 720x720 with 1 Axes>"
      ]
     },
     "metadata": {},
     "output_type": "display_data"
    }
   ],
   "source": [
    "explode=(0,0,0.1,0,0,0)\n",
    "kill. race.value_counts().plot(kind='pie', explode=explode, autopct='%.1f%%', figsize=(10,10))\n",
    "sizes = kill.race.value_counts().values\n",
    "labels = kill.race.value_counts().index"
   ]
  },
  {
   "cell_type": "code",
   "execution_count": 65,
   "id": "f6c0a72b",
   "metadata": {},
   "outputs": [
    {
     "data": {
      "text/plain": [
       "([<matplotlib.patches.Wedge at 0x281fd8da850>,\n",
       "  <matplotlib.patches.Wedge at 0x281fd8dafd0>,\n",
       "  <matplotlib.patches.Wedge at 0x281fdb8e670>,\n",
       "  <matplotlib.patches.Wedge at 0x281fdb8ed90>,\n",
       "  <matplotlib.patches.Wedge at 0x281fdb9c4f0>,\n",
       "  <matplotlib.patches.Wedge at 0x281fdb9cc10>],\n",
       " [Text(-0.03328586104770358, 0.7993072322044341, 'W'),\n",
       "  Text(-0.4891366809210747, -0.6330444750390882, 'B'),\n",
       "  Text(0.6066936729224246, -0.6647727335231931, 'H'),\n",
       "  Text(0.7822940712080317, -0.16737976625853895, 'A'),\n",
       "  Text(0.7945490454892261, -0.09322990031186218, 'N'),\n",
       "  Text(0.7994348126721198, -0.030066264947491702, 'O')],\n",
       " [Text(-0.02496439578577768, 0.5994804241533255, '51.3%'),\n",
       "  Text(-0.366852510690806, -0.4747833562793161, '26.4%'),\n",
       "  Text(0.4718728567174413, -0.5170454594069279, '18.1%'),\n",
       "  Text(0.5867205534060237, -0.1255348246939042, '1.7%'),\n",
       "  Text(0.5959117841169196, -0.06992242523389662, '1.3%'),\n",
       "  Text(0.5995761095040898, -0.022549698710618776, '1.2%')])"
      ]
     },
     "execution_count": 65,
     "metadata": {},
     "output_type": "execute_result"
    },
    {
     "data": {
      "image/png": "[encoded data removed]",
      "text/plain": [
       "<Figure size 720x720 with 1 Axes>"
      ]
     },
     "metadata": {},
     "output_type": "display_data"
    }
   ],
   "source": [
    "fig, ax1 = plt.subplots(figsize=(10,10))\n",
    "ax1.pie(x = sizes,\n",
    "        explode=explode,\n",
    "        labels=labels,\n",
    "        labeldistance=.8,\n",
    "        autopct='%.1f%%',\n",
    "        startangle=0)"
   ]
  },
  {
   "cell_type": "code",
   "execution_count": 66,
   "id": "43586594",
   "metadata": {},
   "outputs": [
    {
     "data": {
      "text/plain": [
       "TK TK                         49\n",
       "Michael Johnson                2\n",
       "Brandon Jones                  2\n",
       "Eric Harris                    2\n",
       "Michael Brown                  2\n",
       "TK Tk                          2\n",
       "Daquan Antonio Westbrook       2\n",
       "Francis Perry                  1\n",
       "Sadiq Bishara-Abaker Idris     1\n",
       "Jesse Daniel Joynt             1\n",
       "Robert Lee Brown               1\n",
       "Dylan Papa                     1\n",
       "Jose Romero                    1\n",
       "Steven Del Rio                 1\n",
       "Jose Torres                    1\n",
       "Name: name, dtype: int64"
      ]
     },
     "execution_count": 66,
     "metadata": {},
     "output_type": "execute_result"
    }
   ],
   "source": [
    "names = kill.name.value_counts()[:15]\n",
    "names "
   ]
  },
  {
   "cell_type": "code",
   "execution_count": 67,
   "id": "14dedfb3",
   "metadata": {
    "scrolled": false
   },
   "outputs": [
    {
     "data": {
      "text/plain": [
       "Michael Johnson               2\n",
       "Brandon Jones                 2\n",
       "Eric Harris                   2\n",
       "Michael Brown                 2\n",
       "Daquan Antonio Westbrook      2\n",
       "Francis Perry                 1\n",
       "Sadiq Bishara-Abaker Idris    1\n",
       "Jesse Daniel Joynt            1\n",
       "Robert Lee Brown              1\n",
       "Dylan Papa                    1\n",
       "Jose Romero                   1\n",
       "Steven Del Rio                1\n",
       "Jose Torres                   1\n",
       "Name: name, dtype: int64"
      ]
     },
     "execution_count": 67,
     "metadata": {},
     "output_type": "execute_result"
    }
   ],
   "source": [
    "unknown = ['TK TK', 'TK Tk']\n",
    "names.drop(unknown, inplace=True)\n",
    "names "
   ]
  },
  {
   "cell_type": "markdown",
   "id": "f5b647ae",
   "metadata": {},
   "source": [
    "# patVL2 "
   ]
  },
  {
   "cell_type": "code",
   "execution_count": 69,
   "id": "cb689a16",
   "metadata": {},
   "outputs": [],
   "source": [
    "from collections import Counter\n",
    "import warnings\n",
    "warnings.filterwarnings('ignore')"
   ]
  },
  {
   "cell_type": "code",
   "execution_count": 70,
   "id": "9a667cde",
   "metadata": {},
   "outputs": [
    {
     "data": {
      "text/html": [
       "<div>\n",
       "<style scoped>\n",
       "    .dataframe tbody tr th:only-of-type {\n",
       "        vertical-align: middle;\n",
       "    }\n",
       "\n",
       "    .dataframe tbody tr th {\n",
       "        vertical-align: top;\n",
       "    }\n",
       "\n",
       "    .dataframe thead th {\n",
       "        text-align: right;\n",
       "    }\n",
       "</style>\n",
       "<table border=\"1\" class=\"dataframe\">\n",
       "  <thead>\n",
       "    <tr style=\"text-align: right;\">\n",
       "      <th></th>\n",
       "      <th>id</th>\n",
       "      <th>name</th>\n",
       "      <th>date</th>\n",
       "      <th>manner_of_death</th>\n",
       "      <th>armed</th>\n",
       "      <th>age</th>\n",
       "      <th>gender</th>\n",
       "      <th>race</th>\n",
       "      <th>city</th>\n",
       "      <th>state</th>\n",
       "      <th>signs_of_mental_illness</th>\n",
       "      <th>threat_level</th>\n",
       "      <th>flee</th>\n",
       "      <th>body_camera</th>\n",
       "    </tr>\n",
       "  </thead>\n",
       "  <tbody>\n",
       "    <tr>\n",
       "      <th>0</th>\n",
       "      <td>3</td>\n",
       "      <td>Tim Elliot</td>\n",
       "      <td>02/01/15</td>\n",
       "      <td>shot</td>\n",
       "      <td>gun</td>\n",
       "      <td>53.0</td>\n",
       "      <td>M</td>\n",
       "      <td>A</td>\n",
       "      <td>Shelton</td>\n",
       "      <td>WA</td>\n",
       "      <td>True</td>\n",
       "      <td>attack</td>\n",
       "      <td>Not fleeing</td>\n",
       "      <td>False</td>\n",
       "    </tr>\n",
       "    <tr>\n",
       "      <th>1</th>\n",
       "      <td>4</td>\n",
       "      <td>Lewis Lee Lembke</td>\n",
       "      <td>02/01/15</td>\n",
       "      <td>shot</td>\n",
       "      <td>gun</td>\n",
       "      <td>47.0</td>\n",
       "      <td>M</td>\n",
       "      <td>W</td>\n",
       "      <td>Aloha</td>\n",
       "      <td>OR</td>\n",
       "      <td>False</td>\n",
       "      <td>attack</td>\n",
       "      <td>Not fleeing</td>\n",
       "      <td>False</td>\n",
       "    </tr>\n",
       "  </tbody>\n",
       "</table>\n",
       "</div>"
      ],
      "text/plain": [
       "   id              name      date manner_of_death armed   age gender race  \\\n",
       "0   3        Tim Elliot  02/01/15            shot   gun  53.0      M    A   \n",
       "1   4  Lewis Lee Lembke  02/01/15            shot   gun  47.0      M    W   \n",
       "\n",
       "      city state  signs_of_mental_illness threat_level         flee  \\\n",
       "0  Shelton    WA                     True       attack  Not fleeing   \n",
       "1    Aloha    OR                    False       attack  Not fleeing   \n",
       "\n",
       "   body_camera  \n",
       "0        False  \n",
       "1        False  "
      ]
     },
     "execution_count": 70,
     "metadata": {},
     "output_type": "execute_result"
    }
   ],
   "source": [
    "kill = df = pd.read_csv('PoliceKillingsUS.csv', encoding='windows-1252')\n",
    "kill.head(2)"
   ]
  },
  {
   "cell_type": "code",
   "execution_count": 71,
   "id": "a8770003",
   "metadata": {},
   "outputs": [
    {
     "name": "stdout",
     "output_type": "stream",
     "text": [
      "<class 'pandas.core.frame.DataFrame'>\n",
      "RangeIndex: 2535 entries, 0 to 2534\n",
      "Data columns (total 14 columns):\n",
      " #   Column                   Non-Null Count  Dtype  \n",
      "---  ------                   --------------  -----  \n",
      " 0   id                       2535 non-null   int64  \n",
      " 1   name                     2535 non-null   object \n",
      " 2   date                     2535 non-null   object \n",
      " 3   manner_of_death          2535 non-null   object \n",
      " 4   armed                    2526 non-null   object \n",
      " 5   age                      2458 non-null   float64\n",
      " 6   gender                   2535 non-null   object \n",
      " 7   race                     2340 non-null   object \n",
      " 8   city                     2535 non-null   object \n",
      " 9   state                    2535 non-null   object \n",
      " 10  signs_of_mental_illness  2535 non-null   bool   \n",
      " 11  threat_level             2535 non-null   object \n",
      " 12  flee                     2470 non-null   object \n",
      " 13  body_camera              2535 non-null   bool   \n",
      "dtypes: bool(2), float64(1), int64(1), object(10)\n",
      "memory usage: 242.7+ KB\n"
     ]
    }
   ],
   "source": [
    "kill.info()"
   ]
  },
  {
   "cell_type": "code",
   "execution_count": 72,
   "id": "506c3434",
   "metadata": {},
   "outputs": [
    {
     "data": {
      "text/html": [
       "<div>\n",
       "<style scoped>\n",
       "    .dataframe tbody tr th:only-of-type {\n",
       "        vertical-align: middle;\n",
       "    }\n",
       "\n",
       "    .dataframe tbody tr th {\n",
       "        vertical-align: top;\n",
       "    }\n",
       "\n",
       "    .dataframe thead th {\n",
       "        text-align: right;\n",
       "    }\n",
       "</style>\n",
       "<table border=\"1\" class=\"dataframe\">\n",
       "  <thead>\n",
       "    <tr style=\"text-align: right;\">\n",
       "      <th></th>\n",
       "      <th>id</th>\n",
       "      <th>age</th>\n",
       "    </tr>\n",
       "  </thead>\n",
       "  <tbody>\n",
       "    <tr>\n",
       "      <th>count</th>\n",
       "      <td>2535.000000</td>\n",
       "      <td>2458.000000</td>\n",
       "    </tr>\n",
       "    <tr>\n",
       "      <th>mean</th>\n",
       "      <td>1445.731755</td>\n",
       "      <td>36.605370</td>\n",
       "    </tr>\n",
       "    <tr>\n",
       "      <th>std</th>\n",
       "      <td>794.259490</td>\n",
       "      <td>13.030774</td>\n",
       "    </tr>\n",
       "    <tr>\n",
       "      <th>min</th>\n",
       "      <td>3.000000</td>\n",
       "      <td>6.000000</td>\n",
       "    </tr>\n",
       "    <tr>\n",
       "      <th>25%</th>\n",
       "      <td>768.500000</td>\n",
       "      <td>26.000000</td>\n",
       "    </tr>\n",
       "    <tr>\n",
       "      <th>50%</th>\n",
       "      <td>1453.000000</td>\n",
       "      <td>34.000000</td>\n",
       "    </tr>\n",
       "    <tr>\n",
       "      <th>75%</th>\n",
       "      <td>2126.500000</td>\n",
       "      <td>45.000000</td>\n",
       "    </tr>\n",
       "    <tr>\n",
       "      <th>max</th>\n",
       "      <td>2822.000000</td>\n",
       "      <td>91.000000</td>\n",
       "    </tr>\n",
       "  </tbody>\n",
       "</table>\n",
       "</div>"
      ],
      "text/plain": [
       "                id          age\n",
       "count  2535.000000  2458.000000\n",
       "mean   1445.731755    36.605370\n",
       "std     794.259490    13.030774\n",
       "min       3.000000     6.000000\n",
       "25%     768.500000    26.000000\n",
       "50%    1453.000000    34.000000\n",
       "75%    2126.500000    45.000000\n",
       "max    2822.000000    91.000000"
      ]
     },
     "execution_count": 72,
     "metadata": {},
     "output_type": "execute_result"
    }
   ],
   "source": [
    "kill.describe()"
   ]
  },
  {
   "cell_type": "code",
   "execution_count": 73,
   "id": "a24c74f9",
   "metadata": {},
   "outputs": [
    {
     "data": {
      "text/html": [
       "<div>\n",
       "<style scoped>\n",
       "    .dataframe tbody tr th:only-of-type {\n",
       "        vertical-align: middle;\n",
       "    }\n",
       "\n",
       "    .dataframe tbody tr th {\n",
       "        vertical-align: top;\n",
       "    }\n",
       "\n",
       "    .dataframe thead th {\n",
       "        text-align: right;\n",
       "    }\n",
       "</style>\n",
       "<table border=\"1\" class=\"dataframe\">\n",
       "  <thead>\n",
       "    <tr style=\"text-align: right;\">\n",
       "      <th></th>\n",
       "      <th>id</th>\n",
       "      <th>name</th>\n",
       "      <th>date</th>\n",
       "      <th>manner_of_death</th>\n",
       "      <th>armed</th>\n",
       "      <th>age</th>\n",
       "      <th>gender</th>\n",
       "      <th>race</th>\n",
       "      <th>city</th>\n",
       "      <th>state</th>\n",
       "      <th>signs_of_mental_illness</th>\n",
       "      <th>threat_level</th>\n",
       "      <th>flee</th>\n",
       "      <th>body_camera</th>\n",
       "    </tr>\n",
       "  </thead>\n",
       "  <tbody>\n",
       "    <tr>\n",
       "      <th>count</th>\n",
       "      <td>2535.000000</td>\n",
       "      <td>2535</td>\n",
       "      <td>2535</td>\n",
       "      <td>2535</td>\n",
       "      <td>2526</td>\n",
       "      <td>2458.000000</td>\n",
       "      <td>2535</td>\n",
       "      <td>2340</td>\n",
       "      <td>2535</td>\n",
       "      <td>2535</td>\n",
       "      <td>2535</td>\n",
       "      <td>2535</td>\n",
       "      <td>2470</td>\n",
       "      <td>2535</td>\n",
       "    </tr>\n",
       "    <tr>\n",
       "      <th>unique</th>\n",
       "      <td>NaN</td>\n",
       "      <td>2481</td>\n",
       "      <td>879</td>\n",
       "      <td>2</td>\n",
       "      <td>68</td>\n",
       "      <td>NaN</td>\n",
       "      <td>2</td>\n",
       "      <td>6</td>\n",
       "      <td>1417</td>\n",
       "      <td>51</td>\n",
       "      <td>2</td>\n",
       "      <td>3</td>\n",
       "      <td>4</td>\n",
       "      <td>2</td>\n",
       "    </tr>\n",
       "    <tr>\n",
       "      <th>top</th>\n",
       "      <td>NaN</td>\n",
       "      <td>TK TK</td>\n",
       "      <td>24/01/17</td>\n",
       "      <td>shot</td>\n",
       "      <td>gun</td>\n",
       "      <td>NaN</td>\n",
       "      <td>M</td>\n",
       "      <td>W</td>\n",
       "      <td>Los Angeles</td>\n",
       "      <td>CA</td>\n",
       "      <td>False</td>\n",
       "      <td>attack</td>\n",
       "      <td>Not fleeing</td>\n",
       "      <td>False</td>\n",
       "    </tr>\n",
       "    <tr>\n",
       "      <th>freq</th>\n",
       "      <td>NaN</td>\n",
       "      <td>49</td>\n",
       "      <td>8</td>\n",
       "      <td>2363</td>\n",
       "      <td>1398</td>\n",
       "      <td>NaN</td>\n",
       "      <td>2428</td>\n",
       "      <td>1201</td>\n",
       "      <td>39</td>\n",
       "      <td>424</td>\n",
       "      <td>1902</td>\n",
       "      <td>1611</td>\n",
       "      <td>1695</td>\n",
       "      <td>2264</td>\n",
       "    </tr>\n",
       "    <tr>\n",
       "      <th>mean</th>\n",
       "      <td>1445.731755</td>\n",
       "      <td>NaN</td>\n",
       "      <td>NaN</td>\n",
       "      <td>NaN</td>\n",
       "      <td>NaN</td>\n",
       "      <td>36.605370</td>\n",
       "      <td>NaN</td>\n",
       "      <td>NaN</td>\n",
       "      <td>NaN</td>\n",
       "      <td>NaN</td>\n",
       "      <td>NaN</td>\n",
       "      <td>NaN</td>\n",
       "      <td>NaN</td>\n",
       "      <td>NaN</td>\n",
       "    </tr>\n",
       "    <tr>\n",
       "      <th>std</th>\n",
       "      <td>794.259490</td>\n",
       "      <td>NaN</td>\n",
       "      <td>NaN</td>\n",
       "      <td>NaN</td>\n",
       "      <td>NaN</td>\n",
       "      <td>13.030774</td>\n",
       "      <td>NaN</td>\n",
       "      <td>NaN</td>\n",
       "      <td>NaN</td>\n",
       "      <td>NaN</td>\n",
       "      <td>NaN</td>\n",
       "      <td>NaN</td>\n",
       "      <td>NaN</td>\n",
       "      <td>NaN</td>\n",
       "    </tr>\n",
       "    <tr>\n",
       "      <th>min</th>\n",
       "      <td>3.000000</td>\n",
       "      <td>NaN</td>\n",
       "      <td>NaN</td>\n",
       "      <td>NaN</td>\n",
       "      <td>NaN</td>\n",
       "      <td>6.000000</td>\n",
       "      <td>NaN</td>\n",
       "      <td>NaN</td>\n",
       "      <td>NaN</td>\n",
       "      <td>NaN</td>\n",
       "      <td>NaN</td>\n",
       "      <td>NaN</td>\n",
       "      <td>NaN</td>\n",
       "      <td>NaN</td>\n",
       "    </tr>\n",
       "    <tr>\n",
       "      <th>25%</th>\n",
       "      <td>768.500000</td>\n",
       "      <td>NaN</td>\n",
       "      <td>NaN</td>\n",
       "      <td>NaN</td>\n",
       "      <td>NaN</td>\n",
       "      <td>26.000000</td>\n",
       "      <td>NaN</td>\n",
       "      <td>NaN</td>\n",
       "      <td>NaN</td>\n",
       "      <td>NaN</td>\n",
       "      <td>NaN</td>\n",
       "      <td>NaN</td>\n",
       "      <td>NaN</td>\n",
       "      <td>NaN</td>\n",
       "    </tr>\n",
       "    <tr>\n",
       "      <th>50%</th>\n",
       "      <td>1453.000000</td>\n",
       "      <td>NaN</td>\n",
       "      <td>NaN</td>\n",
       "      <td>NaN</td>\n",
       "      <td>NaN</td>\n",
       "      <td>34.000000</td>\n",
       "      <td>NaN</td>\n",
       "      <td>NaN</td>\n",
       "      <td>NaN</td>\n",
       "      <td>NaN</td>\n",
       "      <td>NaN</td>\n",
       "      <td>NaN</td>\n",
       "      <td>NaN</td>\n",
       "      <td>NaN</td>\n",
       "    </tr>\n",
       "    <tr>\n",
       "      <th>75%</th>\n",
       "      <td>2126.500000</td>\n",
       "      <td>NaN</td>\n",
       "      <td>NaN</td>\n",
       "      <td>NaN</td>\n",
       "      <td>NaN</td>\n",
       "      <td>45.000000</td>\n",
       "      <td>NaN</td>\n",
       "      <td>NaN</td>\n",
       "      <td>NaN</td>\n",
       "      <td>NaN</td>\n",
       "      <td>NaN</td>\n",
       "      <td>NaN</td>\n",
       "      <td>NaN</td>\n",
       "      <td>NaN</td>\n",
       "    </tr>\n",
       "    <tr>\n",
       "      <th>max</th>\n",
       "      <td>2822.000000</td>\n",
       "      <td>NaN</td>\n",
       "      <td>NaN</td>\n",
       "      <td>NaN</td>\n",
       "      <td>NaN</td>\n",
       "      <td>91.000000</td>\n",
       "      <td>NaN</td>\n",
       "      <td>NaN</td>\n",
       "      <td>NaN</td>\n",
       "      <td>NaN</td>\n",
       "      <td>NaN</td>\n",
       "      <td>NaN</td>\n",
       "      <td>NaN</td>\n",
       "      <td>NaN</td>\n",
       "    </tr>\n",
       "  </tbody>\n",
       "</table>\n",
       "</div>"
      ],
      "text/plain": [
       "                 id   name      date manner_of_death armed          age  \\\n",
       "count   2535.000000   2535      2535            2535  2526  2458.000000   \n",
       "unique          NaN   2481       879               2    68          NaN   \n",
       "top             NaN  TK TK  24/01/17            shot   gun          NaN   \n",
       "freq            NaN     49         8            2363  1398          NaN   \n",
       "mean    1445.731755    NaN       NaN             NaN   NaN    36.605370   \n",
       "std      794.259490    NaN       NaN             NaN   NaN    13.030774   \n",
       "min        3.000000    NaN       NaN             NaN   NaN     6.000000   \n",
       "25%      768.500000    NaN       NaN             NaN   NaN    26.000000   \n",
       "50%     1453.000000    NaN       NaN             NaN   NaN    34.000000   \n",
       "75%     2126.500000    NaN       NaN             NaN   NaN    45.000000   \n",
       "max     2822.000000    NaN       NaN             NaN   NaN    91.000000   \n",
       "\n",
       "       gender  race         city state signs_of_mental_illness threat_level  \\\n",
       "count    2535  2340         2535  2535                    2535         2535   \n",
       "unique      2     6         1417    51                       2            3   \n",
       "top         M     W  Los Angeles    CA                   False       attack   \n",
       "freq     2428  1201           39   424                    1902         1611   \n",
       "mean      NaN   NaN          NaN   NaN                     NaN          NaN   \n",
       "std       NaN   NaN          NaN   NaN                     NaN          NaN   \n",
       "min       NaN   NaN          NaN   NaN                     NaN          NaN   \n",
       "25%       NaN   NaN          NaN   NaN                     NaN          NaN   \n",
       "50%       NaN   NaN          NaN   NaN                     NaN          NaN   \n",
       "75%       NaN   NaN          NaN   NaN                     NaN          NaN   \n",
       "max       NaN   NaN          NaN   NaN                     NaN          NaN   \n",
       "\n",
       "               flee body_camera  \n",
       "count          2470        2535  \n",
       "unique            4           2  \n",
       "top     Not fleeing       False  \n",
       "freq           1695        2264  \n",
       "mean            NaN         NaN  \n",
       "std             NaN         NaN  \n",
       "min             NaN         NaN  \n",
       "25%             NaN         NaN  \n",
       "50%             NaN         NaN  \n",
       "75%             NaN         NaN  \n",
       "max             NaN         NaN  "
      ]
     },
     "execution_count": 73,
     "metadata": {},
     "output_type": "execute_result"
    }
   ],
   "source": [
    "kill.describe(include='all')"
   ]
  },
  {
   "cell_type": "code",
   "execution_count": 74,
   "id": "77c50887",
   "metadata": {},
   "outputs": [
    {
     "data": {
      "text/plain": [
       "(2535, 14)"
      ]
     },
     "execution_count": 74,
     "metadata": {},
     "output_type": "execute_result"
    }
   ],
   "source": [
    "kill.shape"
   ]
  },
  {
   "cell_type": "code",
   "execution_count": 75,
   "id": "28e44355",
   "metadata": {},
   "outputs": [],
   "source": [
    "kill.dropna(inplace=True)"
   ]
  },
  {
   "cell_type": "code",
   "execution_count": 76,
   "id": "1e2ac032",
   "metadata": {},
   "outputs": [
    {
     "data": {
      "text/plain": [
       "<AxesSubplot:xlabel='gender', ylabel='age'>"
      ]
     },
     "execution_count": 76,
     "metadata": {},
     "output_type": "execute_result"
    },
    {
     "data": {
      "image/png": "[encoded data removed]",
      "text/plain": [
       "<Figure size 432x288 with 1 Axes>"
      ]
     },
     "metadata": {
      "needs_background": "light"
     },
     "output_type": "display_data"
    }
   ],
   "source": [
    "sns.boxplot(x='gender', y='age', data=kill, hue='manner_of_death')"
   ]
  },
  {
   "cell_type": "code",
   "execution_count": 77,
   "id": "0f68ba86",
   "metadata": {},
   "outputs": [
    {
     "data": {
      "text/plain": [
       "<AxesSubplot:xlabel='gender', ylabel='age'>"
      ]
     },
     "execution_count": 77,
     "metadata": {},
     "output_type": "execute_result"
    },
    {
     "data": {
      "image/png": "[encoded data removed]",
      "text/plain": [
       "<Figure size 864x648 with 1 Axes>"
      ]
     },
     "metadata": {
      "needs_background": "light"
     },
     "output_type": "display_data"
    }
   ],
   "source": [
    "fig, ax = plt.subplots(figsize=(12,9))\n",
    "sns.swarmplot(x='gender', y='age', data=kill, hue='manner_of_death')"
   ]
  },
  {
   "cell_type": "code",
   "execution_count": 78,
   "id": "7522d071",
   "metadata": {},
   "outputs": [
    {
     "data": {
      "text/html": [
       "<div>\n",
       "<style scoped>\n",
       "    .dataframe tbody tr th:only-of-type {\n",
       "        vertical-align: middle;\n",
       "    }\n",
       "\n",
       "    .dataframe tbody tr th {\n",
       "        vertical-align: top;\n",
       "    }\n",
       "\n",
       "    .dataframe thead th {\n",
       "        text-align: right;\n",
       "    }\n",
       "</style>\n",
       "<table border=\"1\" class=\"dataframe\">\n",
       "  <thead>\n",
       "    <tr style=\"text-align: right;\">\n",
       "      <th></th>\n",
       "      <th>id</th>\n",
       "      <th>name</th>\n",
       "      <th>date</th>\n",
       "      <th>manner_of_death</th>\n",
       "      <th>armed</th>\n",
       "      <th>age</th>\n",
       "      <th>gender</th>\n",
       "      <th>race</th>\n",
       "      <th>city</th>\n",
       "      <th>state</th>\n",
       "      <th>signs_of_mental_illness</th>\n",
       "      <th>threat_level</th>\n",
       "      <th>flee</th>\n",
       "      <th>body_camera</th>\n",
       "    </tr>\n",
       "  </thead>\n",
       "  <tbody>\n",
       "    <tr>\n",
       "      <th>0</th>\n",
       "      <td>3</td>\n",
       "      <td>Tim Elliot</td>\n",
       "      <td>02/01/15</td>\n",
       "      <td>shot</td>\n",
       "      <td>gun</td>\n",
       "      <td>53.0</td>\n",
       "      <td>M</td>\n",
       "      <td>A</td>\n",
       "      <td>Shelton</td>\n",
       "      <td>WA</td>\n",
       "      <td>True</td>\n",
       "      <td>attack</td>\n",
       "      <td>Not fleeing</td>\n",
       "      <td>False</td>\n",
       "    </tr>\n",
       "  </tbody>\n",
       "</table>\n",
       "</div>"
      ],
      "text/plain": [
       "   id        name      date manner_of_death armed   age gender race     city  \\\n",
       "0   3  Tim Elliot  02/01/15            shot   gun  53.0      M    A  Shelton   \n",
       "\n",
       "  state  signs_of_mental_illness threat_level         flee  body_camera  \n",
       "0    WA                     True       attack  Not fleeing        False  "
      ]
     },
     "execution_count": 78,
     "metadata": {},
     "output_type": "execute_result"
    }
   ],
   "source": [
    "kill.head(1)"
   ]
  },
  {
   "cell_type": "code",
   "execution_count": 79,
   "id": "d0e08a3a",
   "metadata": {},
   "outputs": [
    {
     "data": {
      "text/plain": [
       "Los Angeles    35\n",
       "Phoenix        28\n",
       "Houston        24\n",
       "Chicago        22\n",
       "Austin         18\n",
       "               ..\n",
       "Burkesville     1\n",
       "Mesquite        1\n",
       "Norwood         1\n",
       "Opelika         1\n",
       "Oshkosh         1\n",
       "Name: city, Length: 1282, dtype: int64"
      ]
     },
     "execution_count": 79,
     "metadata": {},
     "output_type": "execute_result"
    }
   ],
   "source": [
    "kill.city.value_counts()"
   ]
  },
  {
   "cell_type": "code",
   "execution_count": 80,
   "id": "2072bfc8",
   "metadata": {},
   "outputs": [
    {
     "data": {
      "image/png": "[encoded data removed]",
      "text/plain": [
       "<Figure size 720x432 with 1 Axes>"
      ]
     },
     "metadata": {
      "needs_background": "light"
     },
     "output_type": "display_data"
    }
   ],
   "source": [
    "city_freq = kill.city.value_counts()[:10]\n",
    "fig, ax = plt.subplots(figsize=(10, 6))\n",
    "ax = sns.barplot(x=city_freq.index, y=city_freq.values)"
   ]
  },
  {
   "cell_type": "code",
   "execution_count": 81,
   "id": "a92278e8",
   "metadata": {},
   "outputs": [
    {
     "data": {
      "text/plain": [
       "<AxesSubplot:xlabel='city', ylabel='count'>"
      ]
     },
     "execution_count": 81,
     "metadata": {},
     "output_type": "execute_result"
    },
    {
     "data": {
      "image/png": "[encoded data removed]",
      "text/plain": [
       "<Figure size 432x288 with 1 Axes>"
      ]
     },
     "metadata": {
      "needs_background": "light"
     },
     "output_type": "display_data"
    }
   ],
   "source": [
    "ax.set_xticklabels(city_freq.index,rotation=45)\n",
    "ax.set_title('Duck and Cover', color='red', fontsize=12)\n",
    "sns.countplot(x='city', data=kill, order=city_freq.index)"
   ]
  },
  {
   "cell_type": "code",
   "execution_count": 82,
   "id": "df89b6ca",
   "metadata": {},
   "outputs": [
    {
     "data": {
      "text/plain": [
       "CA    366\n",
       "TX    200\n",
       "FL    136\n",
       "AZ    105\n",
       "OH     70\n",
       "NC     66\n",
       "OK     65\n",
       "CO     63\n",
       "GA     61\n",
       "MO     58\n",
       "TN     56\n",
       "IL     56\n",
       "WA     51\n",
       "LA     47\n",
       "AL     45\n",
       "PA     45\n",
       "NY     43\n",
       "VA     43\n",
       "WI     42\n",
       "NM     41\n",
       "Name: state, dtype: int64"
      ]
     },
     "execution_count": 82,
     "metadata": {},
     "output_type": "execute_result"
    }
   ],
   "source": [
    "state_freq =  kill.state.value_counts()[:20]\n",
    "state_freq"
   ]
  },
  {
   "cell_type": "code",
   "execution_count": 83,
   "id": "2ca91483",
   "metadata": {},
   "outputs": [
    {
     "data": {
      "text/plain": [
       "CA    366\n",
       "TX    200\n",
       "FL    136\n",
       "AZ    105\n",
       "OH     70\n",
       "NC     66\n",
       "OK     65\n",
       "CO     63\n",
       "GA     61\n",
       "MO     58\n",
       "TN     56\n",
       "IL     56\n",
       "WA     51\n",
       "LA     47\n",
       "AL     45\n",
       "PA     45\n",
       "NY     43\n",
       "VA     43\n",
       "WI     42\n",
       "NM     41\n",
       "SC     41\n",
       "IN     40\n",
       "KY     40\n",
       "MD     36\n",
       "MI     36\n",
       "NV     34\n",
       "OR     32\n",
       "MN     31\n",
       "NJ     30\n",
       "KS     24\n",
       "UT     22\n",
       "MS     22\n",
       "MA     22\n",
       "WV     21\n",
       "AR     20\n",
       "AK     14\n",
       "NE     14\n",
       "ID     14\n",
       "IA     12\n",
       "MT     11\n",
       "HI     11\n",
       "DC     11\n",
       "ME     10\n",
       "SD      9\n",
       "DE      8\n",
       "CT      7\n",
       "NH      7\n",
       "WY      7\n",
       "ND      4\n",
       "VT      3\n",
       "RI      2\n",
       "Name: state, dtype: int64"
      ]
     },
     "execution_count": 83,
     "metadata": {},
     "output_type": "execute_result"
    }
   ],
   "source": [
    "kill.state.value_counts()"
   ]
  },
  {
   "cell_type": "code",
   "execution_count": 84,
   "id": "8023242f",
   "metadata": {},
   "outputs": [
    {
     "data": {
      "text/plain": [
       "state\n",
       "CA    366\n",
       "TX    200\n",
       "FL    136\n",
       "AZ    105\n",
       "OH     70\n",
       "NC     66\n",
       "OK     65\n",
       "CO     63\n",
       "GA     61\n",
       "MO     58\n",
       "TN     56\n",
       "IL     56\n",
       "WA     51\n",
       "LA     47\n",
       "PA     45\n",
       "AL     45\n",
       "VA     43\n",
       "NY     43\n",
       "WI     42\n",
       "SC     41\n",
       "Name: state, dtype: int64"
      ]
     },
     "execution_count": 84,
     "metadata": {},
     "output_type": "execute_result"
    }
   ],
   "source": [
    "kill.groupby('state')['state'].count().sort_values(ascending=False)[:20]"
   ]
  },
  {
   "cell_type": "code",
   "execution_count": 85,
   "id": "bb6f7b05",
   "metadata": {},
   "outputs": [
    {
     "data": {
      "text/plain": [
       "<AxesSubplot:>"
      ]
     },
     "execution_count": 85,
     "metadata": {},
     "output_type": "execute_result"
    },
    {
     "data": {
      "image/png": "[encoded data removed]",
      "text/plain": [
       "<Figure size 720x432 with 1 Axes>"
      ]
     },
     "metadata": {
      "needs_background": "light"
     },
     "output_type": "display_data"
    }
   ],
   "source": [
    "fig, ax = plt.subplots(figsize=(10, 6))\n",
    "sns.barplot(x=state_freq.index, y=state_freq.values, data= kill)"
   ]
  },
  {
   "cell_type": "code",
   "execution_count": 86,
   "id": "32656753",
   "metadata": {},
   "outputs": [
    {
     "data": {
      "image/png": "[encoded data removed]",
      "text/plain": [
       "<Figure size 432x288 with 1 Axes>"
      ]
     },
     "metadata": {
      "needs_background": "light"
     },
     "output_type": "display_data"
    }
   ],
   "source": [
    "ax.set_title(\"Kills by State\", color='green', fontsize=18)\n",
    "sns.countplot(kill.signs_of_mental_illness)\n",
    "for p in ax.patches:\n",
    "    ax.annotate(p.get_height(), (p.get_x()+.1, p.get_height()+1))"
   ]
  },
  {
   "cell_type": "code",
   "execution_count": 87,
   "id": "18b7ad05",
   "metadata": {},
   "outputs": [
    {
     "data": {
      "text/plain": [
       "<AxesSubplot:xlabel='flee', ylabel='count'>"
      ]
     },
     "execution_count": 87,
     "metadata": {},
     "output_type": "execute_result"
    },
    {
     "data": {
      "image/png": "[encoded data removed]",
      "text/plain": [
       "<Figure size 432x288 with 1 Axes>"
      ]
     },
     "metadata": {
      "needs_background": "light"
     },
     "output_type": "display_data"
    }
   ],
   "source": [
    "flee_freq = kill.flee.value_counts()\n",
    "flee_freq\n",
    "sns.countplot(kill.flee)"
   ]
  },
  {
   "cell_type": "code",
   "execution_count": 88,
   "id": "85277084",
   "metadata": {},
   "outputs": [
    {
     "data": {
      "text/plain": [
       "<AxesSubplot:xlabel='flee', ylabel='count'>"
      ]
     },
     "execution_count": 88,
     "metadata": {},
     "output_type": "execute_result"
    },
    {
     "data": {
      "image/png": "[encoded data removed]",
      "text/plain": [
       "<Figure size 432x288 with 1 Axes>"
      ]
     },
     "metadata": {
      "needs_background": "light"
     },
     "output_type": "display_data"
    }
   ],
   "source": [
    "sns.countplot(x='flee', hue='armed', data=kill)"
   ]
  },
  {
   "cell_type": "code",
   "execution_count": 89,
   "id": "a7806c5a",
   "metadata": {},
   "outputs": [
    {
     "data": {
      "text/html": [
       "<div>\n",
       "<style scoped>\n",
       "    .dataframe tbody tr th:only-of-type {\n",
       "        vertical-align: middle;\n",
       "    }\n",
       "\n",
       "    .dataframe tbody tr th {\n",
       "        vertical-align: top;\n",
       "    }\n",
       "\n",
       "    .dataframe thead th {\n",
       "        text-align: right;\n",
       "    }\n",
       "</style>\n",
       "<table border=\"1\" class=\"dataframe\">\n",
       "  <thead>\n",
       "    <tr style=\"text-align: right;\">\n",
       "      <th></th>\n",
       "      <th>id</th>\n",
       "      <th>name</th>\n",
       "      <th>date</th>\n",
       "      <th>manner_of_death</th>\n",
       "      <th>armed</th>\n",
       "      <th>age</th>\n",
       "      <th>gender</th>\n",
       "      <th>race</th>\n",
       "      <th>city</th>\n",
       "      <th>state</th>\n",
       "      <th>signs_of_mental_illness</th>\n",
       "      <th>threat_level</th>\n",
       "      <th>flee</th>\n",
       "      <th>body_camera</th>\n",
       "      <th>unarmed</th>\n",
       "    </tr>\n",
       "  </thead>\n",
       "  <tbody>\n",
       "    <tr>\n",
       "      <th>0</th>\n",
       "      <td>3</td>\n",
       "      <td>Tim Elliot</td>\n",
       "      <td>02/01/15</td>\n",
       "      <td>shot</td>\n",
       "      <td>gun</td>\n",
       "      <td>53.0</td>\n",
       "      <td>M</td>\n",
       "      <td>A</td>\n",
       "      <td>Shelton</td>\n",
       "      <td>WA</td>\n",
       "      <td>True</td>\n",
       "      <td>attack</td>\n",
       "      <td>Not fleeing</td>\n",
       "      <td>False</td>\n",
       "      <td>NaN</td>\n",
       "    </tr>\n",
       "  </tbody>\n",
       "</table>\n",
       "</div>"
      ],
      "text/plain": [
       "   id        name      date manner_of_death armed   age gender race     city  \\\n",
       "0   3  Tim Elliot  02/01/15            shot   gun  53.0      M    A  Shelton   \n",
       "\n",
       "  state  signs_of_mental_illness threat_level         flee  body_camera  \\\n",
       "0    WA                     True       attack  Not fleeing        False   \n",
       "\n",
       "  unarmed  \n",
       "0     NaN  "
      ]
     },
     "execution_count": 89,
     "metadata": {},
     "output_type": "execute_result"
    }
   ],
   "source": [
    "kill['unarmed'] = kill[kill['armed']=='unarmed']['armed']  # ???\n",
    "kill.head(1)"
   ]
  },
  {
   "cell_type": "code",
   "execution_count": 90,
   "id": "bbd6be86",
   "metadata": {},
   "outputs": [
    {
     "data": {
      "text/plain": [
       "Not fleeing    1528\n",
       "Car             360\n",
       "Foot            278\n",
       "Other            88\n",
       "Name: flee, dtype: int64"
      ]
     },
     "execution_count": 90,
     "metadata": {},
     "output_type": "execute_result"
    }
   ],
   "source": [
    "ff = kill.flee.value_counts()\n",
    "ff "
   ]
  },
  {
   "cell_type": "code",
   "execution_count": 91,
   "id": "f0ee9698",
   "metadata": {},
   "outputs": [
    {
     "data": {
      "text/plain": [
       "<AxesSubplot:xlabel='threat_level', ylabel='count'>"
      ]
     },
     "execution_count": 91,
     "metadata": {},
     "output_type": "execute_result"
    },
    {
     "data": {
      "image/png": "[encoded data removed]",
      "text/plain": [
       "<Figure size 432x288 with 1 Axes>"
      ]
     },
     "metadata": {
      "needs_background": "light"
     },
     "output_type": "display_data"
    }
   ],
   "source": [
    "threats_freq = kill.threat_level.value_counts()\n",
    "threats_freq \n",
    "sns.countplot(x='threat_level', data=kill)"
   ]
  }
 ],
 "metadata": {
  "kernelspec": {
   "display_name": "Python 3 (ipykernel)",
   "language": "python",
   "name": "python3"
  },
  "language_info": {
   "codemirror_mode": {
    "name": "ipython",
    "version": 3
   },
   "file_extension": ".py",
   "mimetype": "text/x-python",
   "name": "python",
   "nbconvert_exporter": "python",
   "pygments_lexer": "ipython3",
   "version": "3.9.7"
  }
 },
 "nbformat": 4,
 "nbformat_minor": 5
}
